{
 "cells": [
  {
   "cell_type": "code",
   "execution_count": 4,
   "id": "0395d545-7823-42af-a4e9-3c22ba3af091",
   "metadata": {},
   "outputs": [],
   "source": [
    "def ord(a,m):\n",
    "    if gcd(a,m) != 1:\n",
    "        raise NotImplementedError(f\"a and m are not coprime\")\n",
    "    phi = euler_phi(m)\n",
    "    divisors = [i for i in range(1,phi+1) if (phi % i) == 0]\n",
    "    for i in divisors:\n",
    "        if (a**i % m) == 1:\n",
    "            return i"
   ]
  },
  {
   "cell_type": "code",
   "execution_count": 3,
   "id": "e19e2c46-2d26-4217-acd5-bdf4b9af80b5",
   "metadata": {},
   "outputs": [
    {
     "name": "stdout",
     "output_type": "stream",
     "text": [
      "3\n",
      "5\n",
      "10\n",
      "12\n",
      "17\n",
      "24\n",
      "26\n"
     ]
    },
    {
     "ename": "KeyboardInterrupt",
     "evalue": "",
     "output_type": "error",
     "traceback": [
      "\u001b[0;31m---------------------------------------------------------------------------\u001b[0m",
      "\u001b[0;31mKeyboardInterrupt\u001b[0m                         Traceback (most recent call last)",
      "Cell \u001b[0;32mIn[3], line 5\u001b[0m\n\u001b[1;32m      3\u001b[0m \u001b[38;5;28;01mfor\u001b[39;00m a \u001b[38;5;129;01min\u001b[39;00m \u001b[38;5;28mrange\u001b[39m(Integer(\u001b[38;5;241m50\u001b[39m)):\n\u001b[1;32m      4\u001b[0m     \u001b[38;5;28;01mif\u001b[39;00m gcd(a,m) \u001b[38;5;241m==\u001b[39m Integer(\u001b[38;5;241m1\u001b[39m):\n\u001b[0;32m----> 5\u001b[0m         \u001b[38;5;28;01mif\u001b[39;00m \u001b[38;5;28;43mord\u001b[39;49m\u001b[43m(\u001b[49m\u001b[43ma\u001b[49m\u001b[43m,\u001b[49m\u001b[43mm\u001b[49m\u001b[43m)\u001b[49m \u001b[38;5;241m==\u001b[39m euler_phi(m):\n\u001b[1;32m      6\u001b[0m             \u001b[38;5;28mprint\u001b[39m(a)\n",
      "Cell \u001b[0;32mIn[2], line 7\u001b[0m, in \u001b[0;36mord\u001b[0;34m(a, m)\u001b[0m\n\u001b[1;32m      5\u001b[0m divisors \u001b[38;5;241m=\u001b[39m [i \u001b[38;5;28;01mfor\u001b[39;00m i \u001b[38;5;129;01min\u001b[39;00m \u001b[38;5;28mrange\u001b[39m(Integer(\u001b[38;5;241m1\u001b[39m),phi\u001b[38;5;241m+\u001b[39mInteger(\u001b[38;5;241m1\u001b[39m)) \u001b[38;5;28;01mif\u001b[39;00m (phi \u001b[38;5;241m%\u001b[39m i) \u001b[38;5;241m==\u001b[39m Integer(\u001b[38;5;241m0\u001b[39m)]\n\u001b[1;32m      6\u001b[0m \u001b[38;5;28;01mfor\u001b[39;00m i \u001b[38;5;129;01min\u001b[39;00m divisors:\n\u001b[0;32m----> 7\u001b[0m     \u001b[38;5;28;01mif\u001b[39;00m (\u001b[43ma\u001b[49m\u001b[38;5;241;43m*\u001b[39;49m\u001b[38;5;241;43m*\u001b[39;49m\u001b[43mi\u001b[49m \u001b[38;5;241m%\u001b[39m m) \u001b[38;5;241m==\u001b[39m Integer(\u001b[38;5;241m1\u001b[39m):\n\u001b[1;32m      8\u001b[0m         \u001b[38;5;28;01mreturn\u001b[39;00m i\n",
      "File \u001b[0;32msrc/cysignals/signals.pyx:341\u001b[0m, in \u001b[0;36mcysignals.signals.python_check_interrupt\u001b[0;34m()\u001b[0m\n",
      "\u001b[0;31mKeyboardInterrupt\u001b[0m: "
     ]
    }
   ],
   "source": [
    "# Aufgabe 1b\n",
    "m=7^7\n",
    "for a in range(50):\n",
    "    if gcd(a,m) == 1:\n",
    "        if ord(a,m) == euler_phi(m):\n",
    "            print(a)"
   ]
  },
  {
   "cell_type": "code",
   "execution_count": 5,
   "id": "a5df819e-58e9-4d5b-a8c0-11dd975f44f7",
   "metadata": {},
   "outputs": [
    {
     "name": "stdout",
     "output_type": "stream",
     "text": [
      "3\n",
      "5\n",
      "7\n",
      "11\n",
      "23\n",
      "27\n",
      "29\n",
      "31\n"
     ]
    }
   ],
   "source": [
    "# Aufgabe 2\n",
    "m=34\n",
    "for a in range(1,33):\n",
    "    if gcd(a,m) == 1:\n",
    "        if ord(a,m) == euler_phi(m):\n",
    "            print(a)"
   ]
  },
  {
   "cell_type": "code",
   "execution_count": 4,
   "id": "8b09d304-a9f3-47ed-8dcf-5ddb87fc760d",
   "metadata": {
    "scrolled": true
   },
   "outputs": [
    {
     "name": "stdout",
     "output_type": "stream",
     "text": [
      "1\n",
      "4\n",
      "9\n",
      "16\n",
      "25\n",
      "36\n",
      "49\n",
      "64\n",
      "81\n",
      "100\n",
      "121\n",
      "19\n",
      "44\n",
      "71\n",
      "100\n",
      "6\n",
      "39\n",
      "74\n",
      "111\n",
      "25\n",
      "66\n",
      "109\n",
      "29\n",
      "76\n",
      "0\n",
      "51\n",
      "104\n",
      "34\n",
      "91\n",
      "25\n",
      "86\n",
      "24\n",
      "89\n",
      "31\n",
      "100\n",
      "46\n",
      "119\n",
      "69\n",
      "21\n",
      "100\n",
      "56\n",
      "14\n",
      "99\n",
      "61\n",
      "25\n",
      "116\n",
      "84\n",
      "54\n",
      "26\n",
      "0\n",
      "101\n",
      "79\n",
      "59\n",
      "41\n",
      "25\n",
      "11\n",
      "124\n",
      "114\n",
      "106\n",
      "100\n",
      "96\n",
      "94\n",
      "94\n"
     ]
    }
   ],
   "source": [
    "#Aufgabe 4\n",
    "for i in range(1,64):\n",
    "    print((i**2) % 125)"
   ]
  },
  {
   "cell_type": "code",
   "execution_count": 11,
   "id": "52aa131b-82b2-48e9-9f4e-0b9431dd6f2c",
   "metadata": {
    "scrolled": true
   },
   "outputs": [
    {
     "data": {
      "text/plain": [
       "{0,\n",
       " 1,\n",
       " 4,\n",
       " 6,\n",
       " 9,\n",
       " 11,\n",
       " 14,\n",
       " 16,\n",
       " 19,\n",
       " 21,\n",
       " 24,\n",
       " 25,\n",
       " 26,\n",
       " 29,\n",
       " 31,\n",
       " 34,\n",
       " 36,\n",
       " 39,\n",
       " 41,\n",
       " 44,\n",
       " 46,\n",
       " 49,\n",
       " 51,\n",
       " 54,\n",
       " 56,\n",
       " 59,\n",
       " 61,\n",
       " 64,\n",
       " 66,\n",
       " 69,\n",
       " 71,\n",
       " 74,\n",
       " 76,\n",
       " 79,\n",
       " 81,\n",
       " 84,\n",
       " 86,\n",
       " 89,\n",
       " 91,\n",
       " 94,\n",
       " 96,\n",
       " 99,\n",
       " 100,\n",
       " 101,\n",
       " 104,\n",
       " 106,\n",
       " 109,\n",
       " 111,\n",
       " 114,\n",
       " 116,\n",
       " 119,\n",
       " 121,\n",
       " 124}"
      ]
     },
     "execution_count": 11,
     "metadata": {},
     "output_type": "execute_result"
    }
   ],
   "source": [
    "#Aufgabe 4b (Menge)\n",
    "res = set()\n",
    "for i in range(1,64):\n",
    "    res = res.union({(i**2) % 125})\n",
    "res"
   ]
  },
  {
   "cell_type": "code",
   "execution_count": 12,
   "id": "ad81270c-70a5-4a0a-ac0d-83b335c6039c",
   "metadata": {},
   "outputs": [
    {
     "data": {
      "text/plain": [
       "53"
      ]
     },
     "execution_count": 12,
     "metadata": {},
     "output_type": "execute_result"
    }
   ],
   "source": [
    "len(res)"
   ]
  },
  {
   "cell_type": "code",
   "execution_count": 16,
   "id": "2a4b4539-f966-4b37-9de4-995d22672f19",
   "metadata": {},
   "outputs": [],
   "source": [
    "def g(a):\n",
    "    m= 7^7\n",
    "    for i in range(6):\n",
    "        k = 7**i\n",
    "        if a**k == 1 % m:\n",
    "            break\n",
    "        if a**(2*k) == 1 % m:\n",
    "            break\n",
    "        if i == 6:\n",
    "             if a**(3*k) == -1 % m:\n",
    "                 return True\n",
    "        if a**(3*k) == 1 % m:\n",
    "            break\n",
    "        if a**(6*k) == 1 % m:\n",
    "            if i == 6:\n",
    "                return true\n",
    "            break\n",
    "    return false"
   ]
  },
  {
   "cell_type": "code",
   "execution_count": 40,
   "id": "74342a3e-c6cc-424e-86a7-8d39e371d0fa",
   "metadata": {},
   "outputs": [
    {
     "data": {
      "text/plain": [
       "[1, 2, 3, 4, 5, 6, 7]"
      ]
     },
     "execution_count": 40,
     "metadata": {},
     "output_type": "execute_result"
    }
   ],
   "source": [
    "[i for i in range(1,8)]\n"
   ]
  },
  {
   "cell_type": "code",
   "execution_count": 18,
   "id": "ce42d30e-3d6b-4dc0-bf28-59a0abe4a8f4",
   "metadata": {},
   "outputs": [],
   "source": [
    "for a in range(1000, 2000):\n",
    "    if g(a):\n",
    "        print(a)"
   ]
  },
  {
   "cell_type": "code",
   "execution_count": 19,
   "id": "823285cd-af79-43c9-ae89-d95c4b4323e5",
   "metadata": {},
   "outputs": [
    {
     "ename": "KeyboardInterrupt",
     "evalue": "",
     "output_type": "error",
     "traceback": [
      "\u001b[0;31m---------------------------------------------------------------------------\u001b[0m",
      "\u001b[0;31mKeyboardInterrupt\u001b[0m                         Traceback (most recent call last)",
      "Cell \u001b[0;32mIn[19], line 2\u001b[0m\n\u001b[1;32m      1\u001b[0m \u001b[38;5;28;01mfor\u001b[39;00m a \u001b[38;5;129;01min\u001b[39;00m \u001b[38;5;28mrange\u001b[39m(Integer(\u001b[38;5;241m2000\u001b[39m), Integer(\u001b[38;5;241m20000\u001b[39m)):\n\u001b[0;32m----> 2\u001b[0m     \u001b[38;5;28;01mif\u001b[39;00m \u001b[43mg\u001b[49m\u001b[43m(\u001b[49m\u001b[43ma\u001b[49m\u001b[43m)\u001b[49m:\n\u001b[1;32m      3\u001b[0m         \u001b[38;5;28mprint\u001b[39m(a)\n",
      "Cell \u001b[0;32mIn[16], line 14\u001b[0m, in \u001b[0;36mg\u001b[0;34m(a)\u001b[0m\n\u001b[1;32m     12\u001b[0m \u001b[38;5;28;01mif\u001b[39;00m a\u001b[38;5;241m*\u001b[39m\u001b[38;5;241m*\u001b[39m(Integer(\u001b[38;5;241m3\u001b[39m)\u001b[38;5;241m*\u001b[39mk) \u001b[38;5;241m==\u001b[39m Integer(\u001b[38;5;241m1\u001b[39m) \u001b[38;5;241m%\u001b[39m m:\n\u001b[1;32m     13\u001b[0m     \u001b[38;5;28;01mbreak\u001b[39;00m\n\u001b[0;32m---> 14\u001b[0m \u001b[38;5;28;01mif\u001b[39;00m \u001b[43ma\u001b[49m\u001b[38;5;241;43m*\u001b[39;49m\u001b[38;5;241;43m*\u001b[39;49m\u001b[43m(\u001b[49m\u001b[43mInteger\u001b[49m\u001b[43m(\u001b[49m\u001b[38;5;241;43m6\u001b[39;49m\u001b[43m)\u001b[49m\u001b[38;5;241;43m*\u001b[39;49m\u001b[43mk\u001b[49m\u001b[43m)\u001b[49m \u001b[38;5;241m==\u001b[39m Integer(\u001b[38;5;241m1\u001b[39m) \u001b[38;5;241m%\u001b[39m m:\n\u001b[1;32m     15\u001b[0m     \u001b[38;5;28;01mif\u001b[39;00m i \u001b[38;5;241m==\u001b[39m Integer(\u001b[38;5;241m6\u001b[39m):\n\u001b[1;32m     16\u001b[0m         \u001b[38;5;28;01mreturn\u001b[39;00m true\n",
      "File \u001b[0;32m/usr/lib/python3.12/site-packages/sage/rings/integer.pyx:2192\u001b[0m, in \u001b[0;36msage.rings.integer.Integer.__pow__ (build/cythonized/sage/rings/integer.c:25187)\u001b[0;34m()\u001b[0m\n\u001b[1;32m   2190\u001b[0m         return coercion_model.bin_op(left, right, operator.pow)\n\u001b[1;32m   2191\u001b[0m     # left is a non-Element: do the powering with a Python int\n\u001b[0;32m-> 2192\u001b[0m     return left ** int(right)\n\u001b[1;32m   2193\u001b[0m \n\u001b[1;32m   2194\u001b[0m cpdef _pow_(self, other) noexcept:\n",
      "File \u001b[0;32msrc/cysignals/signals.pyx:341\u001b[0m, in \u001b[0;36mcysignals.signals.python_check_interrupt\u001b[0;34m()\u001b[0m\n",
      "\u001b[0;31mKeyboardInterrupt\u001b[0m: "
     ]
    }
   ],
   "source": [
    "for a in range(2000, 20000):\n",
    "    if g(a):\n",
    "        print(a)"
   ]
  },
  {
   "cell_type": "code",
   "execution_count": 33,
   "id": "2ade5553-dc03-4a34-86eb-5ce05634bca8",
   "metadata": {},
   "outputs": [],
   "source": [
    "def f(n):\n",
    "    for k in [5,2*5, 19, 2*19, 5*19, 2*5*19]:\n",
    "        r= (n**k) % 191\n",
    "        print([k,r])\n",
    "        if r == 1:\n",
    "            print(\"found\" , k)\n",
    "            break"
   ]
  },
  {
   "cell_type": "code",
   "execution_count": 34,
   "id": "b5ca3044-49b9-43da-aba0-c232ffdab7a3",
   "metadata": {},
   "outputs": [
    {
     "name": "stdout",
     "output_type": "stream",
     "text": [
      "[5, 32]\n",
      "[10, 69]\n",
      "[19, 184]\n",
      "[38, 49]\n",
      "[95, 1]\n",
      "found 95\n"
     ]
    }
   ],
   "source": [
    "f(2)"
   ]
  },
  {
   "cell_type": "code",
   "execution_count": 32,
   "id": "dcb4b036-19a2-46dc-8e16-1f5455584e75",
   "metadata": {},
   "outputs": [
    {
     "data": {
      "text/plain": [
       "1"
      ]
     },
     "execution_count": 32,
     "metadata": {},
     "output_type": "execute_result"
    }
   ],
   "source": [
    "2**95 % 191"
   ]
  },
  {
   "cell_type": "code",
   "execution_count": 35,
   "id": "bcb2464b-6bce-4e8d-9b96-44b5783c88e1",
   "metadata": {},
   "outputs": [
    {
     "name": "stdout",
     "output_type": "stream",
     "text": [
      "[5, 52]\n",
      "[10, 30]\n",
      "[19, 109]\n",
      "[38, 39]\n",
      "[95, 1]\n",
      "found 95\n"
     ]
    }
   ],
   "source": [
    "f(3)"
   ]
  },
  {
   "cell_type": "code",
   "execution_count": 36,
   "id": "5db52afd-5254-40b2-ad4f-15d04311d85a",
   "metadata": {},
   "outputs": [
    {
     "name": "stdout",
     "output_type": "stream",
     "text": [
      "[5, 69]\n",
      "[10, 177]\n",
      "[19, 1]\n",
      "found 19\n"
     ]
    }
   ],
   "source": [
    "f(5)"
   ]
  },
  {
   "cell_type": "code",
   "execution_count": 37,
   "id": "0c3dc098-b1a7-4612-9939-1d9d35e421ae",
   "metadata": {},
   "outputs": [
    {
     "name": "stdout",
     "output_type": "stream",
     "text": [
      "[5, 190]\n",
      "[10, 1]\n",
      "found 10\n"
     ]
    }
   ],
   "source": [
    "f(7)"
   ]
  },
  {
   "cell_type": "code",
   "execution_count": 41,
   "id": "852899aa-304a-4d7e-bcfa-b9e35e1202f0",
   "metadata": {},
   "outputs": [
    {
     "data": {
      "text/plain": [
       "1"
      ]
     },
     "execution_count": 41,
     "metadata": {},
     "output_type": "execute_result"
    }
   ],
   "source": [
    "(17**6) % 7"
   ]
  },
  {
   "cell_type": "code",
   "execution_count": 48,
   "id": "29008551-8bb4-4914-a7f4-cbe9c4fc2239",
   "metadata": {},
   "outputs": [
    {
     "data": {
      "text/plain": [
       "1"
      ]
     },
     "execution_count": 48,
     "metadata": {},
     "output_type": "execute_result"
    }
   ],
   "source": [
    "(17**6) % 13\n"
   ]
  },
  {
   "cell_type": "code",
   "execution_count": 57,
   "id": "5fa41f7a-16ee-4435-aac4-369ae678d29d",
   "metadata": {},
   "outputs": [
    {
     "data": {
      "text/plain": [
       "36"
      ]
     },
     "execution_count": 57,
     "metadata": {},
     "output_type": "execute_result"
    }
   ],
   "source": [
    "(35**18)%37"
   ]
  },
  {
   "cell_type": "code",
   "execution_count": 58,
   "id": "b03491e1-a803-4e22-8447-438d52698c95",
   "metadata": {},
   "outputs": [
    {
     "data": {
      "text/plain": [
       "180"
      ]
     },
     "execution_count": 58,
     "metadata": {},
     "output_type": "execute_result"
    }
   ],
   "source": [
    "2*2*3*3*5"
   ]
  },
  {
   "cell_type": "code",
   "execution_count": 63,
   "id": "83a3d351-71a8-408e-b419-1dc936b17893",
   "metadata": {},
   "outputs": [
    {
     "data": {
      "text/plain": [
       "51"
      ]
     },
     "execution_count": 63,
     "metadata": {},
     "output_type": "execute_result"
    }
   ],
   "source": [
    "561/11"
   ]
  },
  {
   "cell_type": "code",
   "execution_count": null,
   "id": "61bf2b2a-0e72-4b92-8317-4dbd89d6936f",
   "metadata": {},
   "outputs": [],
   "source": []
  }
 ],
 "metadata": {
  "kernelspec": {
   "display_name": "SageMath 10.3",
   "language": "sage",
   "name": "sagemath"
  },
  "language_info": {
   "codemirror_mode": {
    "name": "ipython",
    "version": 3
   },
   "file_extension": ".py",
   "mimetype": "text/x-python",
   "name": "python",
   "nbconvert_exporter": "python",
   "pygments_lexer": "ipython3",
   "version": "3.12.3"
  }
 },
 "nbformat": 4,
 "nbformat_minor": 5
}
