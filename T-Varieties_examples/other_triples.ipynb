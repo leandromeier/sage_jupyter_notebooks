{
 "cells": [
  {
   "cell_type": "code",
   "execution_count": 1,
   "id": "714011f0-050f-47e6-aa75-09f3e3222abd",
   "metadata": {},
   "outputs": [],
   "source": [
    "import sys\n",
    "sys.path.insert(0, '/home/leandro/math/sage/sage_tvars')\n",
    "from tvars import *\n",
    "PS=ProjectiveSpace(1,QQ)\n",
    "BR = QQ;"
   ]
  },
  {
   "cell_type": "code",
   "execution_count": 74,
   "id": "aa270647-ea15-40d8-9271-09a845ca3171",
   "metadata": {},
   "outputs": [
    {
     "data": {
      "text/plain": [
       "PolyhedralDivisor with support {(0 : 1), (1 : 0), (1 : 1)}"
      ]
     },
     "execution_count": 74,
     "metadata": {},
     "output_type": "execute_result"
    }
   ],
   "source": [
    "n=2\n",
    "#(2,2,r)\n",
    "r = 12\n",
    "E = ((QQ)^n).basis();\n",
    "v0= (1/2)*E[0]\n",
    "#print(v0)\n",
    "v_inf= (-1/r)*E[0]\n",
    "v1= (1/2)*E[1]\n",
    "#v2 = vector([0,0,1])\n",
    "#v3 = vector([1,2,2])\n",
    "z = zero_vector(ZZ,n)\n",
    "sigma1 = Cone([v0 + v_inf, v0 + v1 + v_inf]).rays()\n",
    "#sigma1 = [[1,0],[1,1]]\n",
    "# the p-divisor\n",
    "dict1 = {PS(0,1) : Polyhedron(vertices=[v0],rays=sigma1),\n",
    "        PS(1,0) : Polyhedron(vertices=[v_inf],rays=sigma1),\n",
    "        PS(1,1) : Polyhedron(vertices=[z,v1],rays=sigma1),\n",
    "        #PS(2,1) : Polyhedron(vertices=[z, v2],rays=sigma1),\n",
    "        #PS(1,3) : Polyhedron(vertices=[zero_vector(ZZ,n),v3],rays=sigma),\n",
    "       }\n",
    "D1 = PolyhedralDivisor(dict1);\n",
    "if not D1.is_proper():\n",
    "    #print(\"not proper\")\n",
    "    raise NotImplementedError(f\"The divisor is not proper.\")\n",
    "if not D1.is_Q_Gorenstein():\n",
    "    #print(\"Not Q-G\")\n",
    "    raise NotImplementedError(f\"The variety is not Q-Gorenstein.\")\n",
    "D1"
   ]
  },
  {
   "cell_type": "code",
   "execution_count": 75,
   "id": "8cdbfc0d-8bbb-4815-a4d1-6bbb392832af",
   "metadata": {},
   "outputs": [
    {
     "data": {
      "text/plain": [
       "1"
      ]
     },
     "execution_count": 75,
     "metadata": {},
     "output_type": "execute_result"
    }
   ],
   "source": [
    "D1.mld()"
   ]
  },
  {
   "cell_type": "code",
   "execution_count": 55,
   "id": "fb5e44b0-728e-4b02-a9ef-ccbb71794e4b",
   "metadata": {},
   "outputs": [
    {
     "data": {
      "text/plain": [
       "[2, (0 : 1)]"
      ]
     },
     "execution_count": 55,
     "metadata": {},
     "output_type": "execute_result"
    }
   ],
   "source": [
    "D1.vert_mld2(PS(2,1))"
   ]
  },
  {
   "cell_type": "code",
   "execution_count": 56,
   "id": "8706437f-8803-463a-be32-171d661f6c8d",
   "metadata": {},
   "outputs": [],
   "source": [
    "def ray_sum(D, y1, y2, ray_list= None):\n",
    "    n = D.tail.dim() + 1\n",
    "    C1 = D.degeneration(y2)\n",
    "    if ray_list == None:\n",
    "        ray_list = [int(i) for i in range(n)]\n",
    "        #print(ray_list)\n",
    "    w = vector(QQ, sum(C1.rays()[i] for i in ray_list))\n",
    "    print(w)\n",
    "    w_n = (-1/w[n-1])*w\n",
    "    #print(w_n)\n",
    "    w_n = w_n[0:n-1]\n",
    "    mu_w = lcm(w_i.denominator() for w_i in w_n if w_i != 0)\n",
    "    print(w_n)\n",
    "    return D.coefficient(y1).relative_interior_contains(w_n)"
   ]
  },
  {
   "cell_type": "code",
   "execution_count": 58,
   "id": "c433ae9f-4281-4ff4-bf99-a752ce5e253d",
   "metadata": {},
   "outputs": [
    {
     "name": "stdout",
     "output_type": "stream",
     "text": [
      "(1, 1, 1)\n",
      "(-1, -1)\n",
      "(3, 1, -7)\n",
      "(3/7, 1/7)\n",
      "(-2, 5, -13)\n",
      "(-2/13, 5/13)\n",
      "(3, 1, -7)\n",
      "(3/7, 1/7)\n",
      "(-2, 5, -13)\n",
      "(-2/13, 5/13)\n",
      "(1, 1, 1)\n",
      "(-1, -1)\n"
     ]
    },
    {
     "data": {
      "text/plain": [
       "[False, False, False, True, False, False]"
      ]
     },
     "execution_count": 58,
     "metadata": {},
     "output_type": "execute_result"
    }
   ],
   "source": [
    "[ray_sum(D1, PS(0,1), PS(1,0)),ray_sum(D1, PS(0,1), PS(1,1)),ray_sum(D1, PS(1,0), PS(0,1)),\n",
    " ray_sum(D1, PS(1,0), PS(1,1)), ray_sum(D1, PS(1,1), PS(0,1)),ray_sum(D1, PS(1,1), PS(1,0))]"
   ]
  },
  {
   "cell_type": "code",
   "execution_count": 59,
   "id": "313a2af7-3144-411f-b612-21bb6c023014",
   "metadata": {},
   "outputs": [
    {
     "data": {
      "text/plain": [
       "[32/3]"
      ]
     },
     "execution_count": 59,
     "metadata": {},
     "output_type": "execute_result"
    }
   ],
   "source": [
    "D1.vert_mld_of_vertex(PS(1,0), [vector([3/7, 1/7])])"
   ]
  },
  {
   "cell_type": "code",
   "execution_count": 60,
   "id": "51681a31-363d-47af-b24f-2d0947e73a41",
   "metadata": {},
   "outputs": [
    {
     "data": {
      "text/plain": [
       "True"
      ]
     },
     "execution_count": 60,
     "metadata": {},
     "output_type": "execute_result"
    }
   ],
   "source": [
    "D1.coefficient(PS(2,1)).relative_interior_contains(vector([3/7, 1/7]))"
   ]
  },
  {
   "cell_type": "code",
   "execution_count": 61,
   "id": "ec27dfcf-c10e-4614-9194-b5047d53036e",
   "metadata": {},
   "outputs": [
    {
     "data": {
      "text/plain": [
       "[13]"
      ]
     },
     "execution_count": 61,
     "metadata": {},
     "output_type": "execute_result"
    }
   ],
   "source": [
    "D1.vert_mld_of_vertex(PS(2,1), [vector([3/7, 1/7])])"
   ]
  },
  {
   "cell_type": "code",
   "execution_count": 76,
   "id": "bbc82309-a2a1-4cf4-9a22-5cd255d5041a",
   "metadata": {},
   "outputs": [
    {
     "data": {
      "text/plain": [
       "1"
      ]
     },
     "execution_count": 76,
     "metadata": {},
     "output_type": "execute_result"
    }
   ],
   "source": [
    "D1.hor_mld()"
   ]
  },
  {
   "cell_type": "code",
   "execution_count": 41,
   "id": "4feca50d-7f6e-40a9-ab9d-1cc18258bc63",
   "metadata": {},
   "outputs": [
    {
     "data": {
      "text/plain": [
       "[N(-3, 0, -10),\n",
       " N( 1, 1,   0),\n",
       " N( 1, 0,   2)\n",
       " in 3-d lattice N,\n",
       " N(-1, 0,   2),\n",
       " N( 7, 0, -10),\n",
       " N( 1, 1,   0)\n",
       " in 3-d lattice N,\n",
       " N(0, 0, -1),\n",
       " N(1, 1,  0),\n",
       " N(1, 0,  5)\n",
       " in 3-d lattice N]"
      ]
     },
     "execution_count": 41,
     "metadata": {},
     "output_type": "execute_result"
    }
   ],
   "source": [
    "[D1.degeneration(P).rays() for P in D1.supp()]"
   ]
  },
  {
   "cell_type": "code",
   "execution_count": null,
   "id": "1771dd5a-e496-486f-bb66-44c36cc2f892",
   "metadata": {},
   "outputs": [],
   "source": []
  }
 ],
 "metadata": {
  "kernelspec": {
   "display_name": "SageMath 10.2",
   "language": "sage",
   "name": "sagemath"
  },
  "language_info": {
   "codemirror_mode": {
    "name": "ipython",
    "version": 3
   },
   "file_extension": ".py",
   "mimetype": "text/x-python",
   "name": "python",
   "nbconvert_exporter": "python",
   "pygments_lexer": "ipython3",
   "version": "3.11.8"
  }
 },
 "nbformat": 4,
 "nbformat_minor": 5
}
