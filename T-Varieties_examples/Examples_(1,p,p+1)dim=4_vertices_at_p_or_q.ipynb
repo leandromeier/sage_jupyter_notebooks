{
 "cells": [
  {
   "cell_type": "code",
   "execution_count": 1,
   "metadata": {
    "collapsed": false,
    "jupyter": {
     "outputs_hidden": false
    }
   },
   "outputs": [],
   "source": [
    "import sys\n",
    "sys.path.insert(0, '/home/leandro/math/sage/sage_tvars')\n",
    "from tvars import *\n",
    "PS=ProjectiveSpace(1,QQ)\n",
    "BR = QQ;\n",
    "# goal: what happens when there are two vertices in say the slice of multiplicity p?\n",
    "# d = dim(X) = n + 1\n",
    "# d = 3: nothing to check since the variety is toric if we remove a vertex from the slice of multiplicity 1 with 2 former vertices\n",
    "# d = 4: 1 vertex free to place, if we place it at the q-slice, we run into trouble, if we place it at the p-slice, it seems less so"
   ]
  },
  {
   "cell_type": "code",
   "execution_count": 9,
   "metadata": {},
   "outputs": [
    {
     "name": "stdout",
     "output_type": "stream",
     "text": [
      "N(-11, 12,  0),\n",
      "N(-11, 12, 12),\n",
      "N(  1,  3,  0),\n",
      "N(  1,  3,  3)\n",
      "in 3-d lattice N\n"
     ]
    },
    {
     "data": {
      "text/plain": [
       "PolyhedralDivisor with support {(0 : 1), (1 : 0), (1 : 1)}"
      ]
     },
     "execution_count": 9,
     "metadata": {},
     "output_type": "execute_result"
    }
   ],
   "source": [
    "n=3\n",
    "p = 3\n",
    "# q should be >p\n",
    "q = p+1;\n",
    "E = ((QQ)^n).basis();\n",
    "diff = E[0] - E[1]\n",
    "v00 = (-1/q)*E[0]\n",
    "v01 = E[1] + diff\n",
    "#v02=(1/p)*(E[0] + E[2])\n",
    "v_inf= (1/p)*E[0] - diff\n",
    "v1 = E[2]\n",
    "#v2 = E[2]\n",
    "z = zero_vector(QQ,n)\n",
    "#sigma1 = Cone([v00 + v1 +v_inf, v01 + v1 +v_inf]).rays()\n",
    "sigma1 = Cone([v00 + v_inf, v00 + v1 + v_inf, v01  + v_inf, v01 + v1 + v_inf]).rays()\n",
    "print(sigma1)\n",
    "# the p-divisor\n",
    "dict1 = {PS(0,1) : Polyhedron(vertices=[v00, v01],rays=sigma1),\n",
    "        PS(1,0) : Polyhedron(vertices=[v_inf],rays=sigma1),\n",
    "        PS(1,1) : Polyhedron(vertices=[z, v1],rays=sigma1),\n",
    "        #PS(2,1) : Polyhedron(vertices=[z, v2],rays=sigma1),\n",
    "        #PS(1,3) : Polyhedron(vertices=[zero_vector(ZZ,n),v3],rays=sigma),\n",
    "       }\n",
    "D1 = PolyhedralDivisor(dict1);\n",
    "if not D1.is_proper():\n",
    "    #print(\"not proper\")\n",
    "    raise NotImplementedError(f\"The divisor is not proper.\")\n",
    "if not D1.is_Q_Gorenstein():\n",
    "    #print(\"Not Q-G\")\n",
    "    raise NotImplementedError(f\"The variety is not Q-Gorenstein.\")\n",
    "#[v for v in D1.deg.vertices() if not D1.tail.polyhedron().contains(v)]\n",
    "D1"
   ]
  },
  {
   "cell_type": "code",
   "execution_count": 10,
   "metadata": {},
   "outputs": [
    {
     "data": {
      "text/plain": [
       "(A vertex at (-1/4, 0, 0), A vertex at (1, 0, 0))"
      ]
     },
     "execution_count": 10,
     "metadata": {},
     "output_type": "execute_result"
    }
   ],
   "source": [
    "#%%script false --no-raise-error\n",
    "#D1.mld()\n",
    "D1[PS(0,1)].vertices()"
   ]
  },
  {
   "cell_type": "code",
   "execution_count": 11,
   "metadata": {},
   "outputs": [
    {
     "data": {
      "text/plain": [
       "N( 1, 0, 1, -1),\n",
       "N( 1, 0, 0, -1),\n",
       "N(-2, 3, 0,  3),\n",
       "N(-1, 0, 0, -4),\n",
       "N(-1, 0, 4, -4)\n",
       "in 4-d lattice N"
      ]
     },
     "execution_count": 11,
     "metadata": {},
     "output_type": "execute_result"
    }
   ],
   "source": [
    "D1.degeneration(PS(1,0)).rays()"
   ]
  },
  {
   "cell_type": "code",
   "execution_count": 12,
   "metadata": {},
   "outputs": [],
   "source": [
    "def ray_sum(D, y1, y2, ray_list= None):\n",
    "    n = D.tail.dim() + 1\n",
    "    C1 = D.degeneration(y2)\n",
    "    if ray_list == None:\n",
    "        ray_list = [int(i) for i in range(n)]\n",
    "        #print(ray_list)\n",
    "    w = vector(QQ, sum(C1.rays()[i] for i in ray_list))\n",
    "    if w[n-1] >= 0:\n",
    "        return w\n",
    "    else:\n",
    "        w_n = (-1/w[n-1])*w\n",
    "        #w_n = w_n*w[0:n-1]\n",
    "        mu_w = lcm(w_i.denominator() for w_i in w_n if w_i != 0)\n",
    "        return [w_n, D.coefficient(y1).relative_interior_contains(w_n)]"
   ]
  },
  {
   "cell_type": "code",
   "execution_count": 13,
   "metadata": {},
   "outputs": [
    {
     "data": {
      "text/plain": [
       "{0: [(-1/2, 1/2, 2/3, -1), False],\n",
       " 1: [(-1/2, 1/2, 5/6, -1), False],\n",
       " 2: [(0, 0, 1/2, -1), False],\n",
       " 3: [(-1/3, 1, 5/3, -1), False],\n",
       " 4: [(-1/3, 1, 1/3, -1), False]}"
      ]
     },
     "execution_count": 13,
     "metadata": {},
     "output_type": "execute_result"
    }
   ],
   "source": [
    "results = {}\n",
    "for i in range(5):\n",
    "    l = [int(j) for j in range(5) if j != i]\n",
    "    results[i] = ray_sum(D1,PS(0,1), PS(1,0),l)\n",
    "results"
   ]
  },
  {
   "cell_type": "code",
   "execution_count": 14,
   "metadata": {},
   "outputs": [
    {
     "data": {
      "text/plain": [
       "[(-1/3, 1, 1/3, -1), False]"
      ]
     },
     "execution_count": 14,
     "metadata": {},
     "output_type": "execute_result"
    }
   ],
   "source": [
    "res1 = ray_sum(D1, PS(0,1), PS(1,0))\n",
    "res1"
   ]
  },
  {
   "cell_type": "code",
   "execution_count": 15,
   "metadata": {},
   "outputs": [
    {
     "data": {
      "text/plain": [
       "[(-4, 6, 3, -1), False]"
      ]
     },
     "execution_count": 15,
     "metadata": {},
     "output_type": "execute_result"
    }
   ],
   "source": [
    "res1 = ray_sum(D1, PS(1,0), PS(0,1))\n",
    "res1"
   ]
  },
  {
   "cell_type": "code",
   "execution_count": 16,
   "metadata": {},
   "outputs": [
    {
     "data": {
      "text/plain": [
       "{((0 : 1), (1 : 0)): [(-1/3, 1, 1/3, -1), False],\n",
       " ((0 : 1), (1 : 1)): [(-10/13, 15/13, 1/13, -1), False],\n",
       " ((1 : 0), (0 : 1)): [(-4, 6, 3, -1), False],\n",
       " ((1 : 0), (1 : 1)): [(-10/13, 15/13, 1/13, -1), False],\n",
       " ((1 : 1), (0 : 1)): [(-4, 6, 3, -1), False],\n",
       " ((1 : 1), (1 : 0)): [(-1/3, 1, 1/3, -1), False]}"
      ]
     },
     "execution_count": 16,
     "metadata": {},
     "output_type": "execute_result"
    }
   ],
   "source": [
    "res = {}\n",
    "for x in D1.supp():\n",
    "    for y in D1.supp():\n",
    "        if x == y:\n",
    "            continue\n",
    "        res[(x,y)] = ray_sum(D1, x, y)\n",
    "res"
   ]
  },
  {
   "cell_type": "code",
   "execution_count": 9,
   "metadata": {},
   "outputs": [
    {
     "data": {
      "text/plain": [
       "['vector not contained in interior']"
      ]
     },
     "execution_count": 9,
     "metadata": {},
     "output_type": "execute_result"
    }
   ],
   "source": [
    "D1.vert_mld_of_vertex(PS(0,1), [res1[0][0:3]])"
   ]
  },
  {
   "cell_type": "code",
   "execution_count": 59,
   "metadata": {},
   "outputs": [
    {
     "data": {
      "text/plain": [
       "N(1,  0,  0),\n",
       "N(1,  0, 12),\n",
       "N(1, 12,  0),\n",
       "N(1, 12, 12)\n",
       "in 3-d lattice N"
      ]
     },
     "execution_count": 59,
     "metadata": {},
     "output_type": "execute_result"
    }
   ],
   "source": [
    "D1.tail.rays()"
   ]
  },
  {
   "cell_type": "code",
   "execution_count": 57,
   "metadata": {},
   "outputs": [
    {
     "data": {
      "text/plain": [
       "N(1,  0,  0),\n",
       "N(1,  0, 12),\n",
       "N(1, 12,  0)\n",
       "in 3-d lattice N"
      ]
     },
     "execution_count": 57,
     "metadata": {},
     "output_type": "execute_result"
    }
   ],
   "source": [
    "D2.tail.rays()"
   ]
  },
  {
   "cell_type": "code",
   "execution_count": 28,
   "metadata": {},
   "outputs": [
    {
     "data": {
      "text/plain": [
       "N(-1, 0, 0,  4),\n",
       "N( 1, 0, 0, -3),\n",
       "N( 1, 0, 3, -3),\n",
       "N( 1, 3, 0, -3),\n",
       "N( 1, 3, 3, -3)\n",
       "in 4-d lattice N"
      ]
     },
     "execution_count": 28,
     "metadata": {},
     "output_type": "execute_result"
    }
   ],
   "source": [
    "D1.degeneration(PS(1,0)).rays()"
   ]
  },
  {
   "cell_type": "code",
   "execution_count": 113,
   "metadata": {},
   "outputs": [
    {
     "data": {
      "text/plain": [
       "N(0, 0, 0,   1),\n",
       "N(0, 0, 1,   1),\n",
       "N(0, 1, 0,   1),\n",
       "N(1, 0, 0, -12)\n",
       "in 4-d lattice N"
      ]
     },
     "execution_count": 113,
     "metadata": {},
     "output_type": "execute_result"
    }
   ],
   "source": [
    "D2.degeneration(PS(1,1)).rays()"
   ]
  },
  {
   "cell_type": "code",
   "execution_count": 121,
   "metadata": {},
   "outputs": [
    {
     "data": {
      "text/plain": [
       "True"
      ]
     },
     "execution_count": 121,
     "metadata": {},
     "output_type": "execute_result"
    }
   ],
   "source": []
  },
  {
   "cell_type": "code",
   "execution_count": 123,
   "metadata": {},
   "outputs": [
    {
     "data": {
      "text/plain": [
       "[25]"
      ]
     },
     "execution_count": 123,
     "metadata": {},
     "output_type": "execute_result"
    }
   ],
   "source": [
    "D2.vert_mld_of_vertex(PS(1,0), [v])"
   ]
  },
  {
   "cell_type": "code",
   "execution_count": null,
   "metadata": {},
   "outputs": [],
   "source": []
  }
 ],
 "metadata": {
  "kernelspec": {
   "display_name": "SageMath 10.2",
   "language": "sage",
   "name": "sagemath"
  },
  "language_info": {
   "codemirror_mode": {
    "name": "ipython",
    "version": 3
   },
   "file_extension": ".py",
   "mimetype": "text/x-python",
   "name": "python",
   "nbconvert_exporter": "python",
   "pygments_lexer": "ipython3",
   "version": "3.11.8"
  }
 },
 "nbformat": 4,
 "nbformat_minor": 4
}
