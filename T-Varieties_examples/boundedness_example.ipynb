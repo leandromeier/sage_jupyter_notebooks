{
 "cells": [
  {
   "cell_type": "code",
   "execution_count": 1,
   "metadata": {},
   "outputs": [],
   "source": [
    "import sys\n",
    "sys.path.insert(0, '/home/leandro/math/sage/sage_tvars')\n",
    "from tvars import *"
   ]
  },
  {
   "cell_type": "code",
   "execution_count": 2,
   "metadata": {},
   "outputs": [],
   "source": [
    "#from class_PolyhedralDivisor import PolyhedralDivisor\n",
    "PS=ProjectiveSpace(1,QQ)"
   ]
  },
  {
   "cell_type": "code",
   "execution_count": 3,
   "metadata": {},
   "outputs": [
    {
     "data": {
      "text/plain": [
       "{(1 : 1): A 4-dimensional polyhedron in QQ^4 defined as the convex hull of 2 vertices and 5 rays,\n",
       " (0 : 1): A 4-dimensional polyhedron in QQ^4 defined as the convex hull of 1 vertex and 5 rays,\n",
       " (1 : 0): A 4-dimensional polyhedron in QQ^4 defined as the convex hull of 2 vertices and 5 rays}"
      ]
     },
     "execution_count": 3,
     "metadata": {},
     "output_type": "execute_result"
    }
   ],
   "source": [
    "sigma=[[1,0,0,0],[0,1,0,0],[3,1,3,0],[0,1,0,3],[0,1,3,3]]\n",
    "# a = 3\n",
    "sigma\n",
    "D1={PS(1,1): Polyhedron(vertices=[[0,0,0,0],[-1,0,-1,0]],rays=sigma),\n",
    "    PS(0,1): Polyhedron(vertices=[[0,1/3,1,1]],rays=sigma),\n",
    "    PS(1,0): Polyhedron(vertices=[[1,0,0,0],[1,0,0,-1]],rays=sigma),\n",
    "    }\n",
    "D1"
   ]
  },
  {
   "cell_type": "code",
   "execution_count": 4,
   "metadata": {},
   "outputs": [],
   "source": [
    "D1=PolyhedralDivisor(D1)"
   ]
  },
  {
   "cell_type": "code",
   "execution_count": 5,
   "metadata": {},
   "outputs": [
    {
     "ename": "KeyboardInterrupt",
     "evalue": "",
     "output_type": "error",
     "traceback": [
      "\u001b[1;31m---------------------------------------------------------------------------\u001b[0m",
      "\u001b[1;31mKeyboardInterrupt\u001b[0m                         Traceback (most recent call last)",
      "Cell \u001b[1;32mIn[5], line 1\u001b[0m\n\u001b[1;32m----> 1\u001b[0m \u001b[43mD1\u001b[49m\u001b[38;5;241;43m.\u001b[39;49m\u001b[43msection_ring\u001b[49m\u001b[43m(\u001b[49m\u001b[43mInteger\u001b[49m\u001b[43m(\u001b[49m\u001b[38;5;241;43m9\u001b[39;49m\u001b[43m)\u001b[49m\u001b[43m)\u001b[49m\n",
      "File \u001b[1;32m~/math/sage/sage_tvars/tvars/class_PolyhedralDivisor.py:532\u001b[0m, in \u001b[0;36mPolyhedralDivisor.section_ring\u001b[1;34m(self, max_ngens)\u001b[0m\n\u001b[0;32m    529\u001b[0m     \u001b[38;5;28;01mraise\u001b[39;00m \u001b[38;5;167;01mValueError\u001b[39;00m(\u001b[38;5;124m'\u001b[39m\u001b[38;5;124mThe polyhedral divisor is not proper\u001b[39m\u001b[38;5;124m'\u001b[39m)\n\u001b[0;32m    531\u001b[0m D\u001b[38;5;241m=\u001b[39m\u001b[38;5;28mself\u001b[39m\u001b[38;5;241m.\u001b[39m__shift()\n\u001b[1;32m--> 532\u001b[0m G\u001b[38;5;241m=\u001b[39m\u001b[38;5;28;43mself\u001b[39;49m\u001b[38;5;241;43m.\u001b[39;49m\u001b[43mgenerating_degrees\u001b[49m\u001b[43m(\u001b[49m\u001b[43m)\u001b[49m\n\u001b[0;32m    533\u001b[0m G\u001b[38;5;241m=\u001b[39mG[:\u001b[38;5;28mmin\u001b[39m(\u001b[38;5;28mlen\u001b[39m(G),max_ngens)]\n\u001b[0;32m    535\u001b[0m \u001b[38;5;66;03m#creating C2 (the codomain of our map)\u001b[39;00m\n",
      "File \u001b[1;32m~/math/sage/sage_tvars/tvars/class_PolyhedralDivisor.py:470\u001b[0m, in \u001b[0;36mPolyhedralDivisor.generating_degrees\u001b[1;34m(self)\u001b[0m\n\u001b[0;32m    467\u001b[0m     HB_tau\u001b[38;5;241m=\u001b[39m\u001b[38;5;28mlist\u001b[39m(Cone(f\u001b[38;5;241m.\u001b[39mnormal_cone(direction\u001b[38;5;241m=\u001b[39m\u001b[38;5;124m'\u001b[39m\u001b[38;5;124minner\u001b[39m\u001b[38;5;124m'\u001b[39m))\u001b[38;5;241m.\u001b[39mHilbert_basis()) \u001b[38;5;66;03m#generates the hilbert basis for the face\u001b[39;00m\n\u001b[0;32m    468\u001b[0m \u001b[38;5;28;01mfor\u001b[39;00m u \u001b[38;5;129;01min\u001b[39;00m HB_tau:                        \n\u001b[0;32m    469\u001b[0m     \u001b[38;5;66;03m#here we generate alpha_u associated to each u\u001b[39;00m\n\u001b[1;32m--> 470\u001b[0m     s\u001b[38;5;241m=\u001b[39m\u001b[38;5;241m2\u001b[39m\u001b[38;5;241m+\u001b[39m\u001b[38;5;241m2\u001b[39m\u001b[38;5;241m*\u001b[39m(\u001b[38;5;28;43msum\u001b[39;49m\u001b[43m(\u001b[49m\u001b[38;5;129;43;01mnot\u001b[39;49;00m\u001b[43m \u001b[49m\u001b[38;5;28;43mself\u001b[39;49m\u001b[43m(\u001b[49m\u001b[43mu\u001b[49m\u001b[43m)\u001b[49m\u001b[43m[\u001b[49m\u001b[43my\u001b[49m\u001b[43m]\u001b[49m\u001b[38;5;241;43m.\u001b[39;49m\u001b[43mis_integer\u001b[49m\u001b[43m(\u001b[49m\u001b[43m)\u001b[49m\u001b[43m \u001b[49m\u001b[38;5;28;43;01mfor\u001b[39;49;00m\u001b[43m \u001b[49m\u001b[43my\u001b[49m\u001b[43m \u001b[49m\u001b[38;5;129;43;01min\u001b[39;49;00m\u001b[43m \u001b[49m\u001b[38;5;28;43mself\u001b[39;49m\u001b[43m(\u001b[49m\u001b[43mu\u001b[49m\u001b[43m)\u001b[49m\u001b[38;5;241;43m.\u001b[39;49m\u001b[43msupp\u001b[49m\u001b[43m(\u001b[49m\u001b[43m)\u001b[49m\u001b[43m \u001b[49m\u001b[38;5;28;43;01mif\u001b[39;49;00m\u001b[43m \u001b[49m\u001b[38;5;28;43mself\u001b[39;49m\u001b[43m(\u001b[49m\u001b[43mu\u001b[49m\u001b[43m)\u001b[49m\u001b[43m[\u001b[49m\u001b[43my\u001b[49m\u001b[43m]\u001b[49m\u001b[38;5;241;43m!=\u001b[39;49m\u001b[43moo\u001b[49m\u001b[43m)\u001b[49m)\n\u001b[0;32m    471\u001b[0m     lcm_d\u001b[38;5;241m=\u001b[39mlcm([\u001b[38;5;28mself\u001b[39m(u)[y]\u001b[38;5;241m.\u001b[39mdenominator() \u001b[38;5;28;01mfor\u001b[39;00m y \u001b[38;5;129;01min\u001b[39;00m \u001b[38;5;28mself\u001b[39m(u)\u001b[38;5;241m.\u001b[39msupp() \u001b[38;5;28;01mif\u001b[39;00m \u001b[38;5;28mself\u001b[39m(u)[y]\u001b[38;5;241m!=\u001b[39moo]) \u001b[38;5;66;03m# the lcm of all denominators\u001b[39;00m\n\u001b[0;32m    472\u001b[0m     \u001b[38;5;28;01mif\u001b[39;00m is_odd(lcm_d): \u001b[38;5;66;03m# make sure that s is divisible by 2\u001b[39;00m\n",
      "File \u001b[1;32m/usr/lib/python3.11/site-packages/sage/misc/functional.py:594\u001b[0m, in \u001b[0;36msymbolic_sum\u001b[1;34m(expression, *args, **kwds)\u001b[0m\n\u001b[0;32m    592\u001b[0m     \u001b[38;5;28;01mreturn\u001b[39;00m expression\u001b[38;5;241m.\u001b[39msum(\u001b[38;5;241m*\u001b[39margs, \u001b[38;5;241m*\u001b[39m\u001b[38;5;241m*\u001b[39mkwds)\n\u001b[0;32m    593\u001b[0m \u001b[38;5;28;01melif\u001b[39;00m \u001b[38;5;28mmax\u001b[39m(\u001b[38;5;28mlen\u001b[39m(args),\u001b[38;5;28mlen\u001b[39m(kwds)) \u001b[38;5;241m<\u001b[39m\u001b[38;5;241m=\u001b[39m \u001b[38;5;241m1\u001b[39m:\n\u001b[1;32m--> 594\u001b[0m     \u001b[38;5;28;01mreturn\u001b[39;00m \u001b[38;5;28;43msum\u001b[39;49m\u001b[43m(\u001b[49m\u001b[43mexpression\u001b[49m\u001b[43m,\u001b[49m\u001b[43m \u001b[49m\u001b[38;5;241;43m*\u001b[39;49m\u001b[43margs\u001b[49m\u001b[43m,\u001b[49m\u001b[43m \u001b[49m\u001b[38;5;241;43m*\u001b[39;49m\u001b[38;5;241;43m*\u001b[39;49m\u001b[43mkwds\u001b[49m\u001b[43m)\u001b[49m\n\u001b[0;32m    595\u001b[0m \u001b[38;5;28;01melse\u001b[39;00m:\n\u001b[0;32m    596\u001b[0m     \u001b[38;5;28;01mfrom\u001b[39;00m \u001b[38;5;21;01msage\u001b[39;00m\u001b[38;5;21;01m.\u001b[39;00m\u001b[38;5;21;01msymbolic\u001b[39;00m\u001b[38;5;21;01m.\u001b[39;00m\u001b[38;5;21;01mring\u001b[39;00m \u001b[38;5;28;01mimport\u001b[39;00m SR\n",
      "File \u001b[1;32m~/math/sage/sage_tvars/tvars/class_PolyhedralDivisor.py:470\u001b[0m, in \u001b[0;36m<genexpr>\u001b[1;34m(.0)\u001b[0m\n\u001b[0;32m    467\u001b[0m     HB_tau\u001b[38;5;241m=\u001b[39m\u001b[38;5;28mlist\u001b[39m(Cone(f\u001b[38;5;241m.\u001b[39mnormal_cone(direction\u001b[38;5;241m=\u001b[39m\u001b[38;5;124m'\u001b[39m\u001b[38;5;124minner\u001b[39m\u001b[38;5;124m'\u001b[39m))\u001b[38;5;241m.\u001b[39mHilbert_basis()) \u001b[38;5;66;03m#generates the hilbert basis for the face\u001b[39;00m\n\u001b[0;32m    468\u001b[0m \u001b[38;5;28;01mfor\u001b[39;00m u \u001b[38;5;129;01min\u001b[39;00m HB_tau:                        \n\u001b[0;32m    469\u001b[0m     \u001b[38;5;66;03m#here we generate alpha_u associated to each u\u001b[39;00m\n\u001b[1;32m--> 470\u001b[0m     s\u001b[38;5;241m=\u001b[39m\u001b[38;5;241m2\u001b[39m\u001b[38;5;241m+\u001b[39m\u001b[38;5;241m2\u001b[39m\u001b[38;5;241m*\u001b[39m(\u001b[38;5;28msum\u001b[39m(\u001b[38;5;129;01mnot\u001b[39;00m \u001b[38;5;28;43mself\u001b[39;49m\u001b[43m(\u001b[49m\u001b[43mu\u001b[49m\u001b[43m)\u001b[49m[y]\u001b[38;5;241m.\u001b[39mis_integer() \u001b[38;5;28;01mfor\u001b[39;00m y \u001b[38;5;129;01min\u001b[39;00m \u001b[38;5;28mself\u001b[39m(u)\u001b[38;5;241m.\u001b[39msupp() \u001b[38;5;28;01mif\u001b[39;00m \u001b[38;5;28mself\u001b[39m(u)[y]\u001b[38;5;241m!=\u001b[39moo))\n\u001b[0;32m    471\u001b[0m     lcm_d\u001b[38;5;241m=\u001b[39mlcm([\u001b[38;5;28mself\u001b[39m(u)[y]\u001b[38;5;241m.\u001b[39mdenominator() \u001b[38;5;28;01mfor\u001b[39;00m y \u001b[38;5;129;01min\u001b[39;00m \u001b[38;5;28mself\u001b[39m(u)\u001b[38;5;241m.\u001b[39msupp() \u001b[38;5;28;01mif\u001b[39;00m \u001b[38;5;28mself\u001b[39m(u)[y]\u001b[38;5;241m!=\u001b[39moo]) \u001b[38;5;66;03m# the lcm of all denominators\u001b[39;00m\n\u001b[0;32m    472\u001b[0m     \u001b[38;5;28;01mif\u001b[39;00m is_odd(lcm_d): \u001b[38;5;66;03m# make sure that s is divisible by 2\u001b[39;00m\n",
      "File \u001b[1;32m~/math/sage/sage_tvars/tvars/class_PolyhedralDivisor.py:218\u001b[0m, in \u001b[0;36mPolyhedralDivisor.__call__\u001b[1;34m(self, u)\u001b[0m\n\u001b[0;32m    214\u001b[0m \u001b[38;5;28;01mdef\u001b[39;00m \u001b[38;5;21m__call__\u001b[39m(\u001b[38;5;28mself\u001b[39m,u):\n\u001b[0;32m    215\u001b[0m \u001b[38;5;250m    \u001b[39m\u001b[38;5;124;03m\"\"\"\u001b[39;00m\n\u001b[0;32m    216\u001b[0m \u001b[38;5;124;03m    Calculates the evaluation of the polyhedral divisor at the vector u\u001b[39;00m\n\u001b[0;32m    217\u001b[0m \u001b[38;5;124;03m    \"\"\"\u001b[39;00m\n\u001b[1;32m--> 218\u001b[0m     \u001b[38;5;28;01mreturn\u001b[39;00m \u001b[38;5;28;43mself\u001b[39;49m\u001b[38;5;241;43m.\u001b[39;49m\u001b[43mevaluate\u001b[49m\u001b[43m(\u001b[49m\u001b[43mu\u001b[49m\u001b[43m)\u001b[49m\n",
      "File \u001b[1;32m~/math/sage/sage_tvars/tvars/class_PolyhedralDivisor.py:200\u001b[0m, in \u001b[0;36mPolyhedralDivisor.evaluate\u001b[1;34m(self, u)\u001b[0m\n\u001b[0;32m    197\u001b[0m rational_divisor_data \u001b[38;5;241m=\u001b[39m \u001b[38;5;28mdict\u001b[39m()\n\u001b[0;32m    198\u001b[0m \u001b[38;5;28;01mfor\u001b[39;00m y \u001b[38;5;129;01min\u001b[39;00m \u001b[38;5;28mself\u001b[39m\u001b[38;5;241m.\u001b[39mdata:\n\u001b[0;32m    199\u001b[0m     \u001b[38;5;66;03m#if an entry is empty we define the value at that point to be infinite\u001b[39;00m\n\u001b[1;32m--> 200\u001b[0m     \u001b[38;5;28;01mif\u001b[39;00m \u001b[38;5;28;43mself\u001b[39;49m\u001b[43m[\u001b[49m\u001b[43my\u001b[49m\u001b[43m]\u001b[49m\u001b[38;5;241m.\u001b[39mis_empty():\n\u001b[0;32m    201\u001b[0m         value \u001b[38;5;241m=\u001b[39m oo\n\u001b[0;32m    202\u001b[0m     \u001b[38;5;66;03m#if the entry is not empty the coefficient is defined as the minimum of <D_Z,u>\u001b[39;00m\n\u001b[0;32m    203\u001b[0m     \u001b[38;5;28;01melse\u001b[39;00m:\n",
      "File \u001b[1;32m~/math/sage/sage_tvars/tvars/class_Divisor.py:119\u001b[0m, in \u001b[0;36mDivisor.__getitem__\u001b[1;34m(self, y)\u001b[0m\n\u001b[0;32m    108\u001b[0m \u001b[38;5;28;01mdef\u001b[39;00m \u001b[38;5;21m__getitem__\u001b[39m(\u001b[38;5;28mself\u001b[39m, y):\n\u001b[0;32m    109\u001b[0m \u001b[38;5;250m    \u001b[39m\u001b[38;5;124;03m\"\"\"\u001b[39;00m\n\u001b[0;32m    110\u001b[0m \u001b[38;5;124;03m    Provide indexing support to retrieve the coefficient associated with a point.\u001b[39;00m\n\u001b[0;32m    111\u001b[0m \n\u001b[1;32m   (...)\u001b[0m\n\u001b[0;32m    117\u001b[0m \n\u001b[0;32m    118\u001b[0m \u001b[38;5;124;03m    \"\"\"\u001b[39;00m\n\u001b[1;32m--> 119\u001b[0m     \u001b[38;5;28;01mreturn\u001b[39;00m \u001b[38;5;28;43mself\u001b[39;49m\u001b[38;5;241;43m.\u001b[39;49m\u001b[43mcoefficient\u001b[49m\u001b[43m(\u001b[49m\u001b[43my\u001b[49m\u001b[43m)\u001b[49m\n",
      "File \u001b[1;32m~/math/sage/sage_tvars/tvars/class_Divisor.py:106\u001b[0m, in \u001b[0;36mDivisor.coefficient\u001b[1;34m(self, x)\u001b[0m\n\u001b[0;32m     94\u001b[0m \u001b[38;5;28;01mdef\u001b[39;00m \u001b[38;5;21mcoefficient\u001b[39m(\u001b[38;5;28mself\u001b[39m, x):\n\u001b[0;32m     95\u001b[0m \u001b[38;5;250m    \u001b[39m\u001b[38;5;124;03m\"\"\"\u001b[39;00m\n\u001b[0;32m     96\u001b[0m \u001b[38;5;124;03m    Return the coefficient associated with a given point.\u001b[39;00m\n\u001b[0;32m     97\u001b[0m \n\u001b[1;32m   (...)\u001b[0m\n\u001b[0;32m    104\u001b[0m \n\u001b[0;32m    105\u001b[0m \u001b[38;5;124;03m    \"\"\"\u001b[39;00m\n\u001b[1;32m--> 106\u001b[0m     \u001b[38;5;28;01mreturn\u001b[39;00m \u001b[38;5;28mself\u001b[39m\u001b[38;5;241m.\u001b[39mdata[x] \u001b[38;5;28;01mif\u001b[39;00m x \u001b[38;5;129;01min\u001b[39;00m \u001b[38;5;28;43mself\u001b[39;49m\u001b[38;5;241;43m.\u001b[39;49m\u001b[43msupp\u001b[49m\u001b[43m(\u001b[49m\u001b[43m)\u001b[49m \u001b[38;5;28;01melse\u001b[39;00m \u001b[38;5;28mself\u001b[39m\u001b[38;5;241m.\u001b[39mdefault_coefficient\n",
      "File \u001b[1;32m~/math/sage/sage_tvars/tvars/class_Divisor.py:92\u001b[0m, in \u001b[0;36mDivisor.supp\u001b[1;34m(self)\u001b[0m\n\u001b[0;32m     84\u001b[0m \u001b[38;5;28;01mdef\u001b[39;00m \u001b[38;5;21msupp\u001b[39m(\u001b[38;5;28mself\u001b[39m):\n\u001b[0;32m     85\u001b[0m \u001b[38;5;250m    \u001b[39m\u001b[38;5;124;03m\"\"\"\u001b[39;00m\n\u001b[0;32m     86\u001b[0m \u001b[38;5;124;03m    Return the set of points in the projective space with non-default coefficients.\u001b[39;00m\n\u001b[0;32m     87\u001b[0m \n\u001b[1;32m   (...)\u001b[0m\n\u001b[0;32m     90\u001b[0m \n\u001b[0;32m     91\u001b[0m \u001b[38;5;124;03m    \"\"\"\u001b[39;00m\n\u001b[1;32m---> 92\u001b[0m     \u001b[38;5;28;01mreturn\u001b[39;00m \u001b[38;5;28mset\u001b[39m(\u001b[43m[\u001b[49m\u001b[43my\u001b[49m\u001b[43m \u001b[49m\u001b[38;5;28;43;01mfor\u001b[39;49;00m\u001b[43m \u001b[49m\u001b[43my\u001b[49m\u001b[43m \u001b[49m\u001b[38;5;129;43;01min\u001b[39;49;00m\u001b[43m \u001b[49m\u001b[38;5;28;43mself\u001b[39;49m\u001b[38;5;241;43m.\u001b[39;49m\u001b[43mdata\u001b[49m\u001b[38;5;241;43m.\u001b[39;49m\u001b[43mkeys\u001b[49m\u001b[43m(\u001b[49m\u001b[43m)\u001b[49m\u001b[43m \u001b[49m\u001b[38;5;28;43;01mif\u001b[39;49;00m\u001b[43m \u001b[49m\u001b[38;5;28;43mself\u001b[39;49m\u001b[38;5;241;43m.\u001b[39;49m\u001b[43mdata\u001b[49m\u001b[43m[\u001b[49m\u001b[43my\u001b[49m\u001b[43m]\u001b[49m\u001b[43m \u001b[49m\u001b[38;5;241;43m!=\u001b[39;49m\u001b[43m \u001b[49m\u001b[38;5;28;43mself\u001b[39;49m\u001b[38;5;241;43m.\u001b[39;49m\u001b[43mdefault_coefficient\u001b[49m\u001b[43m]\u001b[49m)\n",
      "File \u001b[1;32m~/math/sage/sage_tvars/tvars/class_Divisor.py:92\u001b[0m, in \u001b[0;36m<listcomp>\u001b[1;34m(.0)\u001b[0m\n\u001b[0;32m     84\u001b[0m \u001b[38;5;28;01mdef\u001b[39;00m \u001b[38;5;21msupp\u001b[39m(\u001b[38;5;28mself\u001b[39m):\n\u001b[0;32m     85\u001b[0m \u001b[38;5;250m    \u001b[39m\u001b[38;5;124;03m\"\"\"\u001b[39;00m\n\u001b[0;32m     86\u001b[0m \u001b[38;5;124;03m    Return the set of points in the projective space with non-default coefficients.\u001b[39;00m\n\u001b[0;32m     87\u001b[0m \n\u001b[1;32m   (...)\u001b[0m\n\u001b[0;32m     90\u001b[0m \n\u001b[0;32m     91\u001b[0m \u001b[38;5;124;03m    \"\"\"\u001b[39;00m\n\u001b[1;32m---> 92\u001b[0m     \u001b[38;5;28;01mreturn\u001b[39;00m \u001b[38;5;28mset\u001b[39m([y \u001b[38;5;28;01mfor\u001b[39;00m y \u001b[38;5;129;01min\u001b[39;00m \u001b[38;5;28mself\u001b[39m\u001b[38;5;241m.\u001b[39mdata\u001b[38;5;241m.\u001b[39mkeys() \u001b[38;5;28;01mif\u001b[39;00m \u001b[38;5;28;43mself\u001b[39;49m\u001b[38;5;241;43m.\u001b[39;49m\u001b[43mdata\u001b[49m\u001b[43m[\u001b[49m\u001b[43my\u001b[49m\u001b[43m]\u001b[49m\u001b[43m \u001b[49m\u001b[38;5;241;43m!=\u001b[39;49m\u001b[43m \u001b[49m\u001b[38;5;28;43mself\u001b[39;49m\u001b[38;5;241;43m.\u001b[39;49m\u001b[43mdefault_coefficient\u001b[49m])\n",
      "File \u001b[1;32m/usr/lib/python3.11/site-packages/sage/structure/element.pyx:1107\u001b[0m, in \u001b[0;36msage.structure.element.Element.__richcmp__ (build/cythonized/sage/structure/element.c:18155)\u001b[1;34m()\u001b[0m\n\u001b[0;32m   1105\u001b[0m         return (<Element>self)._richcmp_(other, op)\n\u001b[0;32m   1106\u001b[0m     else:\n\u001b[1;32m-> 1107\u001b[0m         return coercion_model.richcmp(self, other, op)\n\u001b[0;32m   1108\u001b[0m \n\u001b[0;32m   1109\u001b[0m cpdef _richcmp_(left, right, int op) noexcept:\n",
      "File \u001b[1;32m/usr/lib/python3.11/site-packages/sage/structure/coerce.pyx:2021\u001b[0m, in \u001b[0;36msage.structure.coerce.CoercionModel.richcmp (build/cythonized/sage/structure/coerce.c:26201)\u001b[1;34m()\u001b[0m\n\u001b[0;32m   2019\u001b[0m # Coerce to a common parent\n\u001b[0;32m   2020\u001b[0m try:\n\u001b[1;32m-> 2021\u001b[0m     x, y = self.canonical_coercion(x, y)\n\u001b[0;32m   2022\u001b[0m except (TypeError, NotImplementedError):\n\u001b[0;32m   2023\u001b[0m     pass\n",
      "File \u001b[1;32m/usr/lib/python3.11/site-packages/sage/structure/coerce.pyx:1344\u001b[0m, in \u001b[0;36msage.structure.coerce.CoercionModel.canonical_coercion (build/cythonized/sage/structure/coerce.c:17351)\u001b[1;34m()\u001b[0m\n\u001b[0;32m   1342\u001b[0m     x_elt = x\n\u001b[0;32m   1343\u001b[0m if y_map is not None:\n\u001b[1;32m-> 1344\u001b[0m     y_elt = (<Map>y_map)._call_(y)\n\u001b[0;32m   1345\u001b[0m else:\n\u001b[0;32m   1346\u001b[0m     y_elt = y\n",
      "File \u001b[1;32m/usr/lib/python3.11/site-packages/sage/structure/coerce_maps.pyx:158\u001b[0m, in \u001b[0;36msage.structure.coerce_maps.DefaultConvertMap_unique._call_ (build/cythonized/sage/structure/coerce_maps.c:6850)\u001b[1;34m()\u001b[0m\n\u001b[0;32m    156\u001b[0m cdef Parent C = self._codomain\n\u001b[0;32m    157\u001b[0m try:\n\u001b[1;32m--> 158\u001b[0m     return C._element_constructor(x)\n\u001b[0;32m    159\u001b[0m except Exception:\n\u001b[0;32m    160\u001b[0m     if print_warnings:\n",
      "File \u001b[1;32m/usr/lib/python3.11/site-packages/sage/geometry/polyhedron/parent.py:708\u001b[0m, in \u001b[0;36mPolyhedra_base._element_constructor_\u001b[1;34m(self, *args, **kwds)\u001b[0m\n\u001b[0;32m    705\u001b[0m         \u001b[38;5;28;01mreturn\u001b[39;00m args[\u001b[38;5;241m0\u001b[39m]\n\u001b[0;32m    707\u001b[0m     polyhedron \u001b[38;5;241m=\u001b[39m args[\u001b[38;5;241m0\u001b[39m]\n\u001b[1;32m--> 708\u001b[0m     \u001b[38;5;28;01mreturn\u001b[39;00m \u001b[38;5;28;43mself\u001b[39;49m\u001b[38;5;241;43m.\u001b[39;49m\u001b[43m_element_constructor_polyhedron\u001b[49m\u001b[43m(\u001b[49m\u001b[43mpolyhedron\u001b[49m\u001b[43m,\u001b[49m\u001b[43m \u001b[49m\u001b[43mmutable\u001b[49m\u001b[38;5;241;43m=\u001b[39;49m\u001b[43mmutable\u001b[49m\u001b[43m,\u001b[49m\u001b[43m \u001b[49m\u001b[38;5;241;43m*\u001b[39;49m\u001b[38;5;241;43m*\u001b[39;49m\u001b[43mkwds\u001b[49m\u001b[43m)\u001b[49m\n\u001b[0;32m    709\u001b[0m \u001b[38;5;28;01mif\u001b[39;00m nargs \u001b[38;5;241m==\u001b[39m \u001b[38;5;241m1\u001b[39m \u001b[38;5;129;01mand\u001b[39;00m args[\u001b[38;5;241m0\u001b[39m] \u001b[38;5;241m==\u001b[39m \u001b[38;5;241m0\u001b[39m:\n\u001b[0;32m    710\u001b[0m     \u001b[38;5;28;01mreturn\u001b[39;00m \u001b[38;5;28mself\u001b[39m\u001b[38;5;241m.\u001b[39mzero()\n",
      "File \u001b[1;32m/usr/lib/python3.11/site-packages/sage/geometry/polyhedron/parent.py:1249\u001b[0m, in \u001b[0;36mPolyhedra_QQ_ppl._element_constructor_polyhedron\u001b[1;34m(self, polyhedron, **kwds)\u001b[0m\n\u001b[0;32m   1247\u001b[0m \u001b[38;5;28;01mfrom\u001b[39;00m \u001b[38;5;21;01mcopy\u001b[39;00m \u001b[38;5;28;01mimport\u001b[39;00m copy\n\u001b[0;32m   1248\u001b[0m \u001b[38;5;28;01mif\u001b[39;00m polyhedron\u001b[38;5;241m.\u001b[39mbackend() \u001b[38;5;241m==\u001b[39m \u001b[38;5;124m\"\u001b[39m\u001b[38;5;124mppl\u001b[39m\u001b[38;5;124m\"\u001b[39m:\n\u001b[1;32m-> 1249\u001b[0m     \u001b[38;5;28;01mreturn\u001b[39;00m \u001b[38;5;28;43mself\u001b[39;49m\u001b[38;5;241;43m.\u001b[39;49m\u001b[43m_element_constructor_\u001b[49m\u001b[43m(\u001b[49m\u001b[38;5;28;43;01mNone\u001b[39;49;00m\u001b[43m,\u001b[49m\u001b[43m \u001b[49m\u001b[38;5;28;43;01mNone\u001b[39;49;00m\u001b[43m,\u001b[49m\u001b[43m \u001b[49m\u001b[43mppl_polyhedron\u001b[49m\u001b[38;5;241;43m=\u001b[39;49m\u001b[43mcopy\u001b[49m\u001b[43m(\u001b[49m\u001b[43mpolyhedron\u001b[49m\u001b[38;5;241;43m.\u001b[39;49m\u001b[43m_ppl_polyhedron\u001b[49m\u001b[43m)\u001b[49m\u001b[43m,\u001b[49m\u001b[43m \u001b[49m\u001b[38;5;241;43m*\u001b[39;49m\u001b[38;5;241;43m*\u001b[39;49m\u001b[43mkwds\u001b[49m\u001b[43m)\u001b[49m\n\u001b[0;32m   1250\u001b[0m \u001b[38;5;28;01melse\u001b[39;00m:\n\u001b[0;32m   1251\u001b[0m     \u001b[38;5;28;01mreturn\u001b[39;00m Polyhedra_base\u001b[38;5;241m.\u001b[39m_element_constructor_polyhedron(\u001b[38;5;28mself\u001b[39m, polyhedron, \u001b[38;5;241m*\u001b[39m\u001b[38;5;241m*\u001b[39mkwds)\n",
      "File \u001b[1;32m/usr/lib/python3.11/site-packages/sage/geometry/polyhedron/parent.py:695\u001b[0m, in \u001b[0;36mPolyhedra_base._element_constructor_\u001b[1;34m(self, *args, **kwds)\u001b[0m\n\u001b[0;32m    693\u001b[0m     \u001b[38;5;28;01mif\u001b[39;00m convert \u001b[38;5;129;01mand\u001b[39;00m Vrep:\n\u001b[0;32m    694\u001b[0m         Vrep \u001b[38;5;241m=\u001b[39m [convert_base_ring(_) \u001b[38;5;28;01mfor\u001b[39;00m _ \u001b[38;5;129;01min\u001b[39;00m Vrep]\n\u001b[1;32m--> 695\u001b[0m     \u001b[38;5;28;01mreturn\u001b[39;00m \u001b[38;5;28;43mself\u001b[39;49m\u001b[38;5;241;43m.\u001b[39;49m\u001b[43melement_class\u001b[49m\u001b[43m(\u001b[49m\u001b[38;5;28;43mself\u001b[39;49m\u001b[43m,\u001b[49m\u001b[43m \u001b[49m\u001b[43mVrep\u001b[49m\u001b[43m,\u001b[49m\u001b[43m \u001b[49m\u001b[43mHrep\u001b[49m\u001b[43m,\u001b[49m\u001b[43m \u001b[49m\u001b[38;5;241;43m*\u001b[39;49m\u001b[38;5;241;43m*\u001b[39;49m\u001b[43mkwds\u001b[49m\u001b[43m)\u001b[49m\n\u001b[0;32m    696\u001b[0m \u001b[38;5;28;01mif\u001b[39;00m nargs \u001b[38;5;241m==\u001b[39m \u001b[38;5;241m1\u001b[39m \u001b[38;5;129;01mand\u001b[39;00m is_Polyhedron(args[\u001b[38;5;241m0\u001b[39m]):\n\u001b[0;32m    697\u001b[0m     copy \u001b[38;5;241m=\u001b[39m kwds\u001b[38;5;241m.\u001b[39mpop(\u001b[38;5;124m'\u001b[39m\u001b[38;5;124mcopy\u001b[39m\u001b[38;5;124m'\u001b[39m, args[\u001b[38;5;241m0\u001b[39m]\u001b[38;5;241m.\u001b[39mparent() \u001b[38;5;129;01mis\u001b[39;00m \u001b[38;5;129;01mnot\u001b[39;00m \u001b[38;5;28mself\u001b[39m)\n",
      "File \u001b[1;32m/usr/lib/python3.11/site-packages/sage/geometry/polyhedron/backend_ppl.py:70\u001b[0m, in \u001b[0;36mPolyhedron_ppl.__init__\u001b[1;34m(self, parent, Vrep, Hrep, ppl_polyhedron, mutable, **kwds)\u001b[0m\n\u001b[0;32m     68\u001b[0m     Polyhedron_mutable\u001b[38;5;241m.\u001b[39m\u001b[38;5;21m__init__\u001b[39m(\u001b[38;5;28mself\u001b[39m, parent, Vrep, Hrep, \u001b[38;5;241m*\u001b[39m\u001b[38;5;241m*\u001b[39mkwds)\n\u001b[0;32m     69\u001b[0m \u001b[38;5;28;01mif\u001b[39;00m \u001b[38;5;129;01mnot\u001b[39;00m mutable:\n\u001b[1;32m---> 70\u001b[0m     \u001b[38;5;28;43mself\u001b[39;49m\u001b[38;5;241;43m.\u001b[39;49m\u001b[43mset_immutable\u001b[49m\u001b[43m(\u001b[49m\u001b[43m)\u001b[49m\n",
      "File \u001b[1;32m/usr/lib/python3.11/site-packages/sage/geometry/polyhedron/backend_ppl.py:195\u001b[0m, in \u001b[0;36mPolyhedron_ppl.set_immutable\u001b[1;34m(self)\u001b[0m\n\u001b[0;32m    193\u001b[0m         \u001b[38;5;28;01mraise\u001b[39;00m e\n\u001b[0;32m    194\u001b[0m \u001b[38;5;28;01mif\u001b[39;00m \u001b[38;5;129;01mnot\u001b[39;00m \u001b[38;5;28mhasattr\u001b[39m(\u001b[38;5;28mself\u001b[39m, \u001b[38;5;124m'\u001b[39m\u001b[38;5;124m_Hrepresentation\u001b[39m\u001b[38;5;124m'\u001b[39m):\n\u001b[1;32m--> 195\u001b[0m     \u001b[38;5;28;43mself\u001b[39;49m\u001b[38;5;241;43m.\u001b[39;49m\u001b[43m_init_Hrepresentation_from_ppl\u001b[49m\u001b[43m(\u001b[49m\u001b[38;5;28;43;01mTrue\u001b[39;49;00m\u001b[43m)\u001b[49m\n\u001b[0;32m    196\u001b[0m \u001b[38;5;28mself\u001b[39m\u001b[38;5;241m.\u001b[39m_is_mutable \u001b[38;5;241m=\u001b[39m \u001b[38;5;28;01mFalse\u001b[39;00m\n",
      "File \u001b[1;32m/usr/lib/python3.11/site-packages/sage/geometry/polyhedron/backend_ppl.py:344\u001b[0m, in \u001b[0;36mPolyhedron_ppl._init_Hrepresentation_from_ppl\u001b[1;34m(self, minimize)\u001b[0m\n\u001b[0;32m    342\u001b[0m \u001b[38;5;28;01mfor\u001b[39;00m c \u001b[38;5;129;01min\u001b[39;00m cs:\n\u001b[0;32m    343\u001b[0m     \u001b[38;5;28;01mif\u001b[39;00m c\u001b[38;5;241m.\u001b[39mis_inequality():\n\u001b[1;32m--> 344\u001b[0m         \u001b[43mparent\u001b[49m\u001b[38;5;241;43m.\u001b[39;49m\u001b[43m_make_Inequality\u001b[49m\u001b[43m(\u001b[49m\u001b[38;5;28;43mself\u001b[39;49m\u001b[43m,\u001b[49m\u001b[43m \u001b[49m\u001b[43m(\u001b[49m\u001b[43mc\u001b[49m\u001b[38;5;241;43m.\u001b[39;49m\u001b[43minhomogeneous_term\u001b[49m\u001b[43m(\u001b[49m\u001b[43m)\u001b[49m\u001b[43m,\u001b[49m\u001b[43m)\u001b[49m\u001b[43m \u001b[49m\u001b[38;5;241;43m+\u001b[39;49m\u001b[43m \u001b[49m\u001b[43mc\u001b[49m\u001b[38;5;241;43m.\u001b[39;49m\u001b[43mcoefficients\u001b[49m\u001b[43m(\u001b[49m\u001b[43m)\u001b[49m\u001b[43m)\u001b[49m\n\u001b[0;32m    345\u001b[0m     \u001b[38;5;28;01melif\u001b[39;00m c\u001b[38;5;241m.\u001b[39mis_equality():\n\u001b[0;32m    346\u001b[0m         parent\u001b[38;5;241m.\u001b[39m_make_Equation(\u001b[38;5;28mself\u001b[39m, (c\u001b[38;5;241m.\u001b[39minhomogeneous_term(),) \u001b[38;5;241m+\u001b[39m c\u001b[38;5;241m.\u001b[39mcoefficients())\n",
      "File \u001b[1;32m/usr/lib/python3.11/site-packages/sage/geometry/polyhedron/parent.py:1069\u001b[0m, in \u001b[0;36mPolyhedra_base._make_Inequality\u001b[1;34m(self, polyhedron, data)\u001b[0m\n\u001b[0;32m   1067\u001b[0m \u001b[38;5;28;01mexcept\u001b[39;00m \u001b[38;5;167;01mIndexError\u001b[39;00m:\n\u001b[0;32m   1068\u001b[0m     obj \u001b[38;5;241m=\u001b[39m Inequality(\u001b[38;5;28mself\u001b[39m)\n\u001b[1;32m-> 1069\u001b[0m \u001b[43mobj\u001b[49m\u001b[38;5;241;43m.\u001b[39;49m\u001b[43m_set_data\u001b[49m\u001b[43m(\u001b[49m\u001b[43mpolyhedron\u001b[49m\u001b[43m,\u001b[49m\u001b[43m \u001b[49m\u001b[43mdata\u001b[49m\u001b[43m)\u001b[49m\n\u001b[0;32m   1070\u001b[0m \u001b[38;5;28;01mreturn\u001b[39;00m obj\n",
      "File \u001b[1;32m/usr/lib/python3.11/site-packages/sage/geometry/polyhedron/representation.py:440\u001b[0m, in \u001b[0;36mHrepresentation._set_data\u001b[1;34m(self, polyhedron, data)\u001b[0m\n\u001b[0;32m    437\u001b[0m     \u001b[38;5;28;01mraise\u001b[39;00m \u001b[38;5;167;01mValueError\u001b[39;00m(\u001b[38;5;124m'\u001b[39m\u001b[38;5;124mH-representation data requires a list of length ambient_dim+1\u001b[39m\u001b[38;5;124m'\u001b[39m)\n\u001b[0;32m    439\u001b[0m \u001b[38;5;28mself\u001b[39m\u001b[38;5;241m.\u001b[39m_vector[:] \u001b[38;5;241m=\u001b[39m data\n\u001b[1;32m--> 440\u001b[0m \u001b[38;5;28;43mself\u001b[39;49m\u001b[38;5;241;43m.\u001b[39;49m\u001b[43m_A\u001b[49m\u001b[43m[\u001b[49m\u001b[43m:\u001b[49m\u001b[43m]\u001b[49m \u001b[38;5;241m=\u001b[39m data[\u001b[38;5;241m1\u001b[39m:]\n\u001b[0;32m    441\u001b[0m \u001b[38;5;28mself\u001b[39m\u001b[38;5;241m.\u001b[39m_b \u001b[38;5;241m=\u001b[39m \u001b[38;5;28mself\u001b[39m\u001b[38;5;241m.\u001b[39m_base_ring(data[\u001b[38;5;241m0\u001b[39m])\n\u001b[0;32m    443\u001b[0m \u001b[38;5;28mself\u001b[39m\u001b[38;5;241m.\u001b[39m_index \u001b[38;5;241m=\u001b[39m \u001b[38;5;28mlen\u001b[39m(polyhedron\u001b[38;5;241m.\u001b[39m_Hrepresentation)\n",
      "File \u001b[1;32m/usr/lib/python3.11/site-packages/sage/modules/free_module_element.pyx:1893\u001b[0m, in \u001b[0;36msage.modules.free_module_element.FreeModuleElement.__setitem__ (build/cythonized/sage/modules/free_module_element.c:20096)\u001b[1;34m()\u001b[0m\n\u001b[0;32m   1891\u001b[0m if isinstance(i, slice):\n\u001b[0;32m   1892\u001b[0m     PySlice_GetIndicesEx(i, d, &start, &stop, &step, &slicelength)\n\u001b[1;32m-> 1893\u001b[0m     values = [R(x) for x in value]\n\u001b[0;32m   1894\u001b[0m     if len(values) != slicelength:\n\u001b[0;32m   1895\u001b[0m         raise IndexError(\"slice assignment would change dimension\")\n",
      "File \u001b[1;32m/usr/lib/python3.11/site-packages/sage/structure/parent.pyx:901\u001b[0m, in \u001b[0;36msage.structure.parent.Parent.__call__ (build/cythonized/sage/structure/parent.c:12682)\u001b[1;34m()\u001b[0m\n\u001b[0;32m    899\u001b[0m if mor is not None:\n\u001b[0;32m    900\u001b[0m     if no_extra_args:\n\u001b[1;32m--> 901\u001b[0m         return mor._call_(x)\n\u001b[0;32m    902\u001b[0m     else:\n\u001b[0;32m    903\u001b[0m         return mor._call_with_args(x, args, kwds)\n",
      "File \u001b[1;32m/usr/lib/python3.11/site-packages/sage/structure/coerce_maps.pyx:158\u001b[0m, in \u001b[0;36msage.structure.coerce_maps.DefaultConvertMap_unique._call_ (build/cythonized/sage/structure/coerce_maps.c:6850)\u001b[1;34m()\u001b[0m\n\u001b[0;32m    156\u001b[0m cdef Parent C = self._codomain\n\u001b[0;32m    157\u001b[0m try:\n\u001b[1;32m--> 158\u001b[0m     return C._element_constructor(x)\n\u001b[0;32m    159\u001b[0m except Exception:\n\u001b[0;32m    160\u001b[0m     if print_warnings:\n",
      "File \u001b[1;32m/usr/lib/python3.11/site-packages/sage/rings/rational.pyx:536\u001b[0m, in \u001b[0;36msage.rings.rational.Rational.__init__ (build/cythonized/sage/rings/rational.cpp:14338)\u001b[1;34m()\u001b[0m\n\u001b[0;32m    534\u001b[0m     \"\"\"\n\u001b[0;32m    535\u001b[0m     if x is not None:\n\u001b[1;32m--> 536\u001b[0m         self.__set_value(x, base)\n\u001b[0;32m    537\u001b[0m \n\u001b[0;32m    538\u001b[0m def __reduce__(self):\n",
      "File \u001b[1;32m/usr/lib/python3.11/site-packages/sage/rings/rational.pyx:670\u001b[0m, in \u001b[0;36msage.rings.rational.Rational._Rational__set_value (build/cythonized/sage/rings/rational.cpp:16279)\u001b[1;34m()\u001b[0m\n\u001b[0;32m    668\u001b[0m         raise TypeError(\"unable to convert {!r} to a rational\".format(x))\n\u001b[0;32m    669\u001b[0m \n\u001b[1;32m--> 670\u001b[0m elif isinstance(x, fractions.Fraction):\n\u001b[0;32m    671\u001b[0m     mpz_set(mpq_numref(self.value), (<integer.Integer> integer.Integer(x.numerator)).value)\n\u001b[0;32m    672\u001b[0m     mpz_set(mpq_denref(self.value), (<integer.Integer> integer.Integer(x.denominator)).value)\n",
      "File \u001b[1;32m<frozen abc>:117\u001b[0m, in \u001b[0;36m__instancecheck__\u001b[1;34m(cls, instance)\u001b[0m\n",
      "File \u001b[1;32msrc/cysignals/signals.pyx:341\u001b[0m, in \u001b[0;36mcysignals.signals.python_check_interrupt\u001b[1;34m()\u001b[0m\n",
      "\u001b[1;31mKeyboardInterrupt\u001b[0m: "
     ]
    }
   ],
   "source": [
    "D1.section_ring(9)"
   ]
  },
  {
   "cell_type": "code",
   "execution_count": 6,
   "metadata": {},
   "outputs": [
    {
     "data": {
      "text/plain": [
       "False"
      ]
     },
     "execution_count": 6,
     "metadata": {},
     "output_type": "execute_result"
    }
   ],
   "source": [
    "D1.is_K_stable()"
   ]
  },
  {
   "cell_type": "code",
   "execution_count": 7,
   "metadata": {},
   "outputs": [
    {
     "data": {
      "text/plain": [
       "530.8194407948997"
      ]
     },
     "execution_count": 7,
     "metadata": {},
     "output_type": "execute_result"
    }
   ],
   "source": [
    "D1.nvol_of_val(D1.minimize_nvol())"
   ]
  },
  {
   "cell_type": "code",
   "execution_count": 8,
   "metadata": {},
   "outputs": [],
   "source": [
    "DF=D1.destabilizing_family()"
   ]
  },
  {
   "cell_type": "code",
   "execution_count": 9,
   "metadata": {},
   "outputs": [
    {
     "data": {
      "text/plain": [
       "True"
      ]
     },
     "execution_count": 9,
     "metadata": {},
     "output_type": "execute_result"
    }
   ],
   "source": [
    "DF == D1.degeneration_family(PS(0,1))"
   ]
  },
  {
   "cell_type": "code",
   "execution_count": 10,
   "metadata": {},
   "outputs": [
    {
     "ename": "KeyboardInterrupt",
     "evalue": "",
     "output_type": "error",
     "traceback": [
      "\u001b[0;31m---------------------------------------------------------------------------\u001b[0m",
      "\u001b[0;31mKeyboardInterrupt\u001b[0m                         Traceback (most recent call last)",
      "Cell \u001b[0;32mIn[10], line 1\u001b[0m\n\u001b[0;32m----> 1\u001b[0m R\u001b[38;5;241m=\u001b[39m\u001b[43mDF\u001b[49m\u001b[38;5;241;43m.\u001b[39;49m\u001b[43msection_ring\u001b[49m\u001b[43m(\u001b[49m\u001b[43mInteger\u001b[49m\u001b[43m(\u001b[49m\u001b[38;5;241;43m13\u001b[39;49m\u001b[43m)\u001b[49m\u001b[43m)\u001b[49m\n",
      "File \u001b[0;32m~/tvarieties/sage_tvars/tvars/class_PolyhedralDivisor.py:492\u001b[0m, in \u001b[0;36mPolyhedralDivisor.section_ring\u001b[0;34m(self, max_ngens)\u001b[0m\n\u001b[1;32m    489\u001b[0m     \u001b[38;5;28;01mraise\u001b[39;00m \u001b[38;5;167;01mValueError\u001b[39;00m(\u001b[38;5;124m'\u001b[39m\u001b[38;5;124mThe polyhedral divisor is not proper\u001b[39m\u001b[38;5;124m'\u001b[39m)\n\u001b[1;32m    491\u001b[0m D\u001b[38;5;241m=\u001b[39m\u001b[38;5;28mself\u001b[39m\u001b[38;5;241m.\u001b[39m__shift()\n\u001b[0;32m--> 492\u001b[0m G\u001b[38;5;241m=\u001b[39m\u001b[38;5;28;43mself\u001b[39;49m\u001b[38;5;241;43m.\u001b[39;49m\u001b[43mgenerating_degrees\u001b[49m\u001b[43m(\u001b[49m\u001b[43m)\u001b[49m\n\u001b[1;32m    493\u001b[0m G\u001b[38;5;241m=\u001b[39mG[:\u001b[38;5;28mmin\u001b[39m(\u001b[38;5;28mlen\u001b[39m(G),max_ngens)]\n\u001b[1;32m    495\u001b[0m \u001b[38;5;66;03m#creating C2 (the codomain of our map)\u001b[39;00m\n",
      "File \u001b[0;32m~/tvarieties/sage_tvars/tvars/class_PolyhedralDivisor.py:452\u001b[0m, in \u001b[0;36mPolyhedralDivisor.generating_degrees\u001b[0;34m(self)\u001b[0m\n\u001b[1;32m    450\u001b[0m \u001b[38;5;66;03m#ordering of G\u001b[39;00m\n\u001b[1;32m    451\u001b[0m \u001b[38;5;28;01mfor\u001b[39;00m u \u001b[38;5;129;01min\u001b[39;00m G:\n\u001b[0;32m--> 452\u001b[0m     \u001b[38;5;28;01mif\u001b[39;00m \u001b[38;5;28;43mself\u001b[39;49m\u001b[43m(\u001b[49m\u001b[43mu\u001b[49m\u001b[43m)\u001b[49m\u001b[38;5;241m.\u001b[39mdeg\u001b[38;5;241m==\u001b[39m\u001b[38;5;241m0\u001b[39m:\n\u001b[1;32m    453\u001b[0m         a\u001b[38;5;241m=\u001b[39mlcm(denominator(\u001b[38;5;28mself\u001b[39m(u)[y]) \u001b[38;5;28;01mfor\u001b[39;00m y \u001b[38;5;129;01min\u001b[39;00m \u001b[38;5;28mself\u001b[39m(u)\u001b[38;5;241m.\u001b[39msupp())\n\u001b[1;32m    454\u001b[0m         \u001b[38;5;28;01mif\u001b[39;00m a\u001b[38;5;241m*\u001b[39mu \u001b[38;5;129;01mnot\u001b[39;00m \u001b[38;5;129;01min\u001b[39;00m G_ordered: G_ordered\u001b[38;5;241m.\u001b[39mappend(a\u001b[38;5;241m*\u001b[39mu)\n",
      "File \u001b[0;32m~/tvarieties/sage_tvars/tvars/class_PolyhedralDivisor.py:189\u001b[0m, in \u001b[0;36mPolyhedralDivisor.__call__\u001b[0;34m(self, u)\u001b[0m\n\u001b[1;32m    188\u001b[0m \u001b[38;5;28;01mdef\u001b[39;00m \u001b[38;5;21m__call__\u001b[39m(\u001b[38;5;28mself\u001b[39m,u):\n\u001b[0;32m--> 189\u001b[0m     \u001b[38;5;28;01mreturn\u001b[39;00m \u001b[38;5;28;43mself\u001b[39;49m\u001b[38;5;241;43m.\u001b[39;49m\u001b[43mevaluate\u001b[49m\u001b[43m(\u001b[49m\u001b[43mu\u001b[49m\u001b[43m)\u001b[49m\n",
      "File \u001b[0;32m~/tvarieties/sage_tvars/tvars/class_PolyhedralDivisor.py:183\u001b[0m, in \u001b[0;36mPolyhedralDivisor.evaluate\u001b[0;34m(self, u)\u001b[0m\n\u001b[1;32m    160\u001b[0m \u001b[38;5;250m\u001b[39m\u001b[38;5;124;03m\"\"\"\u001b[39;00m\n\u001b[1;32m    161\u001b[0m \u001b[38;5;124;03mArgs:\u001b[39;00m\n\u001b[1;32m    162\u001b[0m \u001b[38;5;124;03m        u : (vector)\u001b[39;00m\n\u001b[0;32m   (...)\u001b[0m\n\u001b[1;32m    180\u001b[0m \u001b[38;5;124;03m    \u001b[39;00m\n\u001b[1;32m    181\u001b[0m \u001b[38;5;124;03m\"\"\"\u001b[39;00m\n\u001b[1;32m    182\u001b[0m \u001b[38;5;28;01mif\u001b[39;00m u \u001b[38;5;129;01min\u001b[39;00m \u001b[38;5;28mself\u001b[39m\u001b[38;5;241m.\u001b[39mtail\u001b[38;5;241m.\u001b[39mdual()\u001b[38;5;241m.\u001b[39mpolyhedron():    \u001b[38;5;66;03m#checks whether the given point belongs to the dual of tail\u001b[39;00m\n\u001b[0;32m--> 183\u001b[0m     \u001b[38;5;28;01mreturn\u001b[39;00m RationalDivisor({y: \u001b[38;5;28mmin\u001b[39m([vector(v)\u001b[38;5;241m.\u001b[39mdot_product(u) \u001b[38;5;28;01mfor\u001b[39;00m v \u001b[38;5;129;01min\u001b[39;00m \u001b[38;5;28mself\u001b[39m[y]\u001b[38;5;241m.\u001b[39mvertices()]) \u001b[38;5;28;01mif\u001b[39;00m \u001b[38;5;129;01mnot\u001b[39;00m \u001b[38;5;28mself\u001b[39m[y]\u001b[38;5;241m.\u001b[39mis_empty() \u001b[38;5;28;01melse\u001b[39;00m oo \u001b[38;5;28;01mfor\u001b[39;00m y \u001b[38;5;129;01min\u001b[39;00m \u001b[38;5;28mself\u001b[39m\u001b[38;5;241m.\u001b[39mdata })\n\u001b[1;32m    185\u001b[0m \u001b[38;5;28;01melse\u001b[39;00m:\n\u001b[1;32m    186\u001b[0m     \u001b[38;5;28;01mraise\u001b[39;00m \u001b[38;5;167;01mValueError\u001b[39;00m(\u001b[38;5;124m\"\u001b[39m\u001b[38;5;124mGiven vector does not belong to the dual of tail\u001b[39m\u001b[38;5;124m\"\u001b[39m)\n",
      "File \u001b[0;32m~/tvarieties/sage_tvars/tvars/class_PolyhedralDivisor.py:183\u001b[0m, in \u001b[0;36m<dictcomp>\u001b[0;34m(.0)\u001b[0m\n\u001b[1;32m    160\u001b[0m \u001b[38;5;250m\u001b[39m\u001b[38;5;124;03m\"\"\"\u001b[39;00m\n\u001b[1;32m    161\u001b[0m \u001b[38;5;124;03mArgs:\u001b[39;00m\n\u001b[1;32m    162\u001b[0m \u001b[38;5;124;03m        u : (vector)\u001b[39;00m\n\u001b[0;32m   (...)\u001b[0m\n\u001b[1;32m    180\u001b[0m \u001b[38;5;124;03m    \u001b[39;00m\n\u001b[1;32m    181\u001b[0m \u001b[38;5;124;03m\"\"\"\u001b[39;00m\n\u001b[1;32m    182\u001b[0m \u001b[38;5;28;01mif\u001b[39;00m u \u001b[38;5;129;01min\u001b[39;00m \u001b[38;5;28mself\u001b[39m\u001b[38;5;241m.\u001b[39mtail\u001b[38;5;241m.\u001b[39mdual()\u001b[38;5;241m.\u001b[39mpolyhedron():    \u001b[38;5;66;03m#checks whether the given point belongs to the dual of tail\u001b[39;00m\n\u001b[0;32m--> 183\u001b[0m     \u001b[38;5;28;01mreturn\u001b[39;00m RationalDivisor({y: \u001b[38;5;28mmin\u001b[39m([vector(v)\u001b[38;5;241m.\u001b[39mdot_product(u) \u001b[38;5;28;01mfor\u001b[39;00m v \u001b[38;5;129;01min\u001b[39;00m \u001b[38;5;28;43mself\u001b[39;49m\u001b[43m[\u001b[49m\u001b[43my\u001b[49m\u001b[43m]\u001b[49m\u001b[38;5;241m.\u001b[39mvertices()]) \u001b[38;5;28;01mif\u001b[39;00m \u001b[38;5;129;01mnot\u001b[39;00m \u001b[38;5;28mself\u001b[39m[y]\u001b[38;5;241m.\u001b[39mis_empty() \u001b[38;5;28;01melse\u001b[39;00m oo \u001b[38;5;28;01mfor\u001b[39;00m y \u001b[38;5;129;01min\u001b[39;00m \u001b[38;5;28mself\u001b[39m\u001b[38;5;241m.\u001b[39mdata })\n\u001b[1;32m    185\u001b[0m \u001b[38;5;28;01melse\u001b[39;00m:\n\u001b[1;32m    186\u001b[0m     \u001b[38;5;28;01mraise\u001b[39;00m \u001b[38;5;167;01mValueError\u001b[39;00m(\u001b[38;5;124m\"\u001b[39m\u001b[38;5;124mGiven vector does not belong to the dual of tail\u001b[39m\u001b[38;5;124m\"\u001b[39m)\n",
      "File \u001b[0;32m~/tvarieties/sage_tvars/tvars/class_Divisor.py:119\u001b[0m, in \u001b[0;36mDivisor.__getitem__\u001b[0;34m(self, y)\u001b[0m\n\u001b[1;32m    108\u001b[0m \u001b[38;5;28;01mdef\u001b[39;00m \u001b[38;5;21m__getitem__\u001b[39m(\u001b[38;5;28mself\u001b[39m, y):\n\u001b[1;32m    109\u001b[0m \u001b[38;5;250m    \u001b[39m\u001b[38;5;124;03m\"\"\"\u001b[39;00m\n\u001b[1;32m    110\u001b[0m \u001b[38;5;124;03m    Provide indexing support to retrieve the coefficient associated with a point.\u001b[39;00m\n\u001b[1;32m    111\u001b[0m \n\u001b[0;32m   (...)\u001b[0m\n\u001b[1;32m    117\u001b[0m \n\u001b[1;32m    118\u001b[0m \u001b[38;5;124;03m    \"\"\"\u001b[39;00m\n\u001b[0;32m--> 119\u001b[0m     \u001b[38;5;28;01mreturn\u001b[39;00m \u001b[38;5;28;43mself\u001b[39;49m\u001b[38;5;241;43m.\u001b[39;49m\u001b[43mcoefficient\u001b[49m\u001b[43m(\u001b[49m\u001b[43my\u001b[49m\u001b[43m)\u001b[49m\n",
      "File \u001b[0;32m~/tvarieties/sage_tvars/tvars/class_Divisor.py:106\u001b[0m, in \u001b[0;36mDivisor.coefficient\u001b[0;34m(self, x)\u001b[0m\n\u001b[1;32m     94\u001b[0m \u001b[38;5;28;01mdef\u001b[39;00m \u001b[38;5;21mcoefficient\u001b[39m(\u001b[38;5;28mself\u001b[39m, x):\n\u001b[1;32m     95\u001b[0m \u001b[38;5;250m    \u001b[39m\u001b[38;5;124;03m\"\"\"\u001b[39;00m\n\u001b[1;32m     96\u001b[0m \u001b[38;5;124;03m    Return the coefficient associated with a given point.\u001b[39;00m\n\u001b[1;32m     97\u001b[0m \n\u001b[0;32m   (...)\u001b[0m\n\u001b[1;32m    104\u001b[0m \n\u001b[1;32m    105\u001b[0m \u001b[38;5;124;03m    \"\"\"\u001b[39;00m\n\u001b[0;32m--> 106\u001b[0m     \u001b[38;5;28;01mreturn\u001b[39;00m \u001b[38;5;28mself\u001b[39m\u001b[38;5;241m.\u001b[39mdata[x] \u001b[38;5;28;01mif\u001b[39;00m x \u001b[38;5;129;01min\u001b[39;00m \u001b[38;5;28;43mself\u001b[39;49m\u001b[38;5;241;43m.\u001b[39;49m\u001b[43msupp\u001b[49m\u001b[43m(\u001b[49m\u001b[43m)\u001b[49m \u001b[38;5;28;01melse\u001b[39;00m \u001b[38;5;28mself\u001b[39m\u001b[38;5;241m.\u001b[39mdefault_coefficient\n",
      "File \u001b[0;32m~/tvarieties/sage_tvars/tvars/class_Divisor.py:92\u001b[0m, in \u001b[0;36mDivisor.supp\u001b[0;34m(self)\u001b[0m\n\u001b[1;32m     84\u001b[0m \u001b[38;5;28;01mdef\u001b[39;00m \u001b[38;5;21msupp\u001b[39m(\u001b[38;5;28mself\u001b[39m):\n\u001b[1;32m     85\u001b[0m \u001b[38;5;250m    \u001b[39m\u001b[38;5;124;03m\"\"\"\u001b[39;00m\n\u001b[1;32m     86\u001b[0m \u001b[38;5;124;03m    Return the set of points in the projective space with non-default coefficients.\u001b[39;00m\n\u001b[1;32m     87\u001b[0m \n\u001b[0;32m   (...)\u001b[0m\n\u001b[1;32m     90\u001b[0m \n\u001b[1;32m     91\u001b[0m \u001b[38;5;124;03m    \"\"\"\u001b[39;00m\n\u001b[0;32m---> 92\u001b[0m     \u001b[38;5;28;01mreturn\u001b[39;00m \u001b[38;5;28mset\u001b[39m([y \u001b[38;5;28;01mfor\u001b[39;00m y \u001b[38;5;129;01min\u001b[39;00m \u001b[38;5;28mself\u001b[39m\u001b[38;5;241m.\u001b[39mdata\u001b[38;5;241m.\u001b[39mkeys() \u001b[38;5;28;01mif\u001b[39;00m \u001b[38;5;28mself\u001b[39m\u001b[38;5;241m.\u001b[39mdata[y] \u001b[38;5;241m!=\u001b[39m \u001b[38;5;28mself\u001b[39m\u001b[38;5;241m.\u001b[39mdefault_coefficient])\n",
      "File \u001b[0;32m~/tvarieties/sage_tvars/tvars/class_Divisor.py:92\u001b[0m, in \u001b[0;36m<listcomp>\u001b[0;34m(.0)\u001b[0m\n\u001b[1;32m     84\u001b[0m \u001b[38;5;28;01mdef\u001b[39;00m \u001b[38;5;21msupp\u001b[39m(\u001b[38;5;28mself\u001b[39m):\n\u001b[1;32m     85\u001b[0m \u001b[38;5;250m    \u001b[39m\u001b[38;5;124;03m\"\"\"\u001b[39;00m\n\u001b[1;32m     86\u001b[0m \u001b[38;5;124;03m    Return the set of points in the projective space with non-default coefficients.\u001b[39;00m\n\u001b[1;32m     87\u001b[0m \n\u001b[0;32m   (...)\u001b[0m\n\u001b[1;32m     90\u001b[0m \n\u001b[1;32m     91\u001b[0m \u001b[38;5;124;03m    \"\"\"\u001b[39;00m\n\u001b[0;32m---> 92\u001b[0m     \u001b[38;5;28;01mreturn\u001b[39;00m \u001b[38;5;28mset\u001b[39m([y \u001b[38;5;28;01mfor\u001b[39;00m y \u001b[38;5;129;01min\u001b[39;00m \u001b[38;5;28mself\u001b[39m\u001b[38;5;241m.\u001b[39mdata\u001b[38;5;241m.\u001b[39mkeys() \u001b[38;5;28;01mif\u001b[39;00m \u001b[38;5;28;43mself\u001b[39;49m\u001b[38;5;241;43m.\u001b[39;49m\u001b[43mdata\u001b[49m\u001b[43m[\u001b[49m\u001b[43my\u001b[49m\u001b[43m]\u001b[49m\u001b[43m \u001b[49m\u001b[38;5;241;43m!=\u001b[39;49m\u001b[43m \u001b[49m\u001b[38;5;28;43mself\u001b[39;49m\u001b[38;5;241;43m.\u001b[39;49m\u001b[43mdefault_coefficient\u001b[49m])\n",
      "File \u001b[0;32m~/mambaforge/envs/sage/lib/python3.9/site-packages/sage/structure/element.pyx:1107\u001b[0m, in \u001b[0;36msage.structure.element.Element.__richcmp__ (build/cythonized/sage/structure/element.c:18154)\u001b[0;34m()\u001b[0m\n\u001b[1;32m   1105\u001b[0m         return (<Element>self)._richcmp_(other, op)\n\u001b[1;32m   1106\u001b[0m     else:\n\u001b[0;32m-> 1107\u001b[0m         return coercion_model.richcmp(self, other, op)\n\u001b[1;32m   1108\u001b[0m \n\u001b[1;32m   1109\u001b[0m cpdef _richcmp_(left, right, int op) noexcept:\n",
      "File \u001b[0;32m~/mambaforge/envs/sage/lib/python3.9/site-packages/sage/structure/coerce.pyx:2029\u001b[0m, in \u001b[0;36msage.structure.coerce.CoercionModel.richcmp (build/cythonized/sage/structure/coerce.c:26315)\u001b[0;34m()\u001b[0m\n\u001b[1;32m   2027\u001b[0m     assert not (isinstance(x, Element) and\n\u001b[1;32m   2028\u001b[0m         (<Element>x)._parent.get_flag(Parent_richcmp_element_without_coercion))\n\u001b[0;32m-> 2029\u001b[0m     return PyObject_RichCompare(x, y, op)\n\u001b[1;32m   2030\u001b[0m \n\u001b[1;32m   2031\u001b[0m # Comparing with coercion didn't work, try something else.\n",
      "File \u001b[0;32m~/mambaforge/envs/sage/lib/python3.9/site-packages/sage/structure/element.pyx:1105\u001b[0m, in \u001b[0;36msage.structure.element.Element.__richcmp__ (build/cythonized/sage/structure/element.c:18130)\u001b[0;34m()\u001b[0m\n\u001b[1;32m   1103\u001b[0m     # an instance of Element. The explicit casts below make\n\u001b[1;32m   1104\u001b[0m     # Cython generate optimized code for this call.\n\u001b[0;32m-> 1105\u001b[0m     return (<Element>self)._richcmp_(other, op)\n\u001b[1;32m   1106\u001b[0m else:\n\u001b[1;32m   1107\u001b[0m     return coercion_model.richcmp(self, other, op)\n",
      "File \u001b[0;32m~/mambaforge/envs/sage/lib/python3.9/site-packages/sage/structure/element.pyx:1109\u001b[0m, in \u001b[0;36msage.structure.element.Element._richcmp_ (build/cythonized/sage/structure/element.c:18244)\u001b[0;34m()\u001b[0m\n\u001b[1;32m   1107\u001b[0m         return coercion_model.richcmp(self, other, op)\n\u001b[1;32m   1108\u001b[0m \n\u001b[0;32m-> 1109\u001b[0m cpdef _richcmp_(left, right, int op) noexcept:\n\u001b[1;32m   1110\u001b[0m     r\"\"\"\n\u001b[1;32m   1111\u001b[0m     Basic default implementation of rich comparisons for elements with\n",
      "File \u001b[0;32m~/mambaforge/envs/sage/lib/python3.9/site-packages/sage/geometry/polyhedron/base1.py:226\u001b[0m, in \u001b[0;36mPolyhedron_base1._richcmp_\u001b[0;34m(self, other, op)\u001b[0m\n\u001b[1;32m    223\u001b[0m     \u001b[38;5;28;01mreturn\u001b[39;00m op \u001b[38;5;241m==\u001b[39m op_NE\n\u001b[1;32m    225\u001b[0m c0 \u001b[38;5;241m=\u001b[39m \u001b[38;5;28mself\u001b[39m\u001b[38;5;241m.\u001b[39m_is_subpolyhedron(other)\n\u001b[0;32m--> 226\u001b[0m c1 \u001b[38;5;241m=\u001b[39m \u001b[43mother\u001b[49m\u001b[38;5;241;43m.\u001b[39;49m\u001b[43m_is_subpolyhedron\u001b[49m\u001b[43m(\u001b[49m\u001b[38;5;28;43mself\u001b[39;49m\u001b[43m)\u001b[49m\n\u001b[1;32m    227\u001b[0m \u001b[38;5;28;01mif\u001b[39;00m c0 \u001b[38;5;129;01mand\u001b[39;00m c1:\n\u001b[1;32m    228\u001b[0m     \u001b[38;5;28;01mreturn\u001b[39;00m rich_to_bool(op, \u001b[38;5;241m0\u001b[39m)\n",
      "File \u001b[0;32m~/mambaforge/envs/sage/lib/python3.9/site-packages/sage/structure/element.pyx:4689\u001b[0m, in \u001b[0;36msage.structure.element.coerce_binop.new_method (build/cythonized/sage/structure/element.c:41157)\u001b[0;34m()\u001b[0m\n\u001b[1;32m   4687\u001b[0m def new_method(self, other, *args, **kwargs):\n\u001b[1;32m   4688\u001b[0m     if have_same_parent(self, other):\n\u001b[0;32m-> 4689\u001b[0m         return method(self, other, *args, **kwargs)\n\u001b[1;32m   4690\u001b[0m     else:\n\u001b[1;32m   4691\u001b[0m         a, b = coercion_model.canonical_coercion(self, other)\n",
      "File \u001b[0;32m~/mambaforge/envs/sage/lib/python3.9/site-packages/sage/geometry/polyhedron/base1.py:259\u001b[0m, in \u001b[0;36mPolyhedron_base1._is_subpolyhedron\u001b[0;34m(self, other)\u001b[0m\n\u001b[1;32m    236\u001b[0m \u001b[38;5;129m@coerce_binop\u001b[39m\n\u001b[1;32m    237\u001b[0m \u001b[38;5;28;01mdef\u001b[39;00m \u001b[38;5;21m_is_subpolyhedron\u001b[39m(\u001b[38;5;28mself\u001b[39m, other):\n\u001b[1;32m    238\u001b[0m \u001b[38;5;250m    \u001b[39m\u001b[38;5;124;03m\"\"\"\u001b[39;00m\n\u001b[1;32m    239\u001b[0m \u001b[38;5;124;03m    Test whether ``self`` is a (not necessarily strict)\u001b[39;00m\n\u001b[1;32m    240\u001b[0m \u001b[38;5;124;03m    sub-polyhedron of ``other``.\u001b[39;00m\n\u001b[0;32m   (...)\u001b[0m\n\u001b[1;32m    257\u001b[0m \u001b[38;5;124;03m        True\u001b[39;00m\n\u001b[1;32m    258\u001b[0m \u001b[38;5;124;03m    \"\"\"\u001b[39;00m\n\u001b[0;32m--> 259\u001b[0m     \u001b[38;5;28;01mreturn\u001b[39;00m \u001b[38;5;28;43mall\u001b[39;49m\u001b[43m(\u001b[49m\u001b[43mother_H\u001b[49m\u001b[38;5;241;43m.\u001b[39;49m\u001b[43mcontains\u001b[49m\u001b[43m(\u001b[49m\u001b[43mself_V\u001b[49m\u001b[43m)\u001b[49m\n\u001b[1;32m    260\u001b[0m \u001b[43m               \u001b[49m\u001b[38;5;28;43;01mfor\u001b[39;49;00m\u001b[43m \u001b[49m\u001b[43mother_H\u001b[49m\u001b[43m \u001b[49m\u001b[38;5;129;43;01min\u001b[39;49;00m\u001b[43m \u001b[49m\u001b[43mother\u001b[49m\u001b[38;5;241;43m.\u001b[39;49m\u001b[43mHrepresentation\u001b[49m\u001b[43m(\u001b[49m\u001b[43m)\u001b[49m\n\u001b[1;32m    261\u001b[0m \u001b[43m               \u001b[49m\u001b[38;5;28;43;01mfor\u001b[39;49;00m\u001b[43m \u001b[49m\u001b[43mself_V\u001b[49m\u001b[43m \u001b[49m\u001b[38;5;129;43;01min\u001b[39;49;00m\u001b[43m \u001b[49m\u001b[38;5;28;43mself\u001b[39;49m\u001b[38;5;241;43m.\u001b[39;49m\u001b[43mVrepresentation\u001b[49m\u001b[43m(\u001b[49m\u001b[43m)\u001b[49m\u001b[43m)\u001b[49m\n",
      "File \u001b[0;32m~/mambaforge/envs/sage/lib/python3.9/site-packages/sage/geometry/polyhedron/base1.py:259\u001b[0m, in \u001b[0;36m<genexpr>\u001b[0;34m(.0)\u001b[0m\n\u001b[1;32m    236\u001b[0m \u001b[38;5;129m@coerce_binop\u001b[39m\n\u001b[1;32m    237\u001b[0m \u001b[38;5;28;01mdef\u001b[39;00m \u001b[38;5;21m_is_subpolyhedron\u001b[39m(\u001b[38;5;28mself\u001b[39m, other):\n\u001b[1;32m    238\u001b[0m \u001b[38;5;250m    \u001b[39m\u001b[38;5;124;03m\"\"\"\u001b[39;00m\n\u001b[1;32m    239\u001b[0m \u001b[38;5;124;03m    Test whether ``self`` is a (not necessarily strict)\u001b[39;00m\n\u001b[1;32m    240\u001b[0m \u001b[38;5;124;03m    sub-polyhedron of ``other``.\u001b[39;00m\n\u001b[0;32m   (...)\u001b[0m\n\u001b[1;32m    257\u001b[0m \u001b[38;5;124;03m        True\u001b[39;00m\n\u001b[1;32m    258\u001b[0m \u001b[38;5;124;03m    \"\"\"\u001b[39;00m\n\u001b[0;32m--> 259\u001b[0m     \u001b[38;5;28;01mreturn\u001b[39;00m \u001b[38;5;28mall\u001b[39m(\u001b[43mother_H\u001b[49m\u001b[38;5;241;43m.\u001b[39;49m\u001b[43mcontains\u001b[49m\u001b[43m(\u001b[49m\u001b[43mself_V\u001b[49m\u001b[43m)\u001b[49m\n\u001b[1;32m    260\u001b[0m                \u001b[38;5;28;01mfor\u001b[39;00m other_H \u001b[38;5;129;01min\u001b[39;00m other\u001b[38;5;241m.\u001b[39mHrepresentation()\n\u001b[1;32m    261\u001b[0m                \u001b[38;5;28;01mfor\u001b[39;00m self_V \u001b[38;5;129;01min\u001b[39;00m \u001b[38;5;28mself\u001b[39m\u001b[38;5;241m.\u001b[39mVrepresentation())\n",
      "File \u001b[0;32m~/mambaforge/envs/sage/lib/python3.9/site-packages/sage/geometry/polyhedron/representation.py:949\u001b[0m, in \u001b[0;36mInequality.contains\u001b[0;34m(self, Vobj)\u001b[0m\n\u001b[1;32m    947\u001b[0m     \u001b[38;5;28;01mreturn\u001b[39;00m \u001b[38;5;28mself\u001b[39m\u001b[38;5;241m.\u001b[39mpolyhedron()\u001b[38;5;241m.\u001b[39m_is_zero( \u001b[38;5;28mself\u001b[39m\u001b[38;5;241m.\u001b[39meval(Vobj) )\n\u001b[1;32m    948\u001b[0m \u001b[38;5;28;01melse\u001b[39;00m:\n\u001b[0;32m--> 949\u001b[0m     \u001b[38;5;28;01mreturn\u001b[39;00m \u001b[38;5;28mself\u001b[39m\u001b[38;5;241m.\u001b[39mpolyhedron()\u001b[38;5;241m.\u001b[39m_is_nonneg( \u001b[38;5;28;43mself\u001b[39;49m\u001b[38;5;241;43m.\u001b[39;49m\u001b[43meval\u001b[49m\u001b[43m(\u001b[49m\u001b[43mVobj\u001b[49m\u001b[43m)\u001b[49m )\n",
      "File \u001b[0;32m~/mambaforge/envs/sage/lib/python3.9/site-packages/sage/geometry/polyhedron/representation.py:650\u001b[0m, in \u001b[0;36mHrepresentation.eval\u001b[0;34m(self, Vobj)\u001b[0m\n\u001b[1;32m    648\u001b[0m \u001b[38;5;28;01mif\u001b[39;00m is_Vector(Vobj):\n\u001b[1;32m    649\u001b[0m     \u001b[38;5;28;01mreturn\u001b[39;00m \u001b[38;5;28mself\u001b[39m\u001b[38;5;241m.\u001b[39mA() \u001b[38;5;241m*\u001b[39m Vobj \u001b[38;5;241m+\u001b[39m \u001b[38;5;28mself\u001b[39m\u001b[38;5;241m.\u001b[39mb()\n\u001b[0;32m--> 650\u001b[0m \u001b[38;5;28;01mreturn\u001b[39;00m \u001b[43mVobj\u001b[49m\u001b[38;5;241;43m.\u001b[39;49m\u001b[43mevaluated_on\u001b[49m\u001b[43m(\u001b[49m\u001b[38;5;28;43mself\u001b[39;49m\u001b[43m)\u001b[49m\n",
      "File \u001b[0;32m~/mambaforge/envs/sage/lib/python3.9/site-packages/sage/geometry/polyhedron/representation.py:1559\u001b[0m, in \u001b[0;36mRay.evaluated_on\u001b[0;34m(self, Hobj)\u001b[0m\n\u001b[1;32m   1547\u001b[0m \u001b[38;5;28;01mdef\u001b[39;00m \u001b[38;5;21mevaluated_on\u001b[39m(\u001b[38;5;28mself\u001b[39m, Hobj):\n\u001b[1;32m   1548\u001b[0m \u001b[38;5;250m    \u001b[39m\u001b[38;5;124mr\u001b[39m\u001b[38;5;124;03m\"\"\"\u001b[39;00m\n\u001b[1;32m   1549\u001b[0m \u001b[38;5;124;03m    Return `A\\vec{r}`\u001b[39;00m\n\u001b[1;32m   1550\u001b[0m \n\u001b[0;32m   (...)\u001b[0m\n\u001b[1;32m   1557\u001b[0m \u001b[38;5;124;03m        0\u001b[39;00m\n\u001b[1;32m   1558\u001b[0m \u001b[38;5;124;03m    \"\"\"\u001b[39;00m\n\u001b[0;32m-> 1559\u001b[0m     \u001b[38;5;28;01mreturn\u001b[39;00m \u001b[43mHobj\u001b[49m\u001b[38;5;241;43m.\u001b[39;49m\u001b[43mA\u001b[49m\u001b[43m(\u001b[49m\u001b[43m)\u001b[49m \u001b[38;5;241m*\u001b[39m \u001b[38;5;28mself\u001b[39m\u001b[38;5;241m.\u001b[39mvector()\n",
      "File \u001b[0;32m~/mambaforge/envs/sage/lib/python3.9/site-packages/sage/geometry/polyhedron/representation.py:509\u001b[0m, in \u001b[0;36mHrepresentation.A\u001b[0;34m(self)\u001b[0m\n\u001b[1;32m    489\u001b[0m \u001b[38;5;28;01mdef\u001b[39;00m \u001b[38;5;21mA\u001b[39m(\u001b[38;5;28mself\u001b[39m):\n\u001b[1;32m    490\u001b[0m \u001b[38;5;250m    \u001b[39m\u001b[38;5;124mr\u001b[39m\u001b[38;5;124;03m\"\"\"\u001b[39;00m\n\u001b[1;32m    491\u001b[0m \u001b[38;5;124;03m    Return the coefficient vector `A` in `A\\vec{x}+b`.\u001b[39;00m\n\u001b[1;32m    492\u001b[0m \n\u001b[0;32m   (...)\u001b[0m\n\u001b[1;32m    507\u001b[0m \u001b[38;5;124;03m        An inequality (-1, 0, 0) x + 1 >= 0\u001b[39;00m\n\u001b[1;32m    508\u001b[0m \u001b[38;5;124;03m    \"\"\"\u001b[39;00m\n\u001b[0;32m--> 509\u001b[0m     \u001b[38;5;28;01mreturn\u001b[39;00m \u001b[43mcopy\u001b[49m\u001b[43m(\u001b[49m\u001b[38;5;28;43mself\u001b[39;49m\u001b[38;5;241;43m.\u001b[39;49m\u001b[43m_A\u001b[49m\u001b[43m)\u001b[49m\n",
      "File \u001b[0;32m~/mambaforge/envs/sage/lib/python3.9/copy.py:84\u001b[0m, in \u001b[0;36mcopy\u001b[0;34m(x)\u001b[0m\n\u001b[1;32m     82\u001b[0m copier \u001b[38;5;241m=\u001b[39m \u001b[38;5;28mgetattr\u001b[39m(\u001b[38;5;28mcls\u001b[39m, \u001b[38;5;124m\"\u001b[39m\u001b[38;5;124m__copy__\u001b[39m\u001b[38;5;124m\"\u001b[39m, \u001b[38;5;28;01mNone\u001b[39;00m)\n\u001b[1;32m     83\u001b[0m \u001b[38;5;28;01mif\u001b[39;00m copier \u001b[38;5;129;01mis\u001b[39;00m \u001b[38;5;129;01mnot\u001b[39;00m \u001b[38;5;28;01mNone\u001b[39;00m:\n\u001b[0;32m---> 84\u001b[0m     \u001b[38;5;28;01mreturn\u001b[39;00m \u001b[43mcopier\u001b[49m\u001b[43m(\u001b[49m\u001b[43mx\u001b[49m\u001b[43m)\u001b[49m\n\u001b[1;32m     86\u001b[0m reductor \u001b[38;5;241m=\u001b[39m dispatch_table\u001b[38;5;241m.\u001b[39mget(\u001b[38;5;28mcls\u001b[39m)\n\u001b[1;32m     87\u001b[0m \u001b[38;5;28;01mif\u001b[39;00m reductor \u001b[38;5;129;01mis\u001b[39;00m \u001b[38;5;129;01mnot\u001b[39;00m \u001b[38;5;28;01mNone\u001b[39;00m:\n",
      "File \u001b[0;32m~/mambaforge/envs/sage/lib/python3.9/site-packages/sage/modules/vector_rational_dense.pyx:83\u001b[0m, in \u001b[0;36msage.modules.vector_rational_dense.Vector_rational_dense.__copy__ (build/cythonized/sage/modules/vector_rational_dense.c:7551)\u001b[0;34m()\u001b[0m\n\u001b[1;32m     81\u001b[0m def __copy__(self):\n\u001b[1;32m     82\u001b[0m     cdef Vector_rational_dense y\n\u001b[0;32m---> 83\u001b[0m     y = self._new_c()\n\u001b[1;32m     84\u001b[0m     cdef Py_ssize_t i\n\u001b[1;32m     85\u001b[0m     for i in range(self._degree):\n",
      "File \u001b[0;32m~/mambaforge/envs/sage/lib/python3.9/site-packages/sage/modules/vector_rational_dense.pxd:13\u001b[0m, in \u001b[0;36msage.modules.vector_rational_dense.Vector_rational_dense._new_c (build/cythonized/sage/modules/vector_rational_dense.c:4967)\u001b[0;34m()\u001b[0m\n\u001b[1;32m     11\u001b[0m cdef type t = type(self)\n\u001b[1;32m     12\u001b[0m cdef Vector_rational_dense x = <Vector_rational_dense>(t.__new__(t))\n\u001b[0;32m---> 13\u001b[0m x._init(self._degree, self._parent)\n\u001b[1;32m     14\u001b[0m return x\n",
      "File \u001b[0;32m~/mambaforge/envs/sage/lib/python3.9/site-packages/sage/modules/vector_rational_dense.pyx:127\u001b[0m, in \u001b[0;36msage.modules.vector_rational_dense.Vector_rational_dense._init (build/cythonized/sage/modules/vector_rational_dense.c:7650)\u001b[0;34m()\u001b[0m\n\u001b[1;32m    125\u001b[0m cdef mpq_t* entries = <mpq_t*>check_allocarray(degree, sizeof(mpq_t))\n\u001b[1;32m    126\u001b[0m cdef Py_ssize_t i\n\u001b[0;32m--> 127\u001b[0m sig_on()\n\u001b[1;32m    128\u001b[0m for i in range(degree):\n\u001b[1;32m    129\u001b[0m     mpq_init(entries[i])\n",
      "\u001b[0;31mKeyboardInterrupt\u001b[0m: "
     ]
    }
   ],
   "source": [
    "R=DF.section_ring(13)"
   ]
  },
  {
   "cell_type": "code",
   "execution_count": null,
   "metadata": {},
   "outputs": [
    {
     "data": {
      "text/plain": [
       "Quotient of Multivariate Polynomial Ring in z0, z1, z2, z3, z4, z5, z6, z7, z8 over Rational Field by the ideal (z5*z6 + z2*z7 - z1*z8, z1*z3 - z4*z5, z0^3*z7 + z3*z6 - z4*z8, z0^3*z5 - z2*z3, z0^3*z1 - z2*z4)"
      ]
     },
     "execution_count": 16,
     "metadata": {},
     "output_type": "execute_result"
    }
   ],
   "source": [
    "R"
   ]
  },
  {
   "cell_type": "code",
   "execution_count": null,
   "metadata": {},
   "outputs": [],
   "source": [
    "I=R.defining_ideal()\n",
    "S=I.ring()"
   ]
  },
  {
   "cell_type": "code",
   "execution_count": null,
   "metadata": {},
   "outputs": [
    {
     "data": {
      "text/plain": [
       "[z0^3*z1 - z2*z4, z0^3*z5 - z2*z3, z0^3*z7 + z3*z6 - z4*z8, z1*z3 - z4*z5, z5*z6 + z2*z7 - z1*z8]"
      ]
     },
     "execution_count": 18,
     "metadata": {},
     "output_type": "execute_result"
    }
   ],
   "source": [
    "I.groebner_basis()"
   ]
  },
  {
   "cell_type": "code",
   "execution_count": null,
   "metadata": {},
   "outputs": [],
   "source": [
    "T.<x1,x2,y,f1,g1,f2,g2,t,h> = QQ[]"
   ]
  },
  {
   "cell_type": "code",
   "execution_count": null,
   "metadata": {},
   "outputs": [],
   "source": [
    "phi=S.hom([h,f1,y,x1,x2,g1,f2,t,g2],T)\n",
    "psi=S.hom([h,f1,y,x1,x2,g1,f2,1,g2],T)"
   ]
  },
  {
   "cell_type": "code",
   "execution_count": null,
   "metadata": {},
   "outputs": [
    {
     "data": {
      "text/plain": [
       "[g1*f2 - f1*g2 + y*t, x1*f1 - x2*g1, t*h^3 + x1*f2 - x2*g2, g1*h^3 - x1*y, f1*h^3 - x2*y]"
      ]
     },
     "execution_count": 21,
     "metadata": {},
     "output_type": "execute_result"
    }
   ],
   "source": [
    "phi(I).gens()"
   ]
  },
  {
   "cell_type": "code",
   "execution_count": null,
   "metadata": {},
   "outputs": [
    {
     "data": {
      "text/plain": [
       "[h^3 + x1*f2 - x2*g2, x1*f1 - x2*g1, g1*f2 - f1*g2 + y]"
      ]
     },
     "execution_count": 22,
     "metadata": {},
     "output_type": "execute_result"
    }
   ],
   "source": [
    "psi(I).groebner_basis()"
   ]
  }
 ],
 "metadata": {
  "kernelspec": {
   "display_name": "SageMath 10.2",
   "language": "sage",
   "name": "sagemath"
  },
  "language_info": {
   "codemirror_mode": {
    "name": "ipython",
    "version": 3
   },
   "file_extension": ".py",
   "mimetype": "text/x-python",
   "name": "python",
   "nbconvert_exporter": "python",
   "pygments_lexer": "ipython3",
   "version": "3.11.8"
  }
 },
 "nbformat": 4,
 "nbformat_minor": 4
}
