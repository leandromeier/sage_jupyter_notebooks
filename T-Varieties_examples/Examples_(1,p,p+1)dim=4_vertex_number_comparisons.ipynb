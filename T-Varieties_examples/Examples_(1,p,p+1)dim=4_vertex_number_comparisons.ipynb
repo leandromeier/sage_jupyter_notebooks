{
 "cells": [
  {
   "cell_type": "code",
   "execution_count": 91,
   "metadata": {
    "collapsed": false,
    "jupyter": {
     "outputs_hidden": false
    }
   },
   "outputs": [],
   "source": [
    "import sys\n",
    "sys.path.insert(0, '/home/leandro/math/sage/sage_tvars')\n",
    "from tvars import *\n",
    "PS=ProjectiveSpace(1,QQ)\n",
    "BR = QQ;\n",
    "# goal: compare in dimension 4 two p-divisors of type (p,q,1) with 3 / 4 nontrivial slices, with 1, 1, 4, resp. 1,1,2,2 vertices"
   ]
  },
  {
   "cell_type": "code",
   "execution_count": 212,
   "metadata": {},
   "outputs": [
    {
     "data": {
      "text/plain": [
       "PolyhedralDivisor with support {(0 : 1), (1 : 0), (1 : 1), (2 : 1)}"
      ]
     },
     "execution_count": 212,
     "metadata": {},
     "output_type": "execute_result"
    }
   ],
   "source": [
    "n=3\n",
    "p = 8\n",
    "# q should be >p\n",
    "q = p+1;\n",
    "E = ((QQ)^n).basis();\n",
    "v0= (1/p)*E[0]\n",
    "#print(v0)\n",
    "v_inf= (-1/q)*E[0]\n",
    "v1= vector([0,1,0])\n",
    "v2 = vector([0,0,1])\n",
    "#v3 = vector([1,2,2])\n",
    "z = zero_vector(ZZ,n)\n",
    "sigma1 = Cone([v0 + v_inf, v0 + v1 + v_inf, v0 + v2 + v_inf, v0 + v1 +v2 + v_inf]).rays()\n",
    "#sigma1 = Cone([v0 + v_inf, v0 + v1 + v_inf, v0 + v2 + v_inf]).rays() #=sigma2\n",
    "# the p-divisor\n",
    "dict1 = {PS(0,1) : Polyhedron(vertices=[v0],rays=sigma1),\n",
    "        PS(1,0) : Polyhedron(vertices=[v_inf],rays=sigma1),\n",
    "        PS(1,1) : Polyhedron(vertices=[z, v1],rays=sigma1),\n",
    "        PS(2,1) : Polyhedron(vertices=[z, v2],rays=sigma1),\n",
    "        #PS(1,3) : Polyhedron(vertices=[zero_vector(ZZ,n),v3],rays=sigma),\n",
    "       }\n",
    "D1 = PolyhedralDivisor(dict1);\n",
    "if not D1.is_Q_Gorenstein():\n",
    "    #print(\"Not Q-G\")\n",
    "    raise NotImplementedError(f\"The variety is not Q-Gorenstein.\")\n",
    "if not D1.is_proper():\n",
    "    print(\"not proper\")\n",
    "    #raise NotImplementedError(f\"The divisor is not proper.\")\n",
    "[v for v in D1.deg.vertices() if not D1.tail.polyhedron().contains(v)]\n",
    "D1"
   ]
  },
  {
   "cell_type": "code",
   "execution_count": 200,
   "metadata": {},
   "outputs": [
    {
     "data": {
      "text/plain": [
       "False"
      ]
     },
     "execution_count": 200,
     "metadata": {},
     "output_type": "execute_result"
    }
   ],
   "source": [
    "D1.deg.contains(D1.deg.ambient_space().zero())"
   ]
  },
  {
   "cell_type": "code",
   "execution_count": 201,
   "metadata": {},
   "outputs": [
    {
     "data": {
      "text/plain": [
       "PolyhedralDivisor with support {(0 : 1), (1 : 0), (1 : 1)}"
      ]
     },
     "execution_count": 201,
     "metadata": {},
     "output_type": "execute_result"
    }
   ],
   "source": [
    "#sigma2 = Cone([v0 + v_inf, v0 + v1 + v_inf, v0 + v2 + v_inf]).rays()\n",
    "sigma2 = sigma1\n",
    "# the p-divisor\n",
    "dict2 = {PS(0,1) : Polyhedron(vertices=[v0],rays=sigma2),\n",
    "        PS(1,0) : Polyhedron(vertices=[v_inf],rays=sigma2),\n",
    "        PS(1,1) : Polyhedron(vertices=[z, v1],rays=sigma2) + Polyhedron(vertices=[z, v2],rays=sigma2),\n",
    "       }\n",
    "D2 = PolyhedralDivisor(dict2);\n",
    "if not D2.is_proper():\n",
    "    #print(\"not proper\")\n",
    "    raise NotImplementedError(f\"The divisor is not proper.\")\n",
    "if not D2.is_Q_Gorenstein():\n",
    "    print(\"Not Q-Gorenstein!\")\n",
    "    #raise NotImplementedError(f\"The variety is not Q-Gorenstein.\")\n",
    "#[D2.deg.vertices(), D2.deg.rays()]\n",
    "D2"
   ]
  },
  {
   "cell_type": "code",
   "execution_count": 202,
   "metadata": {},
   "outputs": [
    {
     "data": {
      "text/plain": [
       "A 3-dimensional polyhedron in QQ^3 defined as the convex hull of 4 vertices and 4 rays (use the .plot() method to plot)"
      ]
     },
     "execution_count": 202,
     "metadata": {},
     "output_type": "execute_result"
    }
   ],
   "source": [
    "# D2 this is no longer Q-factorial, but it does not seem to do any harm\n",
    "D2.coefficient(PS(1,1))"
   ]
  },
  {
   "cell_type": "code",
   "execution_count": 203,
   "metadata": {},
   "outputs": [],
   "source": [
    "%%script false --no-raise-error\n",
    "[D2.mld(), D1.mld()]"
   ]
  },
  {
   "cell_type": "code",
   "execution_count": 204,
   "metadata": {},
   "outputs": [],
   "source": [
    "%%script false --no-raise-error\n",
    "y = PS(4,1)\n",
    "[D2.vert_mld2(y), D1.vert_mld2(y)]"
   ]
  },
  {
   "cell_type": "code",
   "execution_count": 205,
   "metadata": {},
   "outputs": [],
   "source": [
    "def ray_sum(D, y1, y2, ray_list= None):\n",
    "    n = D.tail.dim() + 1\n",
    "    C1 = D.degeneration(y2)\n",
    "    if ray_list == None:\n",
    "        ray_list = [int(i) for i in range(n)]\n",
    "        #print(ray_list)\n",
    "    w = vector(QQ, sum(C1.rays()[i] for i in ray_list))\n",
    "    w_n = (-1/w[n-1])*w[0:n-1]\n",
    "    w_n = w_n \n",
    "    mu_w = lcm(w_i.denominator() for w_i in w_n if w_i != 0)\n",
    "    #return w_n\n",
    "    return [w_n, D.coefficient(y1).relative_interior_contains(w_n)]"
   ]
  },
  {
   "cell_type": "code",
   "execution_count": 206,
   "metadata": {},
   "outputs": [
    {
     "data": {
      "text/plain": [
       "[(2/11, 8/11, 8/11), True]"
      ]
     },
     "execution_count": 206,
     "metadata": {},
     "output_type": "execute_result"
    }
   ],
   "source": [
    "l = [int(i) for i in range(3)]\n",
    "#print(l)\n",
    "res2 = ray_sum(D2, PS(0,1), PS(1,0))\n",
    "res2"
   ]
  },
  {
   "cell_type": "code",
   "execution_count": 207,
   "metadata": {},
   "outputs": [
    {
     "data": {
      "text/plain": [
       "[(2/11, 8/11, 8/11), True]"
      ]
     },
     "execution_count": 207,
     "metadata": {},
     "output_type": "execute_result"
    }
   ],
   "source": [
    "res1 = ray_sum(D1, PS(0,1), PS(1,0))\n",
    "res1"
   ]
  },
  {
   "cell_type": "code",
   "execution_count": 208,
   "metadata": {},
   "outputs": [
    {
     "data": {
      "text/plain": [
       "[4]"
      ]
     },
     "execution_count": 208,
     "metadata": {},
     "output_type": "execute_result"
    }
   ],
   "source": [
    "D2.vert_mld_of_vertex(PS(0,1), [res2[0]])"
   ]
  },
  {
   "cell_type": "code",
   "execution_count": 209,
   "metadata": {},
   "outputs": [
    {
     "data": {
      "text/plain": [
       "[4]"
      ]
     },
     "execution_count": 209,
     "metadata": {},
     "output_type": "execute_result"
    }
   ],
   "source": [
    "D1.vert_mld_of_vertex(PS(0,1), [res1[0]])"
   ]
  },
  {
   "cell_type": "code",
   "execution_count": 59,
   "metadata": {},
   "outputs": [
    {
     "data": {
      "text/plain": [
       "N(1,  0,  0),\n",
       "N(1,  0, 12),\n",
       "N(1, 12,  0),\n",
       "N(1, 12, 12)\n",
       "in 3-d lattice N"
      ]
     },
     "execution_count": 59,
     "metadata": {},
     "output_type": "execute_result"
    }
   ],
   "source": [
    "D1.tail.rays()"
   ]
  },
  {
   "cell_type": "code",
   "execution_count": 57,
   "metadata": {},
   "outputs": [
    {
     "data": {
      "text/plain": [
       "N(1,  0,  0),\n",
       "N(1,  0, 12),\n",
       "N(1, 12,  0)\n",
       "in 3-d lattice N"
      ]
     },
     "execution_count": 57,
     "metadata": {},
     "output_type": "execute_result"
    }
   ],
   "source": [
    "D2.tail.rays()"
   ]
  },
  {
   "cell_type": "code",
   "execution_count": 28,
   "metadata": {},
   "outputs": [
    {
     "data": {
      "text/plain": [
       "N(-1, 0, 0,  4),\n",
       "N( 1, 0, 0, -3),\n",
       "N( 1, 0, 3, -3),\n",
       "N( 1, 3, 0, -3),\n",
       "N( 1, 3, 3, -3)\n",
       "in 4-d lattice N"
      ]
     },
     "execution_count": 28,
     "metadata": {},
     "output_type": "execute_result"
    }
   ],
   "source": [
    "D1.degeneration(PS(1,0)).rays()"
   ]
  },
  {
   "cell_type": "code",
   "execution_count": 113,
   "metadata": {},
   "outputs": [
    {
     "data": {
      "text/plain": [
       "N(0, 0, 0,   1),\n",
       "N(0, 0, 1,   1),\n",
       "N(0, 1, 0,   1),\n",
       "N(1, 0, 0, -12)\n",
       "in 4-d lattice N"
      ]
     },
     "execution_count": 113,
     "metadata": {},
     "output_type": "execute_result"
    }
   ],
   "source": [
    "D2.degeneration(PS(1,1)).rays()"
   ]
  },
  {
   "cell_type": "code",
   "execution_count": 121,
   "metadata": {},
   "outputs": [
    {
     "data": {
      "text/plain": [
       "True"
      ]
     },
     "execution_count": 121,
     "metadata": {},
     "output_type": "execute_result"
    }
   ],
   "source": []
  },
  {
   "cell_type": "code",
   "execution_count": 123,
   "metadata": {},
   "outputs": [
    {
     "data": {
      "text/plain": [
       "[25]"
      ]
     },
     "execution_count": 123,
     "metadata": {},
     "output_type": "execute_result"
    }
   ],
   "source": [
    "D2.vert_mld_of_vertex(PS(1,0), [v])"
   ]
  },
  {
   "cell_type": "code",
   "execution_count": null,
   "metadata": {},
   "outputs": [],
   "source": []
  }
 ],
 "metadata": {
  "kernelspec": {
   "display_name": "SageMath 10.2",
   "language": "sage",
   "name": "sagemath"
  },
  "language_info": {
   "codemirror_mode": {
    "name": "ipython",
    "version": 3
   },
   "file_extension": ".py",
   "mimetype": "text/x-python",
   "name": "python",
   "nbconvert_exporter": "python",
   "pygments_lexer": "ipython3",
   "version": "3.11.8"
  }
 },
 "nbformat": 4,
 "nbformat_minor": 4
}
