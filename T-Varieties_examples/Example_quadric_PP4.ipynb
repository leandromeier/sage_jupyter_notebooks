{
 "cells": [
  {
   "cell_type": "code",
   "execution_count": 1,
   "id": "e8782cb5-c43d-470a-8390-275635505a44",
   "metadata": {},
   "outputs": [],
   "source": [
    "import sys\n",
    "sys.path.insert(0, '/home/leandro/math/sage/sage_tvars')\n",
    "from tvars import *\n",
    "PS=ProjectiveSpace(1,QQ)\n",
    "BR = QQ;"
   ]
  },
  {
   "cell_type": "code",
   "execution_count": 11,
   "id": "3f85528c-5120-4ee1-85fc-4332a4f19202",
   "metadata": {},
   "outputs": [
    {
     "data": {
      "text/plain": [
       "PolyhedralDivisor with support {(0 : 1), (1 : 0), (1 : 1)}"
      ]
     },
     "execution_count": 11,
     "metadata": {},
     "output_type": "execute_result"
    }
   ],
   "source": [
    "#cf divisor D_1 in Example 1.10, arXiv:0811.0626v2\n",
    "sigma=[[1,1],[1,-1]]\n",
    "D1 = PolyhedralDivisor({PS(0,1): Polyhedron(vertices=[[1,0]],rays=sigma),\n",
    "    PS(1,1): Polyhedron(vertices=[[0,0],[0,1]],rays=sigma),\n",
    "    PS(1,0): Polyhedron(vertices=[[-1/2,-1/2]],rays=sigma),\n",
    "    })\n",
    "if not D1.is_proper():\n",
    "    raise NotImplementedError(f\"divisor is not proper\")\n",
    "if not D1.is_Q_Gorenstein():\n",
    "    raise NotImplementedError(f\"divisor is not Q-Gorenstein\")\n",
    "D1"
   ]
  },
  {
   "cell_type": "code",
   "execution_count": 6,
   "id": "fcbdf500-9734-4ba2-ba1a-f5e2273285bf",
   "metadata": {},
   "outputs": [
    {
     "data": {
      "text/plain": [
       "Multivariate Polynomial Ring in z0, z1, z2 over Rational Field"
      ]
     },
     "execution_count": 6,
     "metadata": {},
     "output_type": "execute_result"
    }
   ],
   "source": [
    "D1.section_ring()"
   ]
  },
  {
   "cell_type": "code",
   "execution_count": 7,
   "id": "b0987c29-c74e-4130-adb3-c9feba07ec37",
   "metadata": {},
   "outputs": [
    {
     "data": {
      "text/plain": [
       "True"
      ]
     },
     "execution_count": 7,
     "metadata": {},
     "output_type": "execute_result"
    }
   ],
   "source": [
    "D1.is_proper()"
   ]
  },
  {
   "cell_type": "code",
   "execution_count": 26,
   "id": "8f87284c-6e5f-40c4-898e-08330dae2fec",
   "metadata": {},
   "outputs": [
    {
     "data": {
      "text/plain": [
       "PolyhedralDivisor with support {(0 : 1), (1 : 0)}"
      ]
     },
     "execution_count": 26,
     "metadata": {},
     "output_type": "execute_result"
    }
   ],
   "source": [
    "#cf divisor D_3 in Example 1.10, arXiv:0811.0626v2\n",
    "sigma3=[[-1,-1],[1,-1]]\n",
    "D3 = PolyhedralDivisor({PS(0,1): Polyhedron(vertices=[[0,0],[1,0]],rays=sigma3, base_ring = BR),\n",
    "    PS(1,1): Polyhedron(vertices=[[0,0]],rays=sigma3, base_ring = BR),\n",
    "    PS(1,0): Polyhedron(vertices=[[-1/2,-1/2]],rays=sigma3, base_ring = BR),\n",
    "    })\n",
    "D3"
   ]
  },
  {
   "cell_type": "code",
   "execution_count": 27,
   "id": "558418e2-a52b-4206-8a24-002c4ceac0a4",
   "metadata": {},
   "outputs": [
    {
     "data": {
      "text/plain": [
       "True"
      ]
     },
     "execution_count": 27,
     "metadata": {},
     "output_type": "execute_result"
    }
   ],
   "source": [
    "D3.is_proper()"
   ]
  },
  {
   "cell_type": "code",
   "execution_count": 28,
   "id": "d076be89-21f7-4f0a-bc2b-b20893e55f71",
   "metadata": {},
   "outputs": [
    {
     "data": {
      "text/plain": [
       "(A vertex at (-1/2, -1/2), A vertex at (1/2, -1/2))"
      ]
     },
     "execution_count": 28,
     "metadata": {},
     "output_type": "execute_result"
    }
   ],
   "source": [
    "D3.deg.vertices()"
   ]
  },
  {
   "cell_type": "code",
   "execution_count": 33,
   "id": "b4ca076b-2d72-4ea5-9561-dc609336b380",
   "metadata": {},
   "outputs": [
    {
     "data": {
      "image/png": "[encoded data removed]",
      "text/plain": [
       "Graphics object consisting of 9 graphics primitives"
      ]
     },
     "execution_count": 33,
     "metadata": {},
     "output_type": "execute_result"
    }
   ],
   "source": [
    "D3.tail.plot()"
   ]
  },
  {
   "cell_type": "code",
   "execution_count": 34,
   "id": "cf099d9f-3d66-4590-af8a-aba07265898f",
   "metadata": {},
   "outputs": [
    {
     "data": {
      "text/plain": [
       "(A vertex at (-1/2, -1/2), A vertex at (1/2, -1/2))"
      ]
     },
     "execution_count": 34,
     "metadata": {},
     "output_type": "execute_result"
    }
   ],
   "source": [
    "D3.deg.vertices()"
   ]
  },
  {
   "cell_type": "code",
   "execution_count": 22,
   "id": "c4c558cc-7aee-4603-a8dc-cf24dedd5c27",
   "metadata": {},
   "outputs": [
    {
     "data": {
      "text/plain": [
       "PolyhedralDivisor with support {(1 : 1)}"
      ]
     },
     "execution_count": 22,
     "metadata": {},
     "output_type": "execute_result"
    }
   ],
   "source": [
    "tau = [[1]]\n",
    "Dt = PolyhedralDivisor({PS(0,1): Polyhedron(vertices=[[0]],rays=tau, base_ring = BR),\n",
    "    PS(1,1): Polyhedron(vertices=[[-1]],rays=tau, base_ring = BR)\n",
    "    })\n",
    "Dt"
   ]
  },
  {
   "cell_type": "code",
   "execution_count": 23,
   "id": "7e35be4f-4275-42e7-a023-762d4d9d09e6",
   "metadata": {},
   "outputs": [
    {
     "data": {
      "text/plain": [
       "False"
      ]
     },
     "execution_count": 23,
     "metadata": {},
     "output_type": "execute_result"
    }
   ],
   "source": [
    "Dt.is_proper()"
   ]
  },
  {
   "cell_type": "code",
   "execution_count": null,
   "id": "c2d3c219-1613-4201-b486-f56841cba326",
   "metadata": {},
   "outputs": [],
   "source": []
  }
 ],
 "metadata": {
  "kernelspec": {
   "display_name": "SageMath 10.2",
   "language": "sage",
   "name": "sagemath"
  },
  "language_info": {
   "codemirror_mode": {
    "name": "ipython",
    "version": 3
   },
   "file_extension": ".py",
   "mimetype": "text/x-python",
   "name": "python",
   "nbconvert_exporter": "python",
   "pygments_lexer": "ipython3",
   "version": "3.11.8"
  }
 },
 "nbformat": 4,
 "nbformat_minor": 5
}
