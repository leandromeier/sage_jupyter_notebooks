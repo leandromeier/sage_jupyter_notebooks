{
 "cells": [
  {
   "cell_type": "code",
   "execution_count": 1,
   "id": "89a19828-2360-48bc-9c4f-94b8fcc2699d",
   "metadata": {
    "vscode": {
     "languageId": "python"
    }
   },
   "outputs": [],
   "source": [
    "import sys\n",
    "sys.path.insert(0, '/home/leandro/math/sage/sage_tvars')\n",
    "from tvars import *\n",
    "PS = ProjectiveSpace(1,QQ)"
   ]
  },
  {
   "cell_type": "code",
   "execution_count": 2,
   "id": "0937a767-ce22-429b-bf35-2512e807e604",
   "metadata": {
    "vscode": {
     "languageId": "python"
    }
   },
   "outputs": [
    {
     "data": {
      "text/plain": [
       "{(1 : 0): A 2-dimensional polyhedron in QQ^2 defined as the convex hull of 1 vertex and 2 rays,\n",
       " (0 : 1): A 2-dimensional polyhedron in QQ^2 defined as the convex hull of 2 vertices and 2 rays}"
      ]
     },
     "execution_count": 2,
     "metadata": {},
     "output_type": "execute_result"
    }
   ],
   "source": [
    "sigma=[[1,0],[1,1]]\n",
    "sigma\n",
    "D1={PS(1,0): Polyhedron(vertices=[[1/2,0]],rays=sigma),\n",
    "    PS(0,1): Polyhedron(vertices=[[0,0],[0,1]],rays=sigma)\n",
    "    }\n",
    "D1"
   ]
  },
  {
   "cell_type": "code",
   "execution_count": 3,
   "id": "0a8fc7bd-93d9-487a-86b9-dc7e110ff80c",
   "metadata": {
    "vscode": {
     "languageId": "python"
    }
   },
   "outputs": [
    {
     "ename": "ValueError",
     "evalue": "The polyhedral divisor is not proper",
     "output_type": "error",
     "traceback": [
      "\u001b[0;31m---------------------------------------------------------------------------\u001b[0m",
      "\u001b[0;31mValueError\u001b[0m                                Traceback (most recent call last)",
      "Cell \u001b[0;32mIn[3], line 2\u001b[0m\n\u001b[1;32m      1\u001b[0m D1\u001b[38;5;241m=\u001b[39mPolyhedralDivisor(D1)\n\u001b[0;32m----> 2\u001b[0m \u001b[43mD1\u001b[49m\u001b[38;5;241;43m.\u001b[39;49m\u001b[43msection_ring\u001b[49m\u001b[43m(\u001b[49m\u001b[43mInteger\u001b[49m\u001b[43m(\u001b[49m\u001b[38;5;241;43m12\u001b[39;49m\u001b[43m)\u001b[49m\u001b[43m)\u001b[49m\n",
      "File \u001b[0;32m~/tvarieties/sage_tvars/tvars/class_PolyhedralDivisor.py:489\u001b[0m, in \u001b[0;36mPolyhedralDivisor.section_ring\u001b[0;34m(self, max_ngens)\u001b[0m\n\u001b[1;32m    469\u001b[0m \u001b[38;5;250m\u001b[39m\u001b[38;5;124;03m\"\"\"\u001b[39;00m\n\u001b[1;32m    470\u001b[0m \u001b[38;5;124;03mComputes the section ring of the Polyhedral Divisor.\u001b[39;00m\n\u001b[1;32m    471\u001b[0m \n\u001b[0;32m   (...)\u001b[0m\n\u001b[1;32m    486\u001b[0m \n\u001b[1;32m    487\u001b[0m \u001b[38;5;124;03m\"\"\"\u001b[39;00m\n\u001b[1;32m    488\u001b[0m \u001b[38;5;28;01mif\u001b[39;00m \u001b[38;5;129;01mnot\u001b[39;00m \u001b[38;5;28mself\u001b[39m\u001b[38;5;241m.\u001b[39mis_proper():\n\u001b[0;32m--> 489\u001b[0m     \u001b[38;5;28;01mraise\u001b[39;00m \u001b[38;5;167;01mValueError\u001b[39;00m(\u001b[38;5;124m'\u001b[39m\u001b[38;5;124mThe polyhedral divisor is not proper\u001b[39m\u001b[38;5;124m'\u001b[39m)\n\u001b[1;32m    491\u001b[0m D\u001b[38;5;241m=\u001b[39m\u001b[38;5;28mself\u001b[39m\u001b[38;5;241m.\u001b[39m__shift()\n\u001b[1;32m    492\u001b[0m G\u001b[38;5;241m=\u001b[39m\u001b[38;5;28mself\u001b[39m\u001b[38;5;241m.\u001b[39mgenerating_degrees()\n",
      "\u001b[0;31mValueError\u001b[0m: The polyhedral divisor is not proper"
     ]
    }
   ],
   "source": [
    "D1=PolyhedralDivisor(D1)\n",
    "D1.section_ring(12)"
   ]
  },
  {
   "cell_type": "code",
   "execution_count": null,
   "id": "8abb6f7b-b6f4-461b-956f-e6710e947854",
   "metadata": {
    "vscode": {
     "languageId": "python"
    }
   },
   "outputs": [],
   "source": [
    "#it seems that when only 0 is passed as a vertex, the base ring is defaulted to the integers, and otherwise to the rational numbers \n",
    "P1 = Polyhedron(vertices=[[0,0]],rays=sigma);\n",
    "P1.base_ring()"
   ]
  },
  {
   "cell_type": "code",
   "execution_count": null,
   "id": "2e2302e0-3cbd-48e0-b471-aee075c33f74",
   "metadata": {
    "vscode": {
     "languageId": "python"
    }
   },
   "outputs": [],
   "source": [
    "P2 = Polyhedron(vertices=[[0,1]],rays=sigma);\n",
    "P2.ambient_dim()\n",
    "P2.base_ring()"
   ]
  },
  {
   "cell_type": "code",
   "execution_count": null,
   "id": "81a1db8b-06f1-417f-a179-7a04ba036dfa",
   "metadata": {
    "vscode": {
     "languageId": "python"
    }
   },
   "outputs": [],
   "source": [
    "D2=PolyhedralDivisor(D2)\n",
    "D2.section_ring(10)"
   ]
  },
  {
   "cell_type": "code",
   "execution_count": null,
   "id": "6259f288-a647-460a-9f61-a3f6bf116802",
   "metadata": {
    "vscode": {
     "languageId": "python"
    }
   },
   "outputs": [],
   "source": [
    "sigma=[[1]]\n",
    "sigma\n",
    "D3={PS(1,0): Polyhedron(vertices=[[0]],rays=sigma),\n",
    "    PS(0,1): Polyhedron(vertices=[[1]],rays=sigma)\n",
    "    }\n",
    "D3"
   ]
  },
  {
   "cell_type": "code",
   "execution_count": null,
   "id": "dabb465b-3126-4d7d-aec0-9fc5c8e9f05e",
   "metadata": {
    "vscode": {
     "languageId": "python"
    }
   },
   "outputs": [],
   "source": [
    "D3=PolyhedralDivisor(D3)\n",
    "D3.section_ring(10)"
   ]
  }
 ],
 "metadata": {
  "kernelspec": {
   "display_name": "SageMath 10.2",
   "language": "sage",
   "name": "sagemath"
  },
  "language_info": {
   "codemirror_mode": {
    "name": "ipython",
    "version": 3
   },
   "file_extension": ".py",
   "mimetype": "text/x-python",
   "name": "python",
   "nbconvert_exporter": "python",
   "pygments_lexer": "ipython3",
   "version": "3.11.8"
  }
 },
 "nbformat": 4,
 "nbformat_minor": 5
}
