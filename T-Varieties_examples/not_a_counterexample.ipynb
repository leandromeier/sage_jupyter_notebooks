{
 "cells": [
  {
   "cell_type": "code",
   "execution_count": 1,
   "id": "60a1fc16-5629-46fb-bcfb-6cd99073207b",
   "metadata": {
    "vscode": {
     "languageId": "python"
    }
   },
   "outputs": [],
   "source": [
    "import sys\n",
    "sys.path.insert(0, '/home/leandro/math/sage/sage_tvars')\n",
    "from tvars import *\n",
    "PS = ProjectiveSpace(1,QQ)\n",
    "BR = QQ"
   ]
  },
  {
   "cell_type": "code",
   "execution_count": 3,
   "id": "a2ec4f1b-fd6e-4baf-ae68-ef7b482f7248",
   "metadata": {},
   "outputs": [
    {
     "data": {
      "text/plain": [
       "PolyhedralDivisor with support {(0 : 1), (1 : 0), (1 : 1)}"
      ]
     },
     "execution_count": 3,
     "metadata": {},
     "output_type": "execute_result"
    }
   ],
   "source": [
    "sigma = [[-51,1],[9,1]]\n",
    "dict = {PS(0,1): Polyhedron(vertices=[[-11/5,-4/5]], rays = sigma),\n",
    "        PS(1,0): Polyhedron(vertices=[[2,4]], rays = sigma),\n",
    "        PS(1,1): Polyhedron(vertices=[[-10,-3],[2,-3]],rays=sigma)}\n",
    "D = PolyhedralDivisor(dict)\n",
    "D"
   ]
  },
  {
   "cell_type": "code",
   "execution_count": 4,
   "id": "c9fcea29-f0da-4435-a93c-934675c09791",
   "metadata": {},
   "outputs": [
    {
     "data": {
      "text/plain": [
       "PolyhedralDivisor with support {(0 : 1), (1 : 1)}"
      ]
     },
     "execution_count": 4,
     "metadata": {},
     "output_type": "execute_result"
    }
   ],
   "source": [
    "sigma = [[-51,1],[9,1]]\n",
    "dict2 = {PS(0,1): Polyhedron(vertices=[[-11/5,-4/5]], rays = sigma),\n",
    "        PS(1,0): Polyhedron(vertices=[[0,0]], rays = sigma, base_ring = QQ),\n",
    "        PS(1,1): Polyhedron(vertices=[[-8,1],[6,1]],rays=sigma)}\n",
    "D2 = PolyhedralDivisor(dict2)\n",
    "D2"
   ]
  },
  {
   "cell_type": "code",
   "execution_count": 5,
   "id": "b88bf94f-167e-42a0-ab29-7f237c7ff98a",
   "metadata": {},
   "outputs": [
    {
     "data": {
      "text/plain": [
       "[2, (0 : 1)]"
      ]
     },
     "execution_count": 5,
     "metadata": {},
     "output_type": "execute_result"
    }
   ],
   "source": [
    "D.vert_mld2(PS(1,2))"
   ]
  },
  {
   "cell_type": "code",
   "execution_count": 15,
   "id": "c6664a9e-15e4-498f-b624-2027aafe94fe",
   "metadata": {},
   "outputs": [
    {
     "data": {
      "text/plain": [
       "2"
      ]
     },
     "execution_count": 15,
     "metadata": {},
     "output_type": "execute_result"
    }
   ],
   "source": [
    "C2 = ToricCone(matrix(D2.degeneration(PS(0,1)).rays()))\n",
    "C2.mld()"
   ]
  },
  {
   "cell_type": "code",
   "execution_count": 1,
   "id": "29aa9ee7-24f3-4c9a-b359-78f0c1e4346e",
   "metadata": {},
   "outputs": [
    {
     "ename": "AttributeError",
     "evalue": "'DerivativeOperator' object has no attribute 'degeneration'",
     "output_type": "error",
     "traceback": [
      "\u001b[1;31m---------------------------------------------------------------------------\u001b[0m",
      "\u001b[1;31mAttributeError\u001b[0m                            Traceback (most recent call last)",
      "Cell \u001b[1;32mIn[1], line 1\u001b[0m\n\u001b[1;32m----> 1\u001b[0m C_inf \u001b[38;5;241m=\u001b[39m \u001b[43mD\u001b[49m\u001b[38;5;241;43m.\u001b[39;49m\u001b[43mdegeneration\u001b[49m(PS(Integer(\u001b[38;5;241m1\u001b[39m),Integer(\u001b[38;5;241m0\u001b[39m)))\n\u001b[0;32m      2\u001b[0m C_inf\u001b[38;5;241m.\u001b[39mrays()\n",
      "\u001b[1;31mAttributeError\u001b[0m: 'DerivativeOperator' object has no attribute 'degeneration'"
     ]
    }
   ],
   "source": [
    "C_inf = D.degeneration(PS(1,0))\n",
    "C_inf.rays()"
   ]
  },
  {
   "cell_type": "code",
   "execution_count": null,
   "id": "de8a63c8-9237-4350-a8e4-2be00ba308ac",
   "metadata": {},
   "outputs": [],
   "source": []
  }
 ],
 "metadata": {
  "kernelspec": {
   "display_name": "SageMath 10.2",
   "language": "sage",
   "name": "sagemath"
  },
  "language_info": {
   "codemirror_mode": {
    "name": "ipython",
    "version": 3
   },
   "file_extension": ".py",
   "mimetype": "text/x-python",
   "name": "python",
   "nbconvert_exporter": "python",
   "pygments_lexer": "ipython3",
   "version": "3.11.8"
  }
 },
 "nbformat": 4,
 "nbformat_minor": 5
}
