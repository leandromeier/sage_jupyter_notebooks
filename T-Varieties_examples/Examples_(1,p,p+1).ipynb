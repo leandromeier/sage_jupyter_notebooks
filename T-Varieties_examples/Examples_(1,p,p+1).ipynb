{
 "cells": [
  {
   "cell_type": "code",
   "execution_count": 1,
   "metadata": {
    "collapsed": false,
    "jupyter": {
     "outputs_hidden": false
    }
   },
   "outputs": [],
   "source": [
    "import sys\n",
    "sys.path.insert(0, '/home/leandro/math/sage/sage_tvars')\n",
    "from tvars import *\n",
    "PS=ProjectiveSpace(1,QQ)\n",
    "BR = QQ;"
   ]
  },
  {
   "cell_type": "code",
   "execution_count": 2,
   "metadata": {
    "collapsed": false,
    "jupyter": {
     "outputs_hidden": false
    }
   },
   "outputs": [],
   "source": [
    "#return the p-divisor for general n and p as specified in the example\n",
    "def p_divisor_example(n,p): \n",
    "    q = p+1;\n",
    "    E = ((QQ)^n).basis();\n",
    "    if n == 1:\n",
    "        P = Polyhedron((1/(p*q))*E[0])\n",
    "    else:\n",
    "        # sum of the line segments [0,e_2], ...,[0,e_n]\n",
    "        hypercube = sum(Polyhedron(vertices=[zero_vector(ZZ,n),e]) for e in E[1:]);\n",
    "        # shift by 1/pq * e_1 \n",
    "        P = hypercube + (1/(p*q))*E[0];\n",
    "    sigma = Cone(P.vertices());\n",
    "    # the p-divisor\n",
    "    dict = {PS(0,1) : Polyhedron(vertices=[(1/p)*E[0]],rays=sigma),\n",
    "           PS(1,0) : Polyhedron(vertices=[(-1/q)*E[0]],rays=sigma)}\n",
    "    for i in range(2,n+1):\n",
    "        dict[PS(1,i)] = Polyhedron(vertices=[zero_vector(ZZ,n),E[i-1]],rays=sigma);\n",
    "    D = PolyhedralDivisor(dict);\n",
    "    if not D.is_proper():\n",
    "        raise NotImplementedError(f\"The divisor is not proper.\")\n",
    "    if not D.is_Q_Gorenstein():\n",
    "        raise NotImplementedError(f\"The variety is not Q-Gorenstein.\")\n",
    "    return D"
   ]
  },
  {
   "cell_type": "code",
   "execution_count": 3,
   "metadata": {},
   "outputs": [
    {
     "data": {
      "text/plain": [
       "PolyhedralDivisor with support {(0 : 1), (1 : 0), (1/3 : 1), (1/2 : 1)}"
      ]
     },
     "execution_count": 3,
     "metadata": {},
     "output_type": "execute_result"
    }
   ],
   "source": [
    "n = 3\n",
    "p = 7\n",
    "D = p_divisor_example(n,p)\n"
   ]
  },
  {
   "cell_type": "code",
   "execution_count": 4,
   "metadata": {},
   "outputs": [
    {
     "data": {
      "text/plain": [
       "(N(-1, 0, 0, 8),\n",
       " N(1, 0, 0, -7),\n",
       " N(1, 0, 7, -7),\n",
       " N(1, 7, 0, -7),\n",
       " N(1, 7, 7, -7))"
      ]
     },
     "execution_count": 4,
     "metadata": {},
     "output_type": "execute_result"
    }
   ],
   "source": [
    "C_inf = D.degeneration(PS(1,0))\n",
    "C_inf.rays()[0:4] + (C_inf.rays()[4:5])"
   ]
  },
  {
   "cell_type": "code",
   "execution_count": 20,
   "metadata": {},
   "outputs": [
    {
     "data": {
      "text/plain": [
       "{3: [6], 4: [6, 13]}"
      ]
     },
     "execution_count": 20,
     "metadata": {},
     "output_type": "execute_result"
    }
   ],
   "source": [
    "dic = D.vert_mld(PS(0,1))\n",
    "dic"
   ]
  },
  {
   "cell_type": "code",
   "execution_count": 23,
   "metadata": {},
   "outputs": [
    {
     "name": "stdout",
     "output_type": "stream",
     "text": [
      "True\n",
      "True\n"
     ]
    }
   ],
   "source": [
    "for k,v in dic.items():\n",
    "    print(6 in v)"
   ]
  },
  {
   "cell_type": "code",
   "execution_count": 6,
   "metadata": {},
   "outputs": [
    {
     "data": {
      "text/plain": [
       "{2: [1], 3: [9, 1], 4: [17, 9, 1, 2]}"
      ]
     },
     "execution_count": 6,
     "metadata": {},
     "output_type": "execute_result"
    }
   ],
   "source": [
    "D.vert_mld(PS(1,0))"
   ]
  },
  {
   "cell_type": "code",
   "execution_count": 6,
   "metadata": {},
   "outputs": [
    {
     "data": {
      "text/plain": [
       "(2/13, 7/13, 14/13)"
      ]
     },
     "execution_count": 6,
     "metadata": {},
     "output_type": "execute_result"
    }
   ],
   "source": [
    "# in 4 dimensions, want to sum 4 rays\n",
    "w_l = vector(QQ,sum(C_inf.rays()[0:3] + C_inf.rays()[4:5]))\n",
    "#w_l = vector(QQ,sum(C_inf.rays()[0:4]))\n",
    "if C_inf.relative_interior_contains(w_l):\n",
    "    w_l = (-1/w_l[len(w_l)-1])*w_l\n",
    "    w = w_l[0:len(w_l)-1]\n",
    "w"
   ]
  },
  {
   "cell_type": "code",
   "execution_count": 10,
   "metadata": {},
   "outputs": [
    {
     "data": {
      "text/plain": [
       "{1: (2/13, 7/13, 14/13),\n",
       " 2: (2/13, -6/13, 14/13),\n",
       " 3: (2/13, 7/13, 1/13),\n",
       " 4: (2/13, -6/13, 1/13)}"
      ]
     },
     "execution_count": 10,
     "metadata": {},
     "output_type": "execute_result"
    }
   ],
   "source": [
    "E = ((QQ)^n).basis();\n",
    "x = {}\n",
    "x[1] = w\n",
    "x[2] = w-E[1]\n",
    "x[3] = w-E[2]\n",
    "x[4] = w-(E[1]+E[2])\n",
    "#x[1] = (2/3)*x[1]\n",
    "x"
   ]
  },
  {
   "cell_type": "code",
   "execution_count": 11,
   "metadata": {},
   "outputs": [
    {
     "data": {
      "text/plain": [
       "[False, False, True, False]"
      ]
     },
     "execution_count": 11,
     "metadata": {},
     "output_type": "execute_result"
    }
   ],
   "source": [
    "[D.coefficient(PS(0,1)).relative_interior_contains(x[i]) for i in range(1,len(x) + 1)]"
   ]
  },
  {
   "cell_type": "code",
   "execution_count": 8,
   "metadata": {},
   "outputs": [
    {
     "data": {
      "text/plain": [
       "4"
      ]
     },
     "execution_count": 8,
     "metadata": {},
     "output_type": "execute_result"
    }
   ],
   "source": [
    "D.vert_mld_of_vertex(PS(0,1), x[1])"
   ]
  },
  {
   "cell_type": "code",
   "execution_count": 13,
   "metadata": {},
   "outputs": [
    {
     "data": {
      "text/plain": [
       "1"
      ]
     },
     "execution_count": 13,
     "metadata": {},
     "output_type": "execute_result"
    }
   ],
   "source": [
    "u_tilde = vector( list(-D.canonical_weight()) + [2])\n",
    "u_tilde*C_inf.rays()[0]"
   ]
  },
  {
   "cell_type": "code",
   "execution_count": 261,
   "metadata": {},
   "outputs": [
    {
     "data": {
      "text/plain": [
       "4"
      ]
     },
     "execution_count": 261,
     "metadata": {},
     "output_type": "execute_result"
    }
   ],
   "source": [
    "D.vert_mld_of_vertex(PS(0,1), x[2])"
   ]
  },
  {
   "cell_type": "code",
   "execution_count": 12,
   "metadata": {},
   "outputs": [
    {
     "data": {
      "text/plain": [
       "4"
      ]
     },
     "execution_count": 12,
     "metadata": {},
     "output_type": "execute_result"
    }
   ],
   "source": [
    "D.vert_mld_of_vertex(PS(0,1), x[3])"
   ]
  },
  {
   "cell_type": "code",
   "execution_count": 268,
   "metadata": {},
   "outputs": [
    {
     "name": "stdout",
     "output_type": "stream",
     "text": [
      "Canonical Weight: (-15, 0, 0)\n",
      "Canonical Base Divisor: Rational Divisor with data:\n",
      "(0 : 1): -3, \n",
      "(1 : 0): 1, \n"
     ]
    }
   ],
   "source": [
    "D.canonical_data()"
   ]
  },
  {
   "cell_type": "code",
   "execution_count": 300,
   "metadata": {},
   "outputs": [
    {
     "data": {
      "text/plain": [
       "[1, 1, 1, 1, 1]"
      ]
     },
     "execution_count": 300,
     "metadata": {},
     "output_type": "execute_result"
    }
   ],
   "source": [
    "z = vector( list(-D.canonical_weight()) + [2]) #cbd_y + 1 for C = degen(y)\n",
    "[z*r for r in C_inf.rays()]\n",
    "# why does this return 1 for every ray?"
   ]
  },
  {
   "cell_type": "code",
   "execution_count": 303,
   "metadata": {},
   "outputs": [
    {
     "data": {
      "text/plain": [
       "[1, 1, 1, 1, 1]"
      ]
     },
     "execution_count": 303,
     "metadata": {},
     "output_type": "execute_result"
    }
   ],
   "source": [
    "z = vector( list(-D.canonical_weight()) + [-2])\n",
    "[z*r for r in C0.rays()]"
   ]
  },
  {
   "cell_type": "code",
   "execution_count": 88,
   "metadata": {},
   "outputs": [
    {
     "data": {
      "text/plain": [
       "[85, 65, 65, 65]"
      ]
     },
     "execution_count": 88,
     "metadata": {},
     "output_type": "execute_result"
    }
   ],
   "source": [
    "[D.vert_mld_of_vertex(p,vector(x1))for p in {PS(1,1),PS(1,0),PS(1,2),PS(1,3)}]"
   ]
  },
  {
   "cell_type": "code",
   "execution_count": 146,
   "metadata": {},
   "outputs": [
    {
     "data": {
      "text/plain": [
       "[(A vertex at (1/7, 0, 0),),\n",
       " (A ray in the direction (1, 0, 0),\n",
       "  A ray in the direction (1, 0, 56),\n",
       "  A ray in the direction (1, 56, 0),\n",
       "  A ray in the direction (1, 56, 56))]"
      ]
     },
     "execution_count": 146,
     "metadata": {},
     "output_type": "execute_result"
    }
   ],
   "source": [
    "[D.coefficient(PS(0,1)).vertices(),D.coefficient(PS(0,1)).rays()]"
   ]
  },
  {
   "cell_type": "code",
   "execution_count": 50,
   "metadata": {},
   "outputs": [
    {
     "data": {
      "text/plain": [
       "[True, True, True, True]"
      ]
     },
     "execution_count": 50,
     "metadata": {},
     "output_type": "execute_result"
    }
   ],
   "source": [
    "[D.coefficient(p).relative_interior_contains(x2) for p in D.supp().union({PS(1,1)})]"
   ]
  },
  {
   "cell_type": "code",
   "execution_count": 51,
   "metadata": {},
   "outputs": [
    {
     "data": {
      "text/plain": [
       "3"
      ]
     },
     "execution_count": 51,
     "metadata": {},
     "output_type": "execute_result"
    }
   ],
   "source": [
    "D.vert_mld_of_vertex(PS(0,1),vector(x2))"
   ]
  },
  {
   "cell_type": "code",
   "execution_count": 35,
   "metadata": {},
   "outputs": [
    {
     "data": {
      "text/plain": [
       "[3, 2, 16, 16]"
      ]
     },
     "execution_count": 35,
     "metadata": {},
     "output_type": "execute_result"
    }
   ],
   "source": [
    "[D.vert_mld(p) for p in D.supp()]"
   ]
  },
  {
   "cell_type": "code",
   "execution_count": 36,
   "metadata": {},
   "outputs": [
    {
     "data": {
      "text/plain": [
       "{(0 : 1), (1/3 : 1), (1/2 : 1), (1 : 0)}"
      ]
     },
     "execution_count": 36,
     "metadata": {},
     "output_type": "execute_result"
    }
   ],
   "source": [
    "D.supp()"
   ]
  },
  {
   "cell_type": "code",
   "execution_count": 37,
   "metadata": {},
   "outputs": [
    {
     "data": {
      "text/plain": [
       "2"
      ]
     },
     "execution_count": 37,
     "metadata": {},
     "output_type": "execute_result"
    }
   ],
   "source": []
  },
  {
   "cell_type": "code",
   "execution_count": null,
   "metadata": {},
   "outputs": [],
   "source": []
  },
  {
   "cell_type": "code",
   "execution_count": 7,
   "metadata": {},
   "outputs": [
    {
     "data": {
      "text/plain": [
       "(-1/8, 1/2, 1/2)"
      ]
     },
     "execution_count": 7,
     "metadata": {},
     "output_type": "execute_result"
    }
   ],
   "source": [
    "C0 = D.degeneration(PS(0,1))\n",
    "w0 = vector(QQ,sum(C0.rays()[0:4]))\n",
    "w0 = (-1/w0[len(w0)-1])*w0\n",
    "w0 = w0[0:len(w0)-1]\n",
    "w0"
   ]
  },
  {
   "cell_type": "code",
   "execution_count": 14,
   "metadata": {},
   "outputs": [
    {
     "data": {
      "text/plain": [
       "(2/13, 7/13, 14/13)"
      ]
     },
     "execution_count": 14,
     "metadata": {},
     "output_type": "execute_result"
    }
   ],
   "source": [
    "E = ((QQ)^n).basis();\n",
    "y2 = w#-E[1]-E[2]\n",
    "y2"
   ]
  },
  {
   "cell_type": "code",
   "execution_count": 18,
   "metadata": {},
   "outputs": [
    {
     "data": {
      "text/plain": [
       "[False, True, True, True]"
      ]
     },
     "execution_count": 18,
     "metadata": {},
     "output_type": "execute_result"
    }
   ],
   "source": [
    "[D.coefficient(p).relative_interior_contains(y2) for p in D.supp().union({PS(0,1)})]"
   ]
  },
  {
   "cell_type": "code",
   "execution_count": 19,
   "metadata": {},
   "outputs": [
    {
     "data": {
      "text/plain": [
       "{(0 : 1), (1/3 : 1), (1/2 : 1), (1 : 0), (1 : 1)}"
      ]
     },
     "execution_count": 19,
     "metadata": {},
     "output_type": "execute_result"
    }
   ],
   "source": [
    "D.supp().union({PS(1,1)})"
   ]
  },
  {
   "cell_type": "code",
   "execution_count": 24,
   "metadata": {},
   "outputs": [
    {
     "data": {
      "text/plain": [
       "43"
      ]
     },
     "execution_count": 24,
     "metadata": {},
     "output_type": "execute_result"
    }
   ],
   "source": [
    "D.vert_mld_of_vertex(PS(1,3),y2)"
   ]
  },
  {
   "cell_type": "code",
   "execution_count": null,
   "metadata": {},
   "outputs": [],
   "source": []
  },
  {
   "cell_type": "code",
   "execution_count": 25,
   "metadata": {},
   "outputs": [
    {
     "data": {
      "text/plain": [
       "[(1/6, 1/6, 1/6),\n",
       " (1/6, 1/6, 1/3),\n",
       " (1/6, 1/6, 1/2),\n",
       " (1/6, 1/6, 2/3),\n",
       " (1/6, 1/6, 5/6),\n",
       " (1/6, 1/6, 1),\n",
       " (1/6, 1/6, 7/6),\n",
       " (1/6, 1/3, 1/6),\n",
       " (1/6, 1/3, 1/3),\n",
       " (1/6, 1/3, 1/2),\n",
       " (1/6, 1/3, 2/3),\n",
       " (1/6, 1/3, 5/6),\n",
       " (1/6, 1/3, 1),\n",
       " (1/6, 1/3, 7/6),\n",
       " (1/6, 1/2, 1/6),\n",
       " (1/6, 1/2, 1/3),\n",
       " (1/6, 1/2, 1/2),\n",
       " (1/6, 1/2, 2/3),\n",
       " (1/6, 1/2, 5/6),\n",
       " (1/6, 1/2, 1),\n",
       " (1/6, 1/2, 7/6),\n",
       " (1/6, 2/3, 1/6),\n",
       " (1/6, 2/3, 1/3),\n",
       " (1/6, 2/3, 1/2),\n",
       " (1/6, 2/3, 2/3),\n",
       " (1/6, 2/3, 5/6),\n",
       " (1/6, 2/3, 1),\n",
       " (1/6, 2/3, 7/6),\n",
       " (1/6, 5/6, 1/6),\n",
       " (1/6, 5/6, 1/3),\n",
       " (1/6, 5/6, 1/2),\n",
       " (1/6, 5/6, 2/3),\n",
       " (1/6, 5/6, 5/6),\n",
       " (1/6, 5/6, 1),\n",
       " (1/6, 5/6, 7/6),\n",
       " (1/6, 1, 1/6),\n",
       " (1/6, 1, 1/3),\n",
       " (1/6, 1, 1/2),\n",
       " (1/6, 1, 2/3),\n",
       " (1/6, 1, 5/6),\n",
       " (1/6, 1, 1),\n",
       " (1/6, 1, 7/6),\n",
       " (1/6, 7/6, 1/6),\n",
       " (1/6, 7/6, 1/3),\n",
       " (1/6, 7/6, 1/2),\n",
       " (1/6, 7/6, 2/3),\n",
       " (1/6, 7/6, 5/6),\n",
       " (1/6, 7/6, 1),\n",
       " (1/6, 7/6, 7/6)]"
      ]
     },
     "execution_count": 25,
     "metadata": {},
     "output_type": "execute_result"
    }
   ],
   "source": [
    "D.vert_mld_points(PS(0,1))"
   ]
  },
  {
   "cell_type": "code",
   "execution_count": null,
   "metadata": {},
   "outputs": [],
   "source": []
  }
 ],
 "metadata": {
  "kernelspec": {
   "display_name": "SageMath 10.2",
   "language": "sage",
   "name": "sagemath"
  },
  "language_info": {
   "codemirror_mode": {
    "name": "ipython",
    "version": 3
   },
   "file_extension": ".py",
   "mimetype": "text/x-python",
   "name": "python",
   "nbconvert_exporter": "python",
   "pygments_lexer": "ipython3",
   "version": "3.11.8"
  }
 },
 "nbformat": 4,
 "nbformat_minor": 4
}
