{
 "cells": [
  {
   "cell_type": "code",
   "execution_count": 1,
   "id": "60a1fc16-5629-46fb-bcfb-6cd99073207b",
   "metadata": {
    "vscode": {
     "languageId": "python"
    }
   },
   "outputs": [],
   "source": [
    "import sys\n",
    "sys.path.insert(0, '/home/leandro/math/sage/sage_tvars')\n",
    "from tvars import *\n",
    "PS = ProjectiveSpace(1,QQ)\n",
    "BR = QQ"
   ]
  },
  {
   "cell_type": "code",
   "execution_count": 2,
   "id": "a2ec4f1b-fd6e-4baf-ae68-ef7b482f7248",
   "metadata": {},
   "outputs": [],
   "source": [
    "def test_divisor(n,p): \n",
    "    q = p+1;\n",
    "    E = ((QQ)^n).basis();\n",
    "    sigma = Cone([[1,2*p*q],[1,0]]);\n",
    "    # the p-divisor\n",
    "    dict = {PS(0,1) : Polyhedron(vertices=[(1/p)*E[0], (1/p)*E[0] + E[1]],rays=sigma),\n",
    "           PS(1,0) : Polyhedron(vertices=[(-1/q)*E[0]],rays=sigma),\n",
    "            PS(1,2) : Polyhedron(vertices=[zero_vector(ZZ,n),E[1]],rays=sigma)};\n",
    "    D = PolyhedralDivisor(dict);\n",
    "    print(D.deg.vertices())\n",
    "    if not D.is_proper():\n",
    "        raise NotImplementedError(f\"The divisor is not proper.\")\n",
    "    if not D.is_Q_Gorenstein():\n",
    "        raise NotImplementedError(f\"The variety is not Q-Gorenstein.\")\n",
    "    return D\n",
    "#\n"
   ]
  },
  {
   "cell_type": "code",
   "execution_count": 3,
   "id": "d04cdba9-f8a4-41c0-ae2d-511875505609",
   "metadata": {},
   "outputs": [
    {
     "name": "stdout",
     "output_type": "stream",
     "text": [
      "(A vertex at (1/30, 0), A vertex at (1/30, 2))\n"
     ]
    }
   ],
   "source": [
    "D = test_divisor(2,5)"
   ]
  },
  {
   "cell_type": "code",
   "execution_count": 4,
   "id": "700affba-a8bc-47bd-b04a-eb4fad07b6c2",
   "metadata": {},
   "outputs": [
    {
     "data": {
      "text/plain": [
       "N(-1,  0,  6),\n",
       "N( 1,  0, -5),\n",
       "N( 1, 10, -5)\n",
       "in 3-d lattice N"
      ]
     },
     "execution_count": 4,
     "metadata": {},
     "output_type": "execute_result"
    }
   ],
   "source": [
    "C = D.degeneration(PS(1,0))\n",
    "C.rays()"
   ]
  },
  {
   "cell_type": "code",
   "execution_count": 5,
   "id": "8f6b81b0-9a8f-4150-b09a-3cf815a862ba",
   "metadata": {},
   "outputs": [
    {
     "data": {
      "text/plain": [
       "[N(0, 0, 1), N(2, 10, -10), N(0, 10, 1)]"
      ]
     },
     "execution_count": 5,
     "metadata": {},
     "output_type": "execute_result"
    }
   ],
   "source": [
    "[vector(sum(C.rays()[0:2])), vector(C.rays()[1] + C.rays()[2]), vector(C.rays()[0] + C.rays()[2])]"
   ]
  },
  {
   "cell_type": "code",
   "execution_count": 6,
   "id": "191c11fa-5128-4eaa-a26e-947ab5fefc6d",
   "metadata": {},
   "outputs": [
    {
     "data": {
      "text/plain": [
       "[-10, 2, 13, 2]"
      ]
     },
     "execution_count": 6,
     "metadata": {},
     "output_type": "execute_result"
    }
   ],
   "source": [
    "l = [vector([0,0]), vector([1,5]), vector([0,1])]\n",
    "D.vert_mld_of_vertex(PS(1,0), l)"
   ]
  },
  {
   "cell_type": "code",
   "execution_count": 5,
   "id": "4a7ecb29-7c03-49e6-bef1-4e23b21b0dbf",
   "metadata": {},
   "outputs": [
    {
     "data": {
      "text/plain": [
       "[(-1/5, -1), False]"
      ]
     },
     "execution_count": 5,
     "metadata": {},
     "output_type": "execute_result"
    }
   ],
   "source": [
    "w = vector(C.rays()[1] + C.rays()[2])\n",
    "#w = vector(C.rays()[0] + C.rays()[2])\n",
    "#w = vector(sum(C.rays()[0:2]))\n",
    "m = len(w)\n",
    "w_n = (1/w[m-1])*w[0:m-1]\n",
    "[w_n, w_n in D.coefficient(PS(1,2)).relative_interior()]"
   ]
  },
  {
   "cell_type": "code",
   "execution_count": 8,
   "id": "5cacc02a-3449-4794-89ae-79a308912128",
   "metadata": {},
   "outputs": [
    {
     "data": {
      "text/plain": [
       "{3: [(1/4, 1/4),\n",
       "  (1/4, 1/2),\n",
       "  (1/4, 3/4),\n",
       "  (1/4, 1),\n",
       "  (1/4, 5/4),\n",
       "  (1/4, 3/2),\n",
       "  (1/4, 7/4),\n",
       "  (1/4, 2),\n",
       "  (1/4, 9/4),\n",
       "  (1/4, 5/2),\n",
       "  (1/4, 11/4),\n",
       "  (1/4, 3),\n",
       "  (1/4, 13/4),\n",
       "  (1/4, 7/2),\n",
       "  (1/4, 15/4)]}"
      ]
     },
     "execution_count": 8,
     "metadata": {},
     "output_type": "execute_result"
    }
   ],
   "source": [
    "D.vert_mld(PS(0,1))"
   ]
  },
  {
   "cell_type": "code",
   "execution_count": 9,
   "id": "3eca2c30-071f-4bf6-ae1f-fe92dff1cb7e",
   "metadata": {},
   "outputs": [
    {
     "data": {
      "text/plain": [
       "{}"
      ]
     },
     "execution_count": 9,
     "metadata": {},
     "output_type": "execute_result"
    }
   ],
   "source": [
    "D.vert_mld(PS(1,1))"
   ]
  },
  {
   "cell_type": "code",
   "execution_count": 10,
   "id": "f9d45b89-7c89-467c-a3e7-f744419a39ff",
   "metadata": {},
   "outputs": [
    {
     "data": {
      "text/plain": [
       "{}"
      ]
     },
     "execution_count": 10,
     "metadata": {},
     "output_type": "execute_result"
    }
   ],
   "source": [
    "D.vert_mld(PS(2,1))"
   ]
  },
  {
   "cell_type": "code",
   "execution_count": 11,
   "id": "356457fe-72f9-4be6-915e-3b2a12f2f7be",
   "metadata": {},
   "outputs": [
    {
     "data": {
      "text/plain": [
       "{2: [(0, 1), (0, 2), (0, 3), (0, 4), (0, 5), (0, 6), (0, 7), (0, 8), (0, 9)],\n",
       " 3: [(-1/7, 1/7),\n",
       "  (-1/7, 2/7),\n",
       "  (-1/7, 3/7),\n",
       "  (-1/7, 4/7),\n",
       "  (-1/7, 5/7),\n",
       "  (-1/7, 6/7),\n",
       "  (-1/7, 1),\n",
       "  (-1/7, 8/7),\n",
       "  (-1/7, 9/7),\n",
       "  (0, 1),\n",
       "  (0, 2),\n",
       "  (0, 3),\n",
       "  (0, 4),\n",
       "  (0, 5),\n",
       "  (0, 6),\n",
       "  (0, 7),\n",
       "  (0, 8),\n",
       "  (0, 9)]}"
      ]
     },
     "execution_count": 11,
     "metadata": {},
     "output_type": "execute_result"
    }
   ],
   "source": [
    "D.vert_mld(PS(1,0))"
   ]
  },
  {
   "cell_type": "code",
   "execution_count": null,
   "id": "4b0ce746-db0f-40bf-903c-48654d8a6c3a",
   "metadata": {},
   "outputs": [],
   "source": []
  }
 ],
 "metadata": {
  "kernelspec": {
   "display_name": "SageMath 10.2",
   "language": "sage",
   "name": "sagemath"
  },
  "language_info": {
   "codemirror_mode": {
    "name": "ipython",
    "version": 3
   },
   "file_extension": ".py",
   "mimetype": "text/x-python",
   "name": "python",
   "nbconvert_exporter": "python",
   "pygments_lexer": "ipython3",
   "version": "3.11.8"
  }
 },
 "nbformat": 4,
 "nbformat_minor": 5
}
