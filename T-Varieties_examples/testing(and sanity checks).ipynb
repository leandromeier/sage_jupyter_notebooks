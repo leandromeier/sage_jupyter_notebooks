{
 "cells": [
  {
   "cell_type": "code",
   "execution_count": 1,
   "id": "60a1fc16-5629-46fb-bcfb-6cd99073207b",
   "metadata": {
    "vscode": {
     "languageId": "python"
    }
   },
   "outputs": [],
   "source": [
    "import sys\n",
    "sys.path.insert(0, '/home/leandro/math/sage/sage_tvars')\n",
    "from tvars import *\n",
    "PS = ProjectiveSpace(1,QQ)\n",
    "BR = QQ"
   ]
  },
  {
   "cell_type": "code",
   "execution_count": 2,
   "id": "a2ec4f1b-fd6e-4baf-ae68-ef7b482f7248",
   "metadata": {},
   "outputs": [],
   "source": [
    "def test_divisor(n,p): \n",
    "    q = p+1;\n",
    "    E = ((QQ)^n).basis();\n",
    "    sigma = Cone([[1,2*p*q],[1,0]]);\n",
    "    # the p-divisor\n",
    "    dict = {PS(0,1) : Polyhedron(vertices=[(1/p)*E[0], (1/p)*E[0] + E[1]],rays=sigma),\n",
    "           PS(1,0) : Polyhedron(vertices=[(-1/q)*E[0]],rays=sigma),\n",
    "            PS(1,2) : Polyhedron(vertices=[zero_vector(ZZ,n),E[1]],rays=sigma)};\n",
    "    D = PolyhedralDivisor(dict);\n",
    "    #print(D.deg.vertices())\n",
    "    if not D.is_proper():\n",
    "        raise NotImplementedError(f\"The divisor is not proper.\")\n",
    "    if not D.is_Q_Gorenstein():\n",
    "        raise NotImplementedError(f\"The variety is not Q-Gorenstein.\")\n",
    "    return D\n",
    "#\n"
   ]
  },
  {
   "cell_type": "code",
   "execution_count": 3,
   "id": "d04cdba9-f8a4-41c0-ae2d-511875505609",
   "metadata": {},
   "outputs": [
    {
     "data": {
      "text/plain": [
       "2"
      ]
     },
     "execution_count": 3,
     "metadata": {},
     "output_type": "execute_result"
    }
   ],
   "source": [
    "D = test_divisor(2,5)\n",
    "D.tail.dim()"
   ]
  },
  {
   "cell_type": "code",
   "execution_count": 10,
   "id": "8f6b81b0-9a8f-4150-b09a-3cf815a862ba",
   "metadata": {},
   "outputs": [
    {
     "ename": "NotImplementedError",
     "evalue": "The vertex is not contained in the relative interior of the coefficient.",
     "output_type": "error",
     "traceback": [
      "\u001b[1;31m---------------------------------------------------------------------------\u001b[0m",
      "\u001b[1;31mNotImplementedError\u001b[0m                       Traceback (most recent call last)",
      "Cell \u001b[1;32mIn[10], line 1\u001b[0m\n\u001b[1;32m----> 1\u001b[0m \u001b[43mD\u001b[49m\u001b[38;5;241;43m.\u001b[39;49m\u001b[43mlog_disc_of_vertex\u001b[49m\u001b[43m(\u001b[49m\u001b[43mPS\u001b[49m\u001b[43m(\u001b[49m\u001b[43mInteger\u001b[49m\u001b[43m(\u001b[49m\u001b[38;5;241;43m1\u001b[39;49m\u001b[43m)\u001b[49m\u001b[43m,\u001b[49m\u001b[43mInteger\u001b[49m\u001b[43m(\u001b[49m\u001b[38;5;241;43m0\u001b[39;49m\u001b[43m)\u001b[49m\u001b[43m)\u001b[49m\u001b[43m,\u001b[49m\u001b[43m \u001b[49m\u001b[43mvector\u001b[49m\u001b[43m(\u001b[49m\u001b[43m[\u001b[49m\u001b[43mInteger\u001b[49m\u001b[43m(\u001b[49m\u001b[38;5;241;43m0\u001b[39;49m\u001b[43m)\u001b[49m\u001b[43m,\u001b[49m\u001b[43mInteger\u001b[49m\u001b[43m(\u001b[49m\u001b[38;5;241;43m0\u001b[39;49m\u001b[43m)\u001b[49m\u001b[43m]\u001b[49m\u001b[43m)\u001b[49m\u001b[43m)\u001b[49m\n",
      "File \u001b[1;32m~/math/sage/sage_tvars/tvars/class_PolyhedralDivisor.py:1198\u001b[0m, in \u001b[0;36mPolyhedralDivisor.log_disc_of_vertex\u001b[1;34m(self, y, v)\u001b[0m\n\u001b[0;32m   1196\u001b[0m u \u001b[38;5;241m=\u001b[39m \u001b[38;5;241m-\u001b[39m \u001b[38;5;28mself\u001b[39m\u001b[38;5;241m.\u001b[39mcanonical_weight()\n\u001b[0;32m   1197\u001b[0m \u001b[38;5;28;01mif\u001b[39;00m \u001b[38;5;129;01mnot\u001b[39;00m \u001b[38;5;28mself\u001b[39m[y]\u001b[38;5;241m.\u001b[39mrelative_interior_contains(v):\n\u001b[1;32m-> 1198\u001b[0m     \u001b[38;5;28;01mraise\u001b[39;00m \u001b[38;5;167;01mNotImplementedError\u001b[39;00m(\u001b[38;5;124m\"\u001b[39m\u001b[38;5;124mThe vertex is not contained in the relative interior of the coefficient.\u001b[39m\u001b[38;5;124m\"\u001b[39m)\n\u001b[0;32m   1199\u001b[0m mu_v \u001b[38;5;241m=\u001b[39m lcm(v_i\u001b[38;5;241m.\u001b[39mdenominator() \u001b[38;5;28;01mfor\u001b[39;00m v_i \u001b[38;5;129;01min\u001b[39;00m v \u001b[38;5;28;01mif\u001b[39;00m v_i\u001b[38;5;241m!=\u001b[39m\u001b[38;5;241m0\u001b[39m)\n\u001b[0;32m   1200\u001b[0m res \u001b[38;5;241m=\u001b[39m mu_v \u001b[38;5;241m*\u001b[39m ( u\u001b[38;5;241m*\u001b[39mv \u001b[38;5;241m+\u001b[39m d_y \u001b[38;5;241m+\u001b[39m \u001b[38;5;241m1\u001b[39m)\n",
      "\u001b[1;31mNotImplementedError\u001b[0m: The vertex is not contained in the relative interior of the coefficient."
     ]
    }
   ],
   "source": [
    "D.log_disc_of_vertex(PS(1,0), vector([0,0]))"
   ]
  },
  {
   "cell_type": "code",
   "execution_count": null,
   "id": "3c126e6c-5c94-4a86-a5fa-95b10d5cdb85",
   "metadata": {},
   "outputs": [],
   "source": [
    "D.ld_minimizer_hor(12)"
   ]
  },
  {
   "cell_type": "code",
   "execution_count": 9,
   "id": "700affba-a8bc-47bd-b04a-eb4fad07b6c2",
   "metadata": {},
   "outputs": [
    {
     "data": {
      "text/plain": [
       "{2: [(0, 1), (0, 2), (0, 3), (0, 4), (0, 5), (0, 6), (0, 7), (0, 8), (0, 9)]}"
      ]
     },
     "execution_count": 9,
     "metadata": {},
     "output_type": "execute_result"
    }
   ],
   "source": [
    "D.ld_minimizer_slice(PS(1,0))"
   ]
  },
  {
   "cell_type": "code",
   "execution_count": null,
   "id": "191c11fa-5128-4eaa-a26e-947ab5fefc6d",
   "metadata": {},
   "outputs": [],
   "source": [
    "l = [vector([0,0]), vector([1,5]), vector([0,1])]\n",
    "D.vert_mld_of_vertex(PS(1,0), l)"
   ]
  },
  {
   "cell_type": "code",
   "execution_count": null,
   "id": "4a7ecb29-7c03-49e6-bef1-4e23b21b0dbf",
   "metadata": {},
   "outputs": [],
   "source": [
    "w = vector(C.rays()[1] + C.rays()[2])\n",
    "#w = vector(C.rays()[0] + C.rays()[2])\n",
    "#w = vector(sum(C.rays()[0:2]))\n",
    "m = len(w)\n",
    "w_n = (1/w[m-1])*w[0:m-1]\n",
    "[w_n, w_n in D.coefficient(PS(1,2)).relative_interior()]"
   ]
  },
  {
   "cell_type": "code",
   "execution_count": null,
   "id": "5cacc02a-3449-4794-89ae-79a308912128",
   "metadata": {},
   "outputs": [],
   "source": [
    "D.vert_mld(PS(0,1))"
   ]
  },
  {
   "cell_type": "code",
   "execution_count": null,
   "id": "3eca2c30-071f-4bf6-ae1f-fe92dff1cb7e",
   "metadata": {},
   "outputs": [],
   "source": [
    "D.vert_mld(PS(1,1))"
   ]
  },
  {
   "cell_type": "code",
   "execution_count": null,
   "id": "f9d45b89-7c89-467c-a3e7-f744419a39ff",
   "metadata": {},
   "outputs": [],
   "source": [
    "D.vert_mld(PS(2,1))"
   ]
  },
  {
   "cell_type": "code",
   "execution_count": null,
   "id": "356457fe-72f9-4be6-915e-3b2a12f2f7be",
   "metadata": {},
   "outputs": [],
   "source": [
    "D.vert_mld(PS(1,0))"
   ]
  },
  {
   "cell_type": "code",
   "execution_count": null,
   "id": "4b0ce746-db0f-40bf-903c-48654d8a6c3a",
   "metadata": {},
   "outputs": [],
   "source": []
  }
 ],
 "metadata": {
  "kernelspec": {
   "display_name": "SageMath 10.3",
   "language": "sage",
   "name": "sagemath"
  },
  "language_info": {
   "codemirror_mode": {
    "name": "ipython",
    "version": 3
   },
   "file_extension": ".py",
   "mimetype": "text/x-python",
   "name": "python",
   "nbconvert_exporter": "python",
   "pygments_lexer": "ipython3",
   "version": "3.12.3"
  }
 },
 "nbformat": 4,
 "nbformat_minor": 5
}
