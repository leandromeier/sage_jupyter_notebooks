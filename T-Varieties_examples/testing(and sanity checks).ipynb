{
 "cells": [
  {
   "cell_type": "code",
   "execution_count": 2,
   "id": "60a1fc16-5629-46fb-bcfb-6cd99073207b",
   "metadata": {
    "vscode": {
     "languageId": "python"
    }
   },
   "outputs": [],
   "source": [
    "import sys\n",
    "sys.path.insert(0, '/home/leandro/math/sage/sage_tvars')\n",
    "from tvars import *\n",
    "PS = ProjectiveSpace(1,QQ)\n",
    "BR = QQ"
   ]
  },
  {
   "cell_type": "code",
   "execution_count": null,
   "id": "a2ec4f1b-fd6e-4baf-ae68-ef7b482f7248",
   "metadata": {},
   "outputs": [],
   "source": [
    "sigma = [[-51,1],[9,1]]\n",
    "dict = {PS(0,1): Polyhedron(vertices=[[-11/5,-4/5]], rays = sigma),\n",
    "        PS(1,0): Polyhedron(vertices=[[2,4]], rays = sigma),\n",
    "        PS(1,1): Polyhedron(vertices=[[-10,-3],[2,-3]],rays=sigma)}\n",
    "D = PolyhedralDivisor(dict)"
   ]
  },
  {
   "cell_type": "code",
   "execution_count": 3,
   "id": "d04cdba9-f8a4-41c0-ae2d-511875505609",
   "metadata": {},
   "outputs": [
    {
     "data": {
      "text/plain": [
       "2"
      ]
     },
     "execution_count": 3,
     "metadata": {},
     "output_type": "execute_result"
    }
   ],
   "source": [
    "D.mld(PS(1,2))"
   ]
  },
  {
   "cell_type": "code",
   "execution_count": 7,
   "id": "25a60ed9-3f15-45c5-b6bd-b506aa7ae3dd",
   "metadata": {},
   "outputs": [
    {
     "data": {
      "text/plain": [
       "2"
      ]
     },
     "execution_count": 7,
     "metadata": {},
     "output_type": "execute_result"
    }
   ],
   "source": [
    "D.vert_mld2(PS(1,2))[0]"
   ]
  },
  {
   "cell_type": "code",
   "execution_count": 13,
   "id": "d06ad82c-501a-4319-8640-4ed49299994e",
   "metadata": {},
   "outputs": [
    {
     "data": {
      "text/plain": [
       "[(-42, 0),\n",
       " (-41, 0),\n",
       " (-40, 0),\n",
       " (-39, 0),\n",
       " (-38, 0),\n",
       " (-37, 0),\n",
       " (-36, 0),\n",
       " (-35, 0),\n",
       " (-34, 0),\n",
       " (-33, 0),\n",
       " (-32, 0),\n",
       " (-31, 0),\n",
       " (-30, 0),\n",
       " (-29, 0),\n",
       " (-28, 0),\n",
       " (-27, 0),\n",
       " (-26, 0),\n",
       " (-25, 0),\n",
       " (-24, 0),\n",
       " (-23, 0),\n",
       " (-22, 0),\n",
       " (-21, 0),\n",
       " (-20, 0),\n",
       " (-19, 0),\n",
       " (-18, 0),\n",
       " (-17, 0),\n",
       " (-16, 0),\n",
       " (-15, 0),\n",
       " (-14, 0),\n",
       " (-13, 0),\n",
       " (-12, 0),\n",
       " (-11, 0),\n",
       " (-10, 0),\n",
       " (-9, 0),\n",
       " (-8, 0),\n",
       " (-7, 0),\n",
       " (-6, 0),\n",
       " (-5, 0),\n",
       " (-4, 0),\n",
       " (-3, 0),\n",
       " (-2, 0),\n",
       " (-1, 0),\n",
       " (0, 0),\n",
       " (1, 0),\n",
       " (2, 0),\n",
       " (3, 0),\n",
       " (4, 0)]"
      ]
     },
     "execution_count": 13,
     "metadata": {},
     "output_type": "execute_result"
    }
   ],
   "source": [
    "D.vert_mld_points(PS(0,1))"
   ]
  },
  {
   "cell_type": "code",
   "execution_count": 15,
   "id": "ed042095-83bd-4c21-8d89-8ff04b927b8d",
   "metadata": {},
   "outputs": [
    {
     "data": {
      "text/plain": [
       "5"
      ]
     },
     "execution_count": 15,
     "metadata": {},
     "output_type": "execute_result"
    }
   ],
   "source": [
    "D.vert_mld_of_vertex(PS(0,1), vector([-1,0]))"
   ]
  },
  {
   "cell_type": "code",
   "execution_count": 17,
   "id": "b543b45e-3119-4739-b575-77297b3d7cfe",
   "metadata": {},
   "outputs": [
    {
     "data": {
      "text/plain": [
       "True"
      ]
     },
     "execution_count": 17,
     "metadata": {},
     "output_type": "execute_result"
    }
   ],
   "source": [
    "D.coefficient(PS(0,1)).relative_interior_contains(vector([-1,0]))"
   ]
  },
  {
   "cell_type": "code",
   "execution_count": 18,
   "id": "00a93519-af9b-4067-a595-ded7cea70791",
   "metadata": {},
   "outputs": [
    {
     "name": "stdout",
     "output_type": "stream",
     "text": [
      "Canonical Weight: (0, -6)\n",
      "Canonical Base Divisor: Rational Divisor with data:\n",
      "(0 : 1): 4, \n",
      "(1 : 0): -24, \n",
      "(1 : 1): 18, \n"
     ]
    }
   ],
   "source": [
    "D.canonical_data()"
   ]
  },
  {
   "cell_type": "code",
   "execution_count": null,
   "id": "4b0ce746-db0f-40bf-903c-48654d8a6c3a",
   "metadata": {},
   "outputs": [],
   "source": []
  }
 ],
 "metadata": {
  "kernelspec": {
   "display_name": "SageMath 10.2",
   "language": "sage",
   "name": "sagemath"
  },
  "language_info": {
   "codemirror_mode": {
    "name": "ipython",
    "version": 3
   },
   "file_extension": ".py",
   "mimetype": "text/x-python",
   "name": "python",
   "nbconvert_exporter": "python",
   "pygments_lexer": "ipython3",
   "version": "3.11.8"
  }
 },
 "nbformat": 4,
 "nbformat_minor": 5
}
