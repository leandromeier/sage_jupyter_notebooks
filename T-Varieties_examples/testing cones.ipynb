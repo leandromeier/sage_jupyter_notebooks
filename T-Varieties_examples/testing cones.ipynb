{
 "cells": [
  {
   "cell_type": "code",
   "execution_count": 1,
   "id": "803d1aac-9f8c-4ad0-89d5-4d2b69923212",
   "metadata": {},
   "outputs": [],
   "source": [
    "import sys\n",
    "sys.path.insert(0, '/home/leandro/math/sage/sage_tvars')\n",
    "from tvars import *"
   ]
  },
  {
   "cell_type": "code",
   "execution_count": 2,
   "id": "02ae2d60-1ec5-4f2f-8e87-493a2fd7f39d",
   "metadata": {},
   "outputs": [],
   "source": [
    "# varieties to test:\n",
    "# V(xy-zw), F = matrix(ZZ,[[1,1],[1,0],[0,1]]): ok\n",
    "# V(xy-zw), F = matrix(ZZ,[[3,-2],[4,2],[0,1]]): ??\n",
    "# V(xy-zw), F = matrix(ZZ,[[1,-2],[2,1],[2,2]]): ??\n",
    "\n"
   ]
  },
  {
   "cell_type": "code",
   "execution_count": 3,
   "id": "25ec7592-286b-4f12-8a3f-17e9190c85a8",
   "metadata": {},
   "outputs": [
    {
     "data": {
      "text/plain": [
       "True"
      ]
     },
     "execution_count": 3,
     "metadata": {},
     "output_type": "execute_result"
    }
   ],
   "source": [
    "C = TVCone([[1,0,0],[0,1,0],[0,0,1],[1,1,-1]]);\n",
    "C.is_Q_Gorenstein()"
   ]
  },
  {
   "cell_type": "code",
   "execution_count": 4,
   "id": "421ca026-a7cd-4e9f-8d68-ab41ac767a66",
   "metadata": {},
   "outputs": [
    {
     "data": {
      "text/plain": [
       "(A vertex at (0, 0, 0),\n",
       " A vertex at (3, 0, 0),\n",
       " A vertex at (0, 0, 3),\n",
       " A vertex at (0, 3, 0),\n",
       " A vertex at (3, 3, -3))"
      ]
     },
     "execution_count": 4,
     "metadata": {},
     "output_type": "execute_result"
    }
   ],
   "source": [
    "kHalfspace = Polyhedron(ieqs = [[3, *-C.u0]])\n",
    "kHalfspace.intersection(Polyhedron(C.cone)).vertices()\n",
    "#C.interior_integral_points(3, C.u0)"
   ]
  },
  {
   "cell_type": "code",
   "execution_count": 5,
   "id": "2740290e-e547-460d-b9e1-a0a974435cc1",
   "metadata": {},
   "outputs": [
    {
     "data": {
      "text/plain": [
       "{2: [(1, 1, 0)], 3: [(1, 1, 0), (1, 1, 1), (1, 2, 0), (2, 1, 0), (2, 2, -1)]}"
      ]
     },
     "execution_count": 5,
     "metadata": {},
     "output_type": "execute_result"
    }
   ],
   "source": [
    "C.all_log_discrepancies(3)"
   ]
  },
  {
   "cell_type": "code",
   "execution_count": null,
   "id": "37ff4167-28e0-4c82-8281-44b9d5c2fe97",
   "metadata": {},
   "outputs": [],
   "source": []
  },
  {
   "cell_type": "code",
   "execution_count": 7,
   "id": "cb0bd190-6e4b-4e74-b495-83d4b4802f10",
   "metadata": {},
   "outputs": [
    {
     "data": {
      "text/plain": [
       "(-1, -1, -1)"
      ]
     },
     "execution_count": 7,
     "metadata": {},
     "output_type": "execute_result"
    }
   ],
   "source": [
    "-C.u0"
   ]
  },
  {
   "cell_type": "code",
   "execution_count": 14,
   "id": "cded4b17-9bf4-4829-b310-65d46746e473",
   "metadata": {},
   "outputs": [
    {
     "data": {
      "text/plain": [
       "(1, 1, 1)"
      ]
     },
     "execution_count": 14,
     "metadata": {},
     "output_type": "execute_result"
    }
   ],
   "source": [
    "C.canonical_weights()"
   ]
  },
  {
   "cell_type": "code",
   "execution_count": 9,
   "id": "76fde4bc-2855-418e-afc7-034a2382cb7c",
   "metadata": {},
   "outputs": [
    {
     "data": {
      "text/plain": [
       "[ 3 -2]\n",
       "[ 4  2]\n",
       "[ 0  1]"
      ]
     },
     "execution_count": 9,
     "metadata": {},
     "output_type": "execute_result"
    }
   ],
   "source": [
    "F = matrix(ZZ,[[3,-2],[4,2],[0,1]])es_(1,p,p-1)\n",
    "Last Checkpoint: 2 hours ago\n",
    "[SageMath 10.2]\n",
    "\n",
    "F"
   ]
  },
  {
   "cell_type": "code",
   "execution_count": 10,
   "id": "ac079fda-1d92-4186-8622-86bd5e465116",
   "metadata": {},
   "outputs": [],
   "source": [
    "coef = C.downgrade_coef_compl_one(F)"
   ]
  },
  {
   "cell_type": "code",
   "execution_count": 11,
   "id": "80f8c700-5116-45c9-8f11-bd94b766d84c",
   "metadata": {},
   "outputs": [
    {
     "data": {
      "text/plain": [
       "{(0 : 1): A 2-dimensional polyhedron in QQ^2 defined as the convex hull of 2 vertices and 2 rays,\n",
       " (1 : 0): A 2-dimensional polyhedron in QQ^2 defined as the convex hull of 2 vertices and 2 rays}"
      ]
     },
     "execution_count": 11,
     "metadata": {},
     "output_type": "execute_result"
    }
   ],
   "source": [
    "# changing the dict keys to points of PP1\n",
    "PS = ProjectiveSpace(1,QQ)\n",
    "coef[PS(0,1)]= coef[0];\n",
    "coef[PS(1,0)]= coef[1];\n",
    "del coef[0];\n",
    "del coef[1];\n",
    "coef"
   ]
  },
  {
   "cell_type": "code",
   "execution_count": 12,
   "id": "0fb2ad1b-3f23-45d9-9b8b-58b49e730f54",
   "metadata": {},
   "outputs": [
    {
     "data": {
      "text/plain": [
       "PolyhedralDivisor with support {(0 : 1), (1 : 0)}"
      ]
     },
     "execution_count": 12,
     "metadata": {},
     "output_type": "execute_result"
    }
   ],
   "source": [
    "D = PolyhedralDivisor(coef)\n",
    "D"
   ]
  },
  {
   "cell_type": "code",
   "execution_count": 13,
   "id": "6af63191-45dc-4ddc-911a-437d4e6ca690",
   "metadata": {},
   "outputs": [
    {
     "ename": "KeyboardInterrupt",
     "evalue": "",
     "output_type": "error",
     "traceback": [
      "\u001b[1;31m---------------------------------------------------------------------------\u001b[0m",
      "\u001b[1;31mKeyboardInterrupt\u001b[0m                         Traceback (most recent call last)",
      "Cell \u001b[1;32mIn[13], line 1\u001b[0m\n\u001b[1;32m----> 1\u001b[0m \u001b[43mD\u001b[49m\u001b[38;5;241;43m.\u001b[39;49m\u001b[43msection_ring\u001b[49m\u001b[43m(\u001b[49m\u001b[43mInteger\u001b[49m\u001b[43m(\u001b[49m\u001b[38;5;241;43m8\u001b[39;49m\u001b[43m)\u001b[49m\u001b[43m)\u001b[49m\n",
      "File \u001b[1;32m~/math/sage/sage_tvars/tvars/class_PolyhedralDivisor.py:516\u001b[0m, in \u001b[0;36mPolyhedralDivisor.section_ring\u001b[1;34m(self, max_ngens)\u001b[0m\n\u001b[0;32m    513\u001b[0m     \u001b[38;5;28;01mraise\u001b[39;00m \u001b[38;5;167;01mValueError\u001b[39;00m(\u001b[38;5;124m'\u001b[39m\u001b[38;5;124mThe polyhedral divisor is not proper\u001b[39m\u001b[38;5;124m'\u001b[39m)\n\u001b[0;32m    515\u001b[0m D\u001b[38;5;241m=\u001b[39m\u001b[38;5;28mself\u001b[39m\u001b[38;5;241m.\u001b[39m__shift()\n\u001b[1;32m--> 516\u001b[0m G\u001b[38;5;241m=\u001b[39m\u001b[38;5;28;43mself\u001b[39;49m\u001b[38;5;241;43m.\u001b[39;49m\u001b[43mgenerating_degrees\u001b[49m\u001b[43m(\u001b[49m\u001b[43m)\u001b[49m\n\u001b[0;32m    517\u001b[0m G\u001b[38;5;241m=\u001b[39mG[:\u001b[38;5;28mmin\u001b[39m(\u001b[38;5;28mlen\u001b[39m(G),max_ngens)]\n\u001b[0;32m    519\u001b[0m \u001b[38;5;66;03m#creating C2 (the codomain of our map)\u001b[39;00m\n",
      "File \u001b[1;32m~/math/sage/sage_tvars/tvars/class_PolyhedralDivisor.py:476\u001b[0m, in \u001b[0;36mPolyhedralDivisor.generating_degrees\u001b[1;34m(self)\u001b[0m\n\u001b[0;32m    474\u001b[0m \u001b[38;5;66;03m#ordering of G\u001b[39;00m\n\u001b[0;32m    475\u001b[0m \u001b[38;5;28;01mfor\u001b[39;00m u \u001b[38;5;129;01min\u001b[39;00m G:\n\u001b[1;32m--> 476\u001b[0m     \u001b[38;5;28;01mif\u001b[39;00m \u001b[38;5;28;43mself\u001b[39;49m\u001b[43m(\u001b[49m\u001b[43mu\u001b[49m\u001b[43m)\u001b[49m\u001b[38;5;241m.\u001b[39mdeg\u001b[38;5;241m==\u001b[39m\u001b[38;5;241m0\u001b[39m:\n\u001b[0;32m    477\u001b[0m         a\u001b[38;5;241m=\u001b[39mlcm(denominator(\u001b[38;5;28mself\u001b[39m(u)[y]) \u001b[38;5;28;01mfor\u001b[39;00m y \u001b[38;5;129;01min\u001b[39;00m \u001b[38;5;28mself\u001b[39m(u)\u001b[38;5;241m.\u001b[39msupp())\n\u001b[0;32m    478\u001b[0m         \u001b[38;5;28;01mif\u001b[39;00m a\u001b[38;5;241m*\u001b[39mu \u001b[38;5;129;01mnot\u001b[39;00m \u001b[38;5;129;01min\u001b[39;00m G_ordered: G_ordered\u001b[38;5;241m.\u001b[39mappend(a\u001b[38;5;241m*\u001b[39mu)\n",
      "File \u001b[1;32m~/math/sage/sage_tvars/tvars/class_PolyhedralDivisor.py:210\u001b[0m, in \u001b[0;36mPolyhedralDivisor.__call__\u001b[1;34m(self, u)\u001b[0m\n\u001b[0;32m    206\u001b[0m \u001b[38;5;28;01mdef\u001b[39;00m \u001b[38;5;21m__call__\u001b[39m(\u001b[38;5;28mself\u001b[39m,u):\n\u001b[0;32m    207\u001b[0m \u001b[38;5;250m    \u001b[39m\u001b[38;5;124;03m\"\"\"\u001b[39;00m\n\u001b[0;32m    208\u001b[0m \u001b[38;5;124;03m    Calculates the evaluation of the polyhedral divisor at the vector u\u001b[39;00m\n\u001b[0;32m    209\u001b[0m \u001b[38;5;124;03m    \"\"\"\u001b[39;00m\n\u001b[1;32m--> 210\u001b[0m     \u001b[38;5;28;01mreturn\u001b[39;00m \u001b[38;5;28;43mself\u001b[39;49m\u001b[38;5;241;43m.\u001b[39;49m\u001b[43mevaluate\u001b[49m\u001b[43m(\u001b[49m\u001b[43mu\u001b[49m\u001b[43m)\u001b[49m\n",
      "File \u001b[1;32m~/math/sage/sage_tvars/tvars/class_PolyhedralDivisor.py:192\u001b[0m, in \u001b[0;36mPolyhedralDivisor.evaluate\u001b[1;34m(self, u)\u001b[0m\n\u001b[0;32m    189\u001b[0m rational_divisor_data \u001b[38;5;241m=\u001b[39m \u001b[38;5;28mdict\u001b[39m()\n\u001b[0;32m    190\u001b[0m \u001b[38;5;28;01mfor\u001b[39;00m y \u001b[38;5;129;01min\u001b[39;00m \u001b[38;5;28mself\u001b[39m\u001b[38;5;241m.\u001b[39mdata:\n\u001b[0;32m    191\u001b[0m     \u001b[38;5;66;03m#if an entry is empty we define the value at that point to be infinite\u001b[39;00m\n\u001b[1;32m--> 192\u001b[0m     \u001b[38;5;28;01mif\u001b[39;00m \u001b[38;5;28;43mself\u001b[39;49m\u001b[43m[\u001b[49m\u001b[43my\u001b[49m\u001b[43m]\u001b[49m\u001b[38;5;241m.\u001b[39mis_empty():\n\u001b[0;32m    193\u001b[0m         value \u001b[38;5;241m=\u001b[39m oo\n\u001b[0;32m    194\u001b[0m     \u001b[38;5;66;03m#if the entry is not empty the coefficient is defined as the minimum of <D_Z,u>\u001b[39;00m\n\u001b[0;32m    195\u001b[0m     \u001b[38;5;28;01melse\u001b[39;00m:\n",
      "File \u001b[1;32m~/math/sage/sage_tvars/tvars/class_Divisor.py:119\u001b[0m, in \u001b[0;36mDivisor.__getitem__\u001b[1;34m(self, y)\u001b[0m\n\u001b[0;32m    108\u001b[0m \u001b[38;5;28;01mdef\u001b[39;00m \u001b[38;5;21m__getitem__\u001b[39m(\u001b[38;5;28mself\u001b[39m, y):\n\u001b[0;32m    109\u001b[0m \u001b[38;5;250m    \u001b[39m\u001b[38;5;124;03m\"\"\"\u001b[39;00m\n\u001b[0;32m    110\u001b[0m \u001b[38;5;124;03m    Provide indexing support to retrieve the coefficient associated with a point.\u001b[39;00m\n\u001b[0;32m    111\u001b[0m \n\u001b[1;32m   (...)\u001b[0m\n\u001b[0;32m    117\u001b[0m \n\u001b[0;32m    118\u001b[0m \u001b[38;5;124;03m    \"\"\"\u001b[39;00m\n\u001b[1;32m--> 119\u001b[0m     \u001b[38;5;28;01mreturn\u001b[39;00m \u001b[38;5;28;43mself\u001b[39;49m\u001b[38;5;241;43m.\u001b[39;49m\u001b[43mcoefficient\u001b[49m\u001b[43m(\u001b[49m\u001b[43my\u001b[49m\u001b[43m)\u001b[49m\n",
      "File \u001b[1;32m~/math/sage/sage_tvars/tvars/class_Divisor.py:106\u001b[0m, in \u001b[0;36mDivisor.coefficient\u001b[1;34m(self, x)\u001b[0m\n\u001b[0;32m     94\u001b[0m \u001b[38;5;28;01mdef\u001b[39;00m \u001b[38;5;21mcoefficient\u001b[39m(\u001b[38;5;28mself\u001b[39m, x):\n\u001b[0;32m     95\u001b[0m \u001b[38;5;250m    \u001b[39m\u001b[38;5;124;03m\"\"\"\u001b[39;00m\n\u001b[0;32m     96\u001b[0m \u001b[38;5;124;03m    Return the coefficient associated with a given point.\u001b[39;00m\n\u001b[0;32m     97\u001b[0m \n\u001b[1;32m   (...)\u001b[0m\n\u001b[0;32m    104\u001b[0m \n\u001b[0;32m    105\u001b[0m \u001b[38;5;124;03m    \"\"\"\u001b[39;00m\n\u001b[1;32m--> 106\u001b[0m     \u001b[38;5;28;01mreturn\u001b[39;00m \u001b[38;5;28mself\u001b[39m\u001b[38;5;241m.\u001b[39mdata[x] \u001b[38;5;28;01mif\u001b[39;00m \u001b[43mx\u001b[49m\u001b[43m \u001b[49m\u001b[38;5;129;43;01min\u001b[39;49;00m\u001b[43m \u001b[49m\u001b[38;5;28;43mself\u001b[39;49m\u001b[38;5;241;43m.\u001b[39;49m\u001b[43msupp\u001b[49m\u001b[43m(\u001b[49m\u001b[43m)\u001b[49m \u001b[38;5;28;01melse\u001b[39;00m \u001b[38;5;28mself\u001b[39m\u001b[38;5;241m.\u001b[39mdefault_coefficient\n",
      "File \u001b[1;32m/usr/lib/python3.11/site-packages/sage/schemes/projective/projective_point.py:1201\u001b[0m, in \u001b[0;36mSchemeMorphism_point_projective_field.__hash__\u001b[1;34m(self)\u001b[0m\n\u001b[0;32m   1189\u001b[0m \u001b[38;5;250m\u001b[39m\u001b[38;5;124;03m\"\"\"\u001b[39;00m\n\u001b[0;32m   1190\u001b[0m \u001b[38;5;124;03mComputes the hash value of this point.\u001b[39;00m\n\u001b[0;32m   1191\u001b[0m \n\u001b[1;32m   (...)\u001b[0m\n\u001b[0;32m   1198\u001b[0m \u001b[38;5;124;03m    True\u001b[39;00m\n\u001b[0;32m   1199\u001b[0m \u001b[38;5;124;03m\"\"\"\u001b[39;00m\n\u001b[0;32m   1200\u001b[0m P \u001b[38;5;241m=\u001b[39m copy(\u001b[38;5;28mself\u001b[39m)\n\u001b[1;32m-> 1201\u001b[0m \u001b[43mP\u001b[49m\u001b[38;5;241;43m.\u001b[39;49m\u001b[43mnormalize_coordinates\u001b[49m\u001b[43m(\u001b[49m\u001b[43m)\u001b[49m\n\u001b[0;32m   1202\u001b[0m \u001b[38;5;28;01mreturn\u001b[39;00m \u001b[38;5;28mhash\u001b[39m(\u001b[38;5;28mtuple\u001b[39m(P))\n",
      "File \u001b[1;32m/usr/lib/python3.11/site-packages/sage/schemes/projective/projective_point.py:1230\u001b[0m, in \u001b[0;36mSchemeMorphism_point_projective_field.normalize_coordinates\u001b[1;34m(self)\u001b[0m\n\u001b[0;32m   1228\u001b[0m \u001b[38;5;28;01mwhile\u001b[39;00m \u001b[38;5;28mself\u001b[39m[index] \u001b[38;5;241m==\u001b[39m \u001b[38;5;241m0\u001b[39m:\n\u001b[0;32m   1229\u001b[0m     index \u001b[38;5;241m-\u001b[39m\u001b[38;5;241m=\u001b[39m \u001b[38;5;241m1\u001b[39m\n\u001b[1;32m-> 1230\u001b[0m \u001b[38;5;28mself\u001b[39m\u001b[38;5;241m.\u001b[39mscale_by(\u001b[38;5;241m1\u001b[39m\u001b[38;5;241m/\u001b[39m\u001b[38;5;28;43mself\u001b[39;49m\u001b[43m[\u001b[49m\u001b[43mindex\u001b[49m\u001b[43m]\u001b[49m)\n",
      "File \u001b[1;32m/usr/lib/python3.11/site-packages/sage/schemes/generic/morphism.py:1843\u001b[0m, in \u001b[0;36mSchemeMorphism_point.__getitem__\u001b[1;34m(self, n)\u001b[0m\n\u001b[0;32m   1825\u001b[0m \u001b[38;5;250m    \u001b[39m\u001b[38;5;124mr\u001b[39m\u001b[38;5;124;03m\"\"\"\u001b[39;00m\n\u001b[0;32m   1826\u001b[0m \u001b[38;5;124;03m    Return a latex representation of ``self``.\u001b[39;00m\n\u001b[0;32m   1827\u001b[0m \n\u001b[1;32m   (...)\u001b[0m\n\u001b[0;32m   1839\u001b[0m \u001b[38;5;124;03m        '\\\\left(1, 2\\\\right)'\u001b[39;00m\n\u001b[0;32m   1840\u001b[0m \u001b[38;5;124;03m    \"\"\"\u001b[39;00m\n\u001b[0;32m   1841\u001b[0m     \u001b[38;5;28;01mreturn\u001b[39;00m \u001b[38;5;28mself\u001b[39m\u001b[38;5;241m.\u001b[39m_codomain\u001b[38;5;241m.\u001b[39mambient_space()\u001b[38;5;241m.\u001b[39m_latex_generic_point(\u001b[38;5;28mself\u001b[39m\u001b[38;5;241m.\u001b[39m_coords)\n\u001b[1;32m-> 1843\u001b[0m \u001b[38;5;28;01mdef\u001b[39;00m \u001b[38;5;21m__getitem__\u001b[39m(\u001b[38;5;28mself\u001b[39m, n):\n\u001b[0;32m   1844\u001b[0m \u001b[38;5;250m    \u001b[39m\u001b[38;5;124;03m\"\"\"\u001b[39;00m\n\u001b[0;32m   1845\u001b[0m \u001b[38;5;124;03m    Return the ``n``-th coordinate.\u001b[39;00m\n\u001b[0;32m   1846\u001b[0m \n\u001b[1;32m   (...)\u001b[0m\n\u001b[0;32m   1858\u001b[0m \u001b[38;5;124;03m        2\u001b[39;00m\n\u001b[0;32m   1859\u001b[0m \u001b[38;5;124;03m    \"\"\"\u001b[39;00m\n\u001b[0;32m   1860\u001b[0m     \u001b[38;5;28;01mreturn\u001b[39;00m \u001b[38;5;28mself\u001b[39m\u001b[38;5;241m.\u001b[39m_coords[n]\n",
      "File \u001b[1;32msrc/cysignals/signals.pyx:341\u001b[0m, in \u001b[0;36mcysignals.signals.python_check_interrupt\u001b[1;34m()\u001b[0m\n",
      "\u001b[1;31mKeyboardInterrupt\u001b[0m: "
     ]
    }
   ],
   "source": [
    "D.section_ring(8)"
   ]
  },
  {
   "cell_type": "code",
   "execution_count": null,
   "id": "ae096a45-1f6b-4f2b-a306-a92efa838f02",
   "metadata": {},
   "outputs": [],
   "source": []
  },
  {
   "cell_type": "code",
   "execution_count": null,
   "id": "c3fa2da2-4bf7-40c6-8d5d-cff76aaaaaea",
   "metadata": {},
   "outputs": [],
   "source": []
  }
 ],
 "metadata": {
  "kernelspec": {
   "display_name": "SageMath 10.2",
   "language": "sage",
   "name": "sagemath"
  },
  "language_info": {
   "codemirror_mode": {
    "name": "ipython",
    "version": 3
   },
   "file_extension": ".py",
   "mimetype": "text/x-python",
   "name": "python",
   "nbconvert_exporter": "python",
   "pygments_lexer": "ipython3",
   "version": "3.11.8"
  }
 },
 "nbformat": 4,
 "nbformat_minor": 5
}
