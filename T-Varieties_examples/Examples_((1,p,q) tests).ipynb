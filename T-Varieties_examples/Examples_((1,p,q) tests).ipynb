{
 "cells": [
  {
   "cell_type": "code",
   "execution_count": 1,
   "id": "e8782cb5-c43d-470a-8390-275635505a44",
   "metadata": {},
   "outputs": [],
   "source": [
    "import sys\n",
    "sys.path.insert(0, '/home/leandro/math/sage/sage_tvars')\n",
    "from tvars import *\n",
    "import random\n",
    "PS=ProjectiveSpace(1,QQ)\n",
    "BR = QQ;"
   ]
  },
  {
   "cell_type": "code",
   "execution_count": 5,
   "id": "8afc717d-9760-4de0-88a0-117206084aa9",
   "metadata": {},
   "outputs": [],
   "source": [
    "def p_divisor_gen(p, bound):\n",
    "    # generate a p-divisor of type (1,p,q) and dimension 3 \n",
    "    #bound = 5\n",
    "    n=2\n",
    "    q = p+1;\n",
    "    v0= vector([random.choice(range(-bound, bound)), random.choice(range(-bound, bound))])\n",
    "    v_inf= vector([random.choice(range(-bound, bound)), random.choice(range(-bound, bound))])\n",
    "    while v0[0] % p == 0 or v0[1] % p == 0:\n",
    "        v0= vector([random.choice(range(-bound, bound)), random.choice(range(-bound, bound))])\n",
    "    v0 = (1/p)*v0\n",
    "    while (v_inf[0] % q == 0) or (v_inf[1] % q == 0):\n",
    "         v_inf= vector([random.choice(range(-bound, bound)), random.choice(range(-bound, bound))])\n",
    "    v_inf = (1/q)*v_inf\n",
    "    v1= vector([random.choice(range(-bound, bound)), random.choice(range(-bound, bound))])\n",
    "    v2 = vector([0,0])\n",
    "    #v2= vector([random.choice(range(-bound, bound)), random.choice(range(-bound, bound))])\n",
    "    sigma = Cone([v0 + v1 + v_inf, v0 + v2 + v_inf]).rays()\n",
    "    # the p-divisor\n",
    "    dict = {PS(0,1) : Polyhedron(vertices=[v0],rays=sigma, base_ring=BR),\n",
    "           PS(1,0) : Polyhedron(vertices=[v_inf],rays=sigma, base_ring=BR),\n",
    "           PS(1,1) : Polyhedron(vertices =[v1,v2],rays=sigma, base_ring=BR)\n",
    "           }\n",
    "    D = PolyhedralDivisor(dict);\n",
    "    if not D.is_proper():\n",
    "        #print(\"not proper\")\n",
    "        raise NotImplementedError(f\"The variety is not Q-Gorenstein.\")\n",
    "    if not D.is_Q_Gorenstein():\n",
    "        #print(\"Not Q-G\")\n",
    "        raise NotImplementedError(f\"The variety is not Q-Gorenstein.\")\n",
    "    return D"
   ]
  },
  {
   "cell_type": "code",
   "execution_count": 3,
   "id": "0a81a21c-58cb-4b25-ae2a-5f1d9a1115ea",
   "metadata": {},
   "outputs": [],
   "source": [
    "def p_divisor_gen3(p, bound):\n",
    "    # generate a p-divisor of type (1,p,q) and dimension 4\n",
    "    #bound = 5\n",
    "    n=3\n",
    "    q = p+1;\n",
    "    v0= vector([random.choice(range(-bound, bound)), random.choice(range(-bound, bound)), random.choice(range(-bound, bound))])\n",
    "    v_inf= vector([random.choice(range(-bound, bound)), random.choice(range(-bound, bound)), random.choice(range(-bound, bound))])\n",
    "    while v0[0] % p == 0 or v0[1] % p == 0 or v0[2] % p == 0:\n",
    "        v0= vector([random.choice(range(-bound, bound)), random.choice(range(-bound, bound)), random.choice(range(-bound, bound))])\n",
    "    v0 = (1/p)*v0\n",
    "    while (v_inf[0] % q == 0) or (v_inf[1] % q == 0) or (v_inf[2] % q == 0):\n",
    "         v_inf= vector([random.choice(range(-bound, bound)), random.choice(range(-bound, bound)), random.choice(range(-bound, bound))])\n",
    "    v_inf = (1/q)*v_inf\n",
    "    v1= vector([random.choice(range(-bound, bound)), random.choice(range(-bound, bound)), random.choice(range(-bound, bound))])\n",
    "    v2 = vector([0,0,0])\n",
    "    v3= vector([random.choice(range(-bound, bound)), random.choice(range(-bound, bound)), random.choice(range(-bound, bound))])\n",
    "    v4 = vector([0,0,0])\n",
    "    sigma = Cone([v0 + v1 + v3 + v_inf, v0 + v1 + v4 + v_inf, v0 + v2 + v3 + v_inf, v0 + v2 + v4 + v_inf]).rays()\n",
    "    # the p-divisor\n",
    "    dict = {PS(0,1) : Polyhedron(vertices=[v0],rays=sigma, base_ring=BR),\n",
    "           PS(1,0) : Polyhedron(vertices=[v_inf],rays=sigma, base_ring=BR),\n",
    "           PS(1,1) : Polyhedron(vertices =[v1,v2],rays=sigma, base_ring=BR),\n",
    "           PS(1,2) : Polyhedron(vertices =[v3,v4],rays=sigma, base_ring=BR)\n",
    "           }\n",
    "    D = PolyhedralDivisor(dict);\n",
    "    if not D.is_proper():\n",
    "        #print(\"not proper\")\n",
    "        raise NotImplementedError(f\"The variety is not Q-Gorenstein.\")\n",
    "    if not D.is_Q_Gorenstein():\n",
    "        #print(\"Not Q-G\")\n",
    "        raise NotImplementedError(f\"The variety is not Q-Gorenstein.\")\n",
    "    return D"
   ]
  },
  {
   "cell_type": "code",
   "execution_count": 4,
   "id": "54d8f096-54cd-4ca4-b32f-458eb79e2482",
   "metadata": {},
   "outputs": [],
   "source": [
    "%%script false --no-raise-error\n",
    "n=2\n",
    "v0= vector([(1/p), (1/p)*2])\n",
    "v_inf= vector([(1/q)*(-1), (1/q)*0])\n",
    "v1= vector([-1,0])\n",
    "v2 = vector([0,0])\n",
    "sigma = Cone([v0 + v1 + v_inf, v0 + v2 + v_inf]).rays()\n",
    "dict = {PS(0,1) : Polyhedron(vertices=[v0],rays=sigma, base_ring=BR),\n",
    "       PS(1,0) : Polyhedron(vertices=[v_inf],rays=sigma, base_ring=BR),\n",
    "       PS(1,1) : Polyhedron(vertices =[v1,v2],rays=sigma, base_ring=BR)\n",
    "       }\n",
    "D = PolyhedralDivisor(dict);\n",
    "if not D.is_proper():\n",
    "    raise NotImplementedError(f\"The variety is not Q-Gorenstein.\")\n",
    "if not D.is_Q_Gorenstein():\n",
    "    raise NotImplementedError(f\"The variety is not Q-Gorenstein.\")\n",
    "D.deg"
   ]
  },
  {
   "cell_type": "code",
   "execution_count": 6,
   "id": "1b2057e7-40f1-4179-8dc0-02e8eb6345e1",
   "metadata": {},
   "outputs": [
    {
     "ename": "NameError",
     "evalue": "name 'PolyhedralDivisor' is not defined",
     "output_type": "error",
     "traceback": [
      "\u001b[1;31m---------------------------------------------------------------------------\u001b[0m",
      "\u001b[1;31mNameError\u001b[0m                                 Traceback (most recent call last)",
      "Cell \u001b[1;32mIn[6], line 1\u001b[0m\n\u001b[1;32m----> 1\u001b[0m D \u001b[38;5;241m=\u001b[39m \u001b[43mp_divisor_gen\u001b[49m\u001b[43m(\u001b[49m\u001b[43mInteger\u001b[49m\u001b[43m(\u001b[49m\u001b[38;5;241;43m3\u001b[39;49m\u001b[43m)\u001b[49m\u001b[43m,\u001b[49m\u001b[43mInteger\u001b[49m\u001b[43m(\u001b[49m\u001b[38;5;241;43m15\u001b[39;49m\u001b[43m)\u001b[49m\u001b[43m)\u001b[49m\n",
      "Cell \u001b[1;32mIn[5], line 23\u001b[0m, in \u001b[0;36mp_divisor_gen\u001b[1;34m(p, bound)\u001b[0m\n\u001b[0;32m     18\u001b[0m \u001b[38;5;66;03m# the p-divisor\u001b[39;00m\n\u001b[0;32m     19\u001b[0m \u001b[38;5;28mdict\u001b[39m \u001b[38;5;241m=\u001b[39m {PS(Integer(\u001b[38;5;241m0\u001b[39m),Integer(\u001b[38;5;241m1\u001b[39m)) : Polyhedron(vertices\u001b[38;5;241m=\u001b[39m[v0],rays\u001b[38;5;241m=\u001b[39msigma, base_ring\u001b[38;5;241m=\u001b[39mBR),\n\u001b[0;32m     20\u001b[0m        PS(Integer(\u001b[38;5;241m1\u001b[39m),Integer(\u001b[38;5;241m0\u001b[39m)) : Polyhedron(vertices\u001b[38;5;241m=\u001b[39m[v_inf],rays\u001b[38;5;241m=\u001b[39msigma, base_ring\u001b[38;5;241m=\u001b[39mBR),\n\u001b[0;32m     21\u001b[0m        PS(Integer(\u001b[38;5;241m1\u001b[39m),Integer(\u001b[38;5;241m1\u001b[39m)) : Polyhedron(vertices \u001b[38;5;241m=\u001b[39m[v1,v2],rays\u001b[38;5;241m=\u001b[39msigma, base_ring\u001b[38;5;241m=\u001b[39mBR)\n\u001b[0;32m     22\u001b[0m        }\n\u001b[1;32m---> 23\u001b[0m D \u001b[38;5;241m=\u001b[39m \u001b[43mPolyhedralDivisor\u001b[49m(\u001b[38;5;28mdict\u001b[39m);\n\u001b[0;32m     24\u001b[0m \u001b[38;5;28;01mif\u001b[39;00m \u001b[38;5;129;01mnot\u001b[39;00m D\u001b[38;5;241m.\u001b[39mis_proper():\n\u001b[0;32m     25\u001b[0m     \u001b[38;5;66;03m#print(\"not proper\")\u001b[39;00m\n\u001b[0;32m     26\u001b[0m     \u001b[38;5;28;01mraise\u001b[39;00m \u001b[38;5;167;01mNotImplementedError\u001b[39;00m(\u001b[38;5;124mf\u001b[39m\u001b[38;5;124m\"\u001b[39m\u001b[38;5;124mThe variety is not Q-Gorenstein.\u001b[39m\u001b[38;5;124m\"\u001b[39m)\n",
      "\u001b[1;31mNameError\u001b[0m: name 'PolyhedralDivisor' is not defined"
     ]
    }
   ],
   "source": [
    "D = p_divisor_gen(3,15)"
   ]
  },
  {
   "cell_type": "code",
   "execution_count": 34,
   "id": "58bf1294-f889-4f5b-baa8-e220be21c97c",
   "metadata": {},
   "outputs": [],
   "source": [
    "def divisors(n, k):\n",
    "    #dim(X) = n+1\n",
    "    divs = []\n",
    "    for i in range(k):\n",
    "        p = 3\n",
    "        #p = random.choice(range(2,50))\n",
    "        q = p+1\n",
    "        try:\n",
    "            if n == 3:\n",
    "                D = p_divisor_gen3(p,25)\n",
    "            else:\n",
    "                D = p_divisor_gen(p, 25)\n",
    "        except IndexError as ie:\n",
    "            print(\"index trouble\")\n",
    "            continue\n",
    "        # the variety should always be Q-Gorenstein but apparently sometimes isn't \n",
    "        except NotImplementedError as e:\n",
    "            print(\"Not Q-G.\")\n",
    "            continue\n",
    "        if D.multiplicity_of_slice(PS(0,1)) != p:\n",
    "            continue\n",
    "        if D.multiplicity_of_slice(PS(1,0)) != q:\n",
    "            continue\n",
    "        divs.append(D)\n",
    "    return divs"
   ]
  },
  {
   "cell_type": "code",
   "execution_count": 6,
   "id": "f40598a7-da0e-4cb6-a1d3-aca46553d1b5",
   "metadata": {},
   "outputs": [],
   "source": [
    "def multiplicities(D, y1,y2):\n",
    "    n = D.tail.dim() + 1\n",
    "    C1 = D.degeneration(y1)\n",
    "    w = vector(QQ, sum(C1.rays()[0:n]))\n",
    "    w_n = (-1/w[n-1])*w\n",
    "    mu_w = lcm(w_i.denominator() for w_i in w_n if w_i != 0)\n",
    "    l1 = D.vert_mld(y2)\n",
    "    for key, value in l1.items():\n",
    "        if mu_w in value:\n",
    "            return [True, y1]\n",
    "    C2 = D.degeneration(y2)\n",
    "    x = vector(QQ, sum(C2.rays()[0:n]))\n",
    "    x_n = (-1/x[n-1])*x\n",
    "    mu_x = lcm(x_i.denominator() for x_i in x_n if x_i != 0)\n",
    "    l2 = D.vert_mld(y1)\n",
    "    for key, value in l2.items():\n",
    "        if mu_x in value:\n",
    "            return [True,y2]\n",
    "    return False"
   ]
  },
  {
   "cell_type": "code",
   "execution_count": 103,
   "id": "70abc69d-ec0d-4d6d-955c-3efb1f64106e",
   "metadata": {},
   "outputs": [],
   "source": [
    "def log_discrepancies(D, y1,y2, ray_list):\n",
    "    n = D.tail.dim() + 1\n",
    "    C1 = D.degeneration(y2)\n",
    "    #w = vector(QQ, sum(C1.rays()[0:n-1]) + vector(C1.rays()[n]))\n",
    "    #w = vector(QQ, sum(C1.rays()[0:n]))\n",
    "    w = vector(QQ, sum(C1.rays()[i] for i in ray_list))\n",
    "    w_n = (-1/w[n-1])*w[0:n-1]\n",
    "    mu_w = lcm(w_i.denominator() for w_i in w_n if w_i != 0)\n",
    "    return D.coefficient(y1).relative_interior_contains(w_n)\n",
    "    #if D.coefficient(y1).relative_interior_contains(w_n - vector(D.coefficient(PS(1,1)).vertices()[0])- vector(D.coefficient(PS(2,1)).vertices()[0])):\n",
    "    #if D.coefficient(y1).relative_interior_contains(w_n):\n",
    "        #return D.vert_mld_of_vertex(y1,w_n)\n",
    "    #else:\n",
    "        #return False"
   ]
  },
  {
   "cell_type": "code",
   "execution_count": 27,
   "id": "422bf292-b817-48d3-ab08-fb1a2b360e12",
   "metadata": {},
   "outputs": [],
   "source": [
    "def mld_normalized_volume(D):\n",
    "    n = dim(D.tail) + 1\n",
    "    mld = D.mld(PS(1,2))\n",
    "    try:\n",
    "        # don't quite know why this goes wrong sometimes but we catch it to avoid trouble\n",
    "        nvol = D.nvol_of_val(D.minimize_nvol())\n",
    "    except ValueError as ve:\n",
    "        return 0\n",
    "    return mld* n^(n-1) >= nvol"
   ]
  },
  {
   "cell_type": "code",
   "execution_count": 45,
   "id": "48203d79-183d-44f3-b586-24ad3217164e",
   "metadata": {},
   "outputs": [],
   "source": [
    "divs = divisors(3,10)"
   ]
  },
  {
   "cell_type": "code",
   "execution_count": 46,
   "id": "db82fd02-a4f0-4728-8cef-9d3563157567",
   "metadata": {},
   "outputs": [
    {
     "data": {
      "text/plain": [
       "10"
      ]
     },
     "execution_count": 46,
     "metadata": {},
     "output_type": "execute_result"
    }
   ],
   "source": [
    "len(divs)"
   ]
  },
  {
   "cell_type": "code",
   "execution_count": 83,
   "id": "f6029771-18f2-4d8b-84fa-d90fce8946f8",
   "metadata": {},
   "outputs": [
    {
     "data": {
      "text/plain": [
       "[0, 1, 2, 3]"
      ]
     },
     "execution_count": 83,
     "metadata": {},
     "output_type": "execute_result"
    }
   ],
   "source": [
    "l0 = [int(d) for d in range(1,5)] #skip 0\n",
    "l1 = [int(d) for d in range(1)] + [int(d) for d in range(2,5)] #skip 1\n",
    "l2 = [int(d) for d in range(2)] + [int(d) for d in range(3,5)] #skip 2\n",
    "l3 = [int(d) for d in range(3)] + [int(d) for d in range(4,5)] #skip 3\n",
    "l4 = [int(d) for d in range(4)] #skip 4\n",
    "l4"
   ]
  },
  {
   "cell_type": "code",
   "execution_count": 69,
   "id": "3e185cd8-3139-4204-808f-ba1e90c51e9b",
   "metadata": {},
   "outputs": [
    {
     "data": {
      "text/plain": [
       "4"
      ]
     },
     "execution_count": 69,
     "metadata": {},
     "output_type": "execute_result"
    }
   ],
   "source": [
    "log_discrepancies(divs[0], PS(0,1),PS(1,0), list)"
   ]
  },
  {
   "cell_type": "code",
   "execution_count": 112,
   "id": "2e142fe6-5384-408d-b3b7-3f4eeb8a9a17",
   "metadata": {},
   "outputs": [],
   "source": [
    "R = []\n",
    "R.append([log_discrepancies(D, PS(0,1),PS(1,0), l0) for D in divs[:]])"
   ]
  },
  {
   "cell_type": "code",
   "execution_count": 113,
   "id": "9d26f006-fd3f-450e-9d1f-6b85136ffd5b",
   "metadata": {},
   "outputs": [],
   "source": [
    "R.append([log_discrepancies(D, PS(0,1),PS(1,0), l1) for D in divs[:]])"
   ]
  },
  {
   "cell_type": "code",
   "execution_count": 114,
   "id": "115fcdab-e665-4ab4-9438-fe7a19f4fb14",
   "metadata": {},
   "outputs": [],
   "source": [
    "R.append([log_discrepancies(D, PS(0,1),PS(1,0), l2) for D in divs[:]])"
   ]
  },
  {
   "cell_type": "code",
   "execution_count": 115,
   "id": "28e0d863-df35-45de-90ce-369f308ae13c",
   "metadata": {},
   "outputs": [],
   "source": [
    "R.append([log_discrepancies(D, PS(0,1),PS(1,0), l3) for D in divs[:]])"
   ]
  },
  {
   "cell_type": "code",
   "execution_count": 116,
   "id": "aca70ddb-6a2d-4c38-921a-2eef4463cb97",
   "metadata": {},
   "outputs": [],
   "source": [
    "R.append([log_discrepancies(D, PS(0,1),PS(1,0), l4) for D in divs[:]])"
   ]
  },
  {
   "cell_type": "code",
   "execution_count": 123,
   "id": "44a1957c-0617-49dd-8ecc-ca0195d00dc5",
   "metadata": {},
   "outputs": [
    {
     "data": {
      "text/plain": [
       "[False, True, True, False, False, False, False, False, False, False]"
      ]
     },
     "execution_count": 123,
     "metadata": {},
     "output_type": "execute_result"
    }
   ],
   "source": [
    "R[0]"
   ]
  },
  {
   "cell_type": "code",
   "execution_count": 124,
   "id": "a0b6dc65-05a1-4c4d-bed4-04c77ecb814b",
   "metadata": {},
   "outputs": [
    {
     "data": {
      "text/plain": [
       "[False, False, False, False, False, False, False, True, False, False]"
      ]
     },
     "execution_count": 124,
     "metadata": {},
     "output_type": "execute_result"
    }
   ],
   "source": [
    "R[1]"
   ]
  },
  {
   "cell_type": "code",
   "execution_count": 126,
   "id": "35487e12-0128-464d-ad40-f128110b49ac",
   "metadata": {},
   "outputs": [
    {
     "data": {
      "text/plain": [
       "[True, False, False, False, False, True, False, False, False, True]"
      ]
     },
     "execution_count": 126,
     "metadata": {},
     "output_type": "execute_result"
    }
   ],
   "source": [
    "max(R[0],R[1], R[2],R[3], R[4])"
   ]
  },
  {
   "cell_type": "code",
   "execution_count": 102,
   "id": "af2935d8-85c2-4c19-80be-e2050badba81",
   "metadata": {},
   "outputs": [
    {
     "data": {
      "text/plain": [
       "[False, 4, 4, False, False, False, False, False, False, False]"
      ]
     },
     "execution_count": 102,
     "metadata": {},
     "output_type": "execute_result"
    }
   ],
   "source": [
    "#all return a number at least once, i.e. there is a choice of "
   ]
  },
  {
   "cell_type": "code",
   "execution_count": 52,
   "id": "40fc16d2-0e92-4fd2-a099-5eda37735720",
   "metadata": {},
   "outputs": [
    {
     "data": {
      "text/plain": [
       "[N(-11,  -9,  3,  4),\n",
       " N( 68, -14, 44, -3),\n",
       " N( 11,   1, 56, -3),\n",
       " N( 23,  10, 14, -3),\n",
       " N( 56, -23, 86, -3)\n",
       " in 4-d lattice N,\n",
       " N(10,  44, -76, -3),\n",
       " N(-5, -16, -22, -3),\n",
       " N( 1,  17, -31, -3),\n",
       " N( 1,  21, -17,  4),\n",
       " N( 4,  11, -67, -3)\n",
       " in 4-d lattice N,\n",
       " N( 79, -92,  20, -3),\n",
       " N(-22, -13, -25,  4),\n",
       " N( -5,  16, -19, -3),\n",
       " N( 55, -29,  23, -3),\n",
       " N( 19, -47, -22, -3)\n",
       " in 4-d lattice N]"
      ]
     },
     "execution_count": 52,
     "metadata": {},
     "output_type": "execute_result"
    }
   ],
   "source": [
    "[D.degeneration(PS(1,0)).rays() for D in divs[0:3]]"
   ]
  },
  {
   "cell_type": "code",
   "execution_count": 49,
   "id": "67e81598-87cd-46fd-830e-0900698371e3",
   "metadata": {},
   "outputs": [
    {
     "data": {
      "text/plain": [
       "[[(A vertex at (23/3, 10/3, 14/3),),\n",
       "  (A vertex at (-11/4, -9/4, 3/4),),\n",
       "  (A vertex at (-4, -3, 14), A vertex at (0, 0, 0)),\n",
       "  (A vertex at (0, 0, 0), A vertex at (15, -8, 10))],\n",
       " [(A vertex at (-5/3, -16/3, -22/3),),\n",
       "  (A vertex at (1/4, 21/4, -17/4),),\n",
       "  (A vertex at (0, 0, 0), A vertex at (2, 11, -3)),\n",
       "  (A vertex at (0, 0, 0), A vertex at (3, 9, -15))],\n",
       " [(A vertex at (-5/3, 16/3, -19/3),),\n",
       "  (A vertex at (-11/2, -13/4, -25/4),),\n",
       "  (A vertex at (0, 0, 0), A vertex at (8, -21, -1)),\n",
       "  (A vertex at (0, 0, 0), A vertex at (20, -15, 14))]]"
      ]
     },
     "execution_count": 49,
     "metadata": {},
     "output_type": "execute_result"
    }
   ],
   "source": [
    "[[D.coefficient(y).vertices() for y in D.supp()] for D in divs[0:3]]"
   ]
  },
  {
   "cell_type": "code",
   "execution_count": 32,
   "id": "22bf8eb7-6ecf-4022-beaf-15cfd7273d29",
   "metadata": {},
   "outputs": [
    {
     "data": {
      "text/plain": [
       "[False, False, False]"
      ]
     },
     "execution_count": 32,
     "metadata": {},
     "output_type": "execute_result"
    }
   ],
   "source": [
    "[log_discrepancies(D, PS(1,0),PS(0,1)) for D in divs[4:7]]A"
   ]
  },
  {
   "cell_type": "code",
   "execution_count": 128,
   "id": "016b1b1c-0d12-4b29-ad85-3fd280a67a93",
   "metadata": {},
   "outputs": [
    {
     "data": {
      "text/plain": [
       "7"
      ]
     },
     "execution_count": 128,
     "metadata": {},
     "output_type": "execute_result"
    }
   ],
   "source": [
    "len(divs)"
   ]
  },
  {
   "cell_type": "code",
   "execution_count": 129,
   "id": "0b90d577-119d-4a8b-9e0e-3db1236f2b19",
   "metadata": {
    "scrolled": true
   },
   "outputs": [
    {
     "ename": "KeyboardInterrupt",
     "evalue": "",
     "output_type": "error",
     "traceback": [
      "\u001b[1;31m---------------------------------------------------------------------------\u001b[0m",
      "\u001b[1;31mKeyboardInterrupt\u001b[0m                         Traceback (most recent call last)",
      "Cell \u001b[1;32mIn[129], line 1\u001b[0m\n\u001b[1;32m----> 1\u001b[0m \u001b[43m[\u001b[49m\u001b[43mmultiplicities\u001b[49m\u001b[43m(\u001b[49m\u001b[43mD\u001b[49m\u001b[43m,\u001b[49m\u001b[43m \u001b[49m\u001b[43mPS\u001b[49m\u001b[43m(\u001b[49m\u001b[43mInteger\u001b[49m\u001b[43m(\u001b[49m\u001b[38;5;241;43m0\u001b[39;49m\u001b[43m)\u001b[49m\u001b[43m,\u001b[49m\u001b[43mInteger\u001b[49m\u001b[43m(\u001b[49m\u001b[38;5;241;43m1\u001b[39;49m\u001b[43m)\u001b[49m\u001b[43m)\u001b[49m\u001b[43m,\u001b[49m\u001b[43mPS\u001b[49m\u001b[43m(\u001b[49m\u001b[43mInteger\u001b[49m\u001b[43m(\u001b[49m\u001b[38;5;241;43m1\u001b[39;49m\u001b[43m)\u001b[49m\u001b[43m,\u001b[49m\u001b[43mInteger\u001b[49m\u001b[43m(\u001b[49m\u001b[38;5;241;43m0\u001b[39;49m\u001b[43m)\u001b[49m\u001b[43m)\u001b[49m\u001b[43m)\u001b[49m\u001b[43m \u001b[49m\u001b[38;5;28;43;01mfor\u001b[39;49;00m\u001b[43m \u001b[49m\u001b[43mD\u001b[49m\u001b[43m \u001b[49m\u001b[38;5;129;43;01min\u001b[39;49;00m\u001b[43m \u001b[49m\u001b[43mdivs\u001b[49m\u001b[43m]\u001b[49m\n",
      "Cell \u001b[1;32mIn[129], line 1\u001b[0m, in \u001b[0;36m<listcomp>\u001b[1;34m(.0)\u001b[0m\n\u001b[1;32m----> 1\u001b[0m [\u001b[43mmultiplicities\u001b[49m\u001b[43m(\u001b[49m\u001b[43mD\u001b[49m\u001b[43m,\u001b[49m\u001b[43m \u001b[49m\u001b[43mPS\u001b[49m\u001b[43m(\u001b[49m\u001b[43mInteger\u001b[49m\u001b[43m(\u001b[49m\u001b[38;5;241;43m0\u001b[39;49m\u001b[43m)\u001b[49m\u001b[43m,\u001b[49m\u001b[43mInteger\u001b[49m\u001b[43m(\u001b[49m\u001b[38;5;241;43m1\u001b[39;49m\u001b[43m)\u001b[49m\u001b[43m)\u001b[49m\u001b[43m,\u001b[49m\u001b[43mPS\u001b[49m\u001b[43m(\u001b[49m\u001b[43mInteger\u001b[49m\u001b[43m(\u001b[49m\u001b[38;5;241;43m1\u001b[39;49m\u001b[43m)\u001b[49m\u001b[43m,\u001b[49m\u001b[43mInteger\u001b[49m\u001b[43m(\u001b[49m\u001b[38;5;241;43m0\u001b[39;49m\u001b[43m)\u001b[49m\u001b[43m)\u001b[49m\u001b[43m)\u001b[49m \u001b[38;5;28;01mfor\u001b[39;00m D \u001b[38;5;129;01min\u001b[39;00m divs]\n",
      "Cell \u001b[1;32mIn[79], line 7\u001b[0m, in \u001b[0;36mmultiplicities\u001b[1;34m(D, y1, y2)\u001b[0m\n\u001b[0;32m      5\u001b[0m w_n \u001b[38;5;241m=\u001b[39m (\u001b[38;5;241m-\u001b[39mInteger(\u001b[38;5;241m1\u001b[39m)\u001b[38;5;241m/\u001b[39mw[n\u001b[38;5;241m-\u001b[39mInteger(\u001b[38;5;241m1\u001b[39m)])\u001b[38;5;241m*\u001b[39mw\n\u001b[0;32m      6\u001b[0m mu_w \u001b[38;5;241m=\u001b[39m lcm(w_i\u001b[38;5;241m.\u001b[39mdenominator() \u001b[38;5;28;01mfor\u001b[39;00m w_i \u001b[38;5;129;01min\u001b[39;00m w_n \u001b[38;5;28;01mif\u001b[39;00m w_i \u001b[38;5;241m!=\u001b[39m Integer(\u001b[38;5;241m0\u001b[39m))\n\u001b[1;32m----> 7\u001b[0m l1 \u001b[38;5;241m=\u001b[39m \u001b[43mD\u001b[49m\u001b[38;5;241;43m.\u001b[39;49m\u001b[43mvert_mld\u001b[49m\u001b[43m(\u001b[49m\u001b[43my2\u001b[49m\u001b[43m)\u001b[49m\n\u001b[0;32m      8\u001b[0m \u001b[38;5;28;01mfor\u001b[39;00m key, value \u001b[38;5;129;01min\u001b[39;00m l1\u001b[38;5;241m.\u001b[39mitems():\n\u001b[0;32m      9\u001b[0m     \u001b[38;5;28;01mif\u001b[39;00m mu_w \u001b[38;5;129;01min\u001b[39;00m value:\n",
      "File \u001b[1;32m~/math/sage/sage_tvars/tvars/class_PolyhedralDivisor.py:1146\u001b[0m, in \u001b[0;36mvert_mld\u001b[1;34m(self, y)\u001b[0m\n\u001b[0;32m   1143\u001b[0m old_points = []\n\u001b[0;32m   1144\u001b[0m res = {}\n\u001b[0;32m   1145\u001b[0m for k in range(1, self.tail.dim() + 2):\n\u001b[1;32m-> 1146\u001b[0m     # if k == N + 1:\n\u001b[0;32m   1147\u001b[0m     #     return ValueError(\"something went wrong, the loop went above the theoretical bound\")\n\u001b[0;32m   1148\u001b[0m     # the half-space to intersect C with is defined by the inequality <-u_tilde, x> <= k (equiv. <u_tilde, x> >= -k, and the format to enter this as a polyhedron is [-(-k), u_tilde])\n\u001b[0;32m   1149\u001b[0m     halfspace = Polyhedron(ieqs = [[k, *u_tilde]])\n\u001b[0;32m   1150\u001b[0m     P = C.intersection(halfspace)\n",
      "File \u001b[1;32m/usr/lib/python3.11/site-packages/sage/geometry/polyhedron/base2.py:510\u001b[0m, in \u001b[0;36mPolyhedron_base2.integral_points\u001b[1;34m(self, threshold)\u001b[0m\n\u001b[0;32m    506\u001b[0m \u001b[38;5;28;01mif\u001b[39;00m \u001b[38;5;129;01mnot\u001b[39;00m \u001b[38;5;28mself\u001b[39m\u001b[38;5;241m.\u001b[39mis_lattice_polytope() \u001b[38;5;129;01mor\u001b[39;00m \\\n\u001b[0;32m    507\u001b[0m         (\u001b[38;5;28mself\u001b[39m\u001b[38;5;241m.\u001b[39mis_simplex() \u001b[38;5;129;01mand\u001b[39;00m box_points \u001b[38;5;241m<\u001b[39m \u001b[38;5;241m1000\u001b[39m) \u001b[38;5;129;01mor\u001b[39;00m \\\n\u001b[0;32m    508\u001b[0m         box_points \u001b[38;5;241m<\u001b[39m threshold:\n\u001b[0;32m    509\u001b[0m     \u001b[38;5;28;01mfrom\u001b[39;00m \u001b[38;5;21;01msage\u001b[39;00m\u001b[38;5;21;01m.\u001b[39;00m\u001b[38;5;21;01mgeometry\u001b[39;00m\u001b[38;5;21;01m.\u001b[39;00m\u001b[38;5;21;01mintegral_points\u001b[39;00m \u001b[38;5;28;01mimport\u001b[39;00m rectangular_box_points\n\u001b[1;32m--> 510\u001b[0m     \u001b[38;5;28;01mreturn\u001b[39;00m rectangular_box_points(\u001b[38;5;28mlist\u001b[39m(box_min), \u001b[38;5;28mlist\u001b[39m(box_max), \u001b[38;5;28mself\u001b[39m)\n\u001b[0;32m    512\u001b[0m \u001b[38;5;66;03m# for more complicate polytopes, triangulate & use smith normal form\u001b[39;00m\n\u001b[0;32m    513\u001b[0m \u001b[38;5;28;01mfrom\u001b[39;00m \u001b[38;5;21;01msage\u001b[39;00m\u001b[38;5;21;01m.\u001b[39;00m\u001b[38;5;21;01mgeometry\u001b[39;00m\u001b[38;5;21;01m.\u001b[39;00m\u001b[38;5;21;01mintegral_points\u001b[39;00m \u001b[38;5;28;01mimport\u001b[39;00m simplex_points\n",
      "File \u001b[1;32m/usr/lib/python3.11/site-packages/sage/geometry/integral_points.pxi:349\u001b[0m, in \u001b[0;36msage.geometry.integral_points_integer_dense.rectangular_box_points (build/cythonized/sage/geometry/integral_points_integer_dense.c:10946)\u001b[1;34m()\u001b[0m\n\u001b[0;32m    347\u001b[0m # points. This saves the overhead of triangulating the polytope etc.\n\u001b[0;32m    348\u001b[0m \n\u001b[1;32m--> 349\u001b[0m cpdef rectangular_box_points(list box_min, list box_max,\n\u001b[0;32m    350\u001b[0m                              polyhedron=None, count_only=False,\n\u001b[0;32m    351\u001b[0m                              return_saturated=False) noexcept:\n",
      "File \u001b[1;32m/usr/lib/python3.11/site-packages/sage/geometry/integral_points.pxi:568\u001b[0m, in \u001b[0;36msage.geometry.integral_points_integer_dense.rectangular_box_points (build/cythonized/sage/geometry/integral_points_integer_dense.c:10253)\u001b[1;34m()\u001b[0m\n\u001b[0;32m    566\u001b[0m cdef VectorClass v = vector(ZZ, d)\n\u001b[0;32m    567\u001b[0m if not return_saturated:\n\u001b[1;32m--> 568\u001b[0m     for p in loop_over_rectangular_box_points(box_min, box_max, inequalities, d, count_only):\n\u001b[0;32m    569\u001b[0m         #  v = vector(ZZ, perm_action(orig_perm, p))   # too slow\n\u001b[0;32m    570\u001b[0m         for i in range(d):\n",
      "File \u001b[1;32m/usr/lib/python3.11/site-packages/sage/geometry/integral_points.pxi:631\u001b[0m, in \u001b[0;36msage.geometry.integral_points_integer_dense.loop_over_rectangular_box_points (build/cythonized/sage/geometry/integral_points_integer_dense.c:11237)\u001b[1;34m()\u001b[0m\n\u001b[0;32m    629\u001b[0m # Find the lower bound for the allowed region\n\u001b[0;32m    630\u001b[0m while i_min <= i_max:\n\u001b[1;32m--> 631\u001b[0m     if inequalities.are_satisfied(i_min):\n\u001b[0;32m    632\u001b[0m         break\n\u001b[0;32m    633\u001b[0m     i_min += 1\n",
      "File \u001b[1;32m/usr/lib/python3.11/site-packages/sage/geometry/integral_points.pxi:1367\u001b[0m, in \u001b[0;36msage.geometry.integral_points_integer_dense.InequalityCollection.are_satisfied (build/cythonized/sage/geometry/integral_points_integer_dense.c:18274)\u001b[1;34m()\u001b[0m\n\u001b[0;32m   1365\u001b[0m cdef int i\n\u001b[0;32m   1366\u001b[0m for i in range(len(self.ineqs_int)):\n\u001b[1;32m-> 1367\u001b[0m     sig_check()\n\u001b[0;32m   1368\u001b[0m     ineq = self.ineqs_int[i]\n\u001b[0;32m   1369\u001b[0m     if (<Inequality_int>ineq).is_not_satisfied(inner_loop_variable):\n",
      "\u001b[1;31mKeyboardInterrupt\u001b[0m: "
     ]
    }
   ],
   "source": [
    "[multiplicities(D, PS(0,1),PS(1,0)) for D in divs]"
   ]
  },
  {
   "cell_type": "code",
   "execution_count": null,
   "id": "e67a8c14-050e-498a-93e2-081e3573b2d8",
   "metadata": {},
   "outputs": [],
   "source": [
    "divs[0].tail.dim()"
   ]
  },
  {
   "cell_type": "code",
   "execution_count": 59,
   "id": "f623a8a8-2ca1-47fe-afac-12a3bad1731e",
   "metadata": {},
   "outputs": [
    {
     "data": {
      "text/plain": [
       "[]"
      ]
     },
     "execution_count": 59,
     "metadata": {},
     "output_type": "execute_result"
    }
   ],
   "source": [
    "l0 = []\n",
    "for D in divs:\n",
    "    C2 = D.degeneration(PS(1,0))\n",
    "    x = vector(QQ, sum(C2.rays()[0:3]))\n",
    "    x_n = (-1/x[2])*x\n",
    "    # seems always true as long as we choose one vertex in slice PS(1,1) to be zero\n",
    "    # but a sample size of 66 is a bit small\n",
    "    if not x_n[0:2] in D.coefficient(PS(0,1)).relative_interior():\n",
    "        l0.append(D)\n",
    "l0"
   ]
  },
  {
   "cell_type": "code",
   "execution_count": 54,
   "id": "c86b6739-6e50-4196-9bc7-6af42b16ad9f",
   "metadata": {},
   "outputs": [
    {
     "data": {
      "text/plain": [
       "[]"
      ]
     },
     "execution_count": 54,
     "metadata": {},
     "output_type": "execute_result"
    }
   ],
   "source": [
    "l0"
   ]
  },
  {
   "cell_type": "code",
   "execution_count": 58,
   "id": "6fab7552-d71f-4ae5-835b-d5f920be36af",
   "metadata": {},
   "outputs": [
    {
     "data": {
      "text/plain": [
       "True"
      ]
     },
     "execution_count": 58,
     "metadata": {},
     "output_type": "execute_result"
    }
   ],
   "source": [
    "C2 = D.degeneration(PS(1,0))\n",
    "x = vector(QQ, sum(C2.rays()[0:3]))\n",
    "x_n = (-1/x[2])*x\n",
    "x_n[0:2]\n",
    "x in C2.relative_interior()"
   ]
  },
  {
   "cell_type": "code",
   "execution_count": 24,
   "id": "0bd45bc9-67f0-467b-88dc-c1c718447f64",
   "metadata": {},
   "outputs": [
    {
     "data": {
      "text/plain": [
       "[1,\n",
       " 1,\n",
       " 1,\n",
       " 1,\n",
       " 1,\n",
       " 1,\n",
       " 1,\n",
       " 1,\n",
       " 1,\n",
       " 1,\n",
       " 1,\n",
       " 1,\n",
       " 1,\n",
       " 1,\n",
       " 1,\n",
       " 1,\n",
       " 1,\n",
       " 1,\n",
       " 1,\n",
       " 1,\n",
       " 1,\n",
       " 1,\n",
       " 1,\n",
       " 1,\n",
       " 1,\n",
       " 1,\n",
       " 1,\n",
       " 1,\n",
       " 1,\n",
       " 1,\n",
       " 1,\n",
       " 1,\n",
       " 1,\n",
       " 1,\n",
       " 1,\n",
       " 1,\n",
       " 1,\n",
       " 1,\n",
       " 1,\n",
       " 1,\n",
       " 1,\n",
       " 1,\n",
       " 1,\n",
       " 1,\n",
       " 1,\n",
       " 1,\n",
       " 1,\n",
       " 1,\n",
       " 1,\n",
       " 1,\n",
       " 1,\n",
       " 1,\n",
       " 1,\n",
       " 1,\n",
       " 1,\n",
       " 1,\n",
       " 1,\n",
       " 1,\n",
       " 1,\n",
       " 1,\n",
       " 1,\n",
       " 1,\n",
       " 1,\n",
       " 1,\n",
       " 1,\n",
       " 1,\n",
       " 1,\n",
       " 1,\n",
       " 1,\n",
       " 1,\n",
       " 1,\n",
       " 1,\n",
       " 1,\n",
       " 1,\n",
       " 1,\n",
       " 1]"
      ]
     },
     "execution_count": 24,
     "metadata": {},
     "output_type": "execute_result"
    }
   ],
   "source": [
    "z = PS(1,2)\n",
    "[D.mld(z) for D in divs2]"
   ]
  },
  {
   "cell_type": "code",
   "execution_count": 14,
   "id": "2d7f9bf1-0b5e-4cd5-a3f7-9ca208043ccb",
   "metadata": {},
   "outputs": [
    {
     "data": {
      "text/plain": [
       "[[True, (0 : 1)],\n",
       " [True, (0 : 1)],\n",
       " [True, (0 : 1)],\n",
       " [True, (0 : 1)],\n",
       " [True, (0 : 1)],\n",
       " [True, (0 : 1)],\n",
       " [True, (0 : 1)],\n",
       " [True, (0 : 1)],\n",
       " [True, (0 : 1)],\n",
       " [True, (0 : 1)],\n",
       " [True, (0 : 1)],\n",
       " [True, (0 : 1)],\n",
       " [True, (0 : 1)],\n",
       " [True, (0 : 1)],\n",
       " [True, (0 : 1)],\n",
       " [True, (0 : 1)],\n",
       " [True, (0 : 1)],\n",
       " [True, (0 : 1)],\n",
       " [True, (0 : 1)],\n",
       " [True, (0 : 1)],\n",
       " [True, (0 : 1)],\n",
       " [True, (0 : 1)],\n",
       " [True, (0 : 1)],\n",
       " [True, (0 : 1)],\n",
       " [True, (0 : 1)],\n",
       " [True, (0 : 1)],\n",
       " [True, (0 : 1)],\n",
       " [True, (0 : 1)],\n",
       " [True, (0 : 1)],\n",
       " [True, (0 : 1)],\n",
       " [True, (0 : 1)],\n",
       " [True, (0 : 1)],\n",
       " [True, (0 : 1)],\n",
       " [True, (0 : 1)],\n",
       " [True, (0 : 1)],\n",
       " [True, (0 : 1)],\n",
       " [True, (0 : 1)],\n",
       " [True, (0 : 1)],\n",
       " [True, (0 : 1)],\n",
       " [True, (0 : 1)],\n",
       " [True, (0 : 1)],\n",
       " [True, (0 : 1)],\n",
       " [True, (0 : 1)],\n",
       " [True, (0 : 1)],\n",
       " [True, (0 : 1)],\n",
       " [True, (0 : 1)],\n",
       " [True, (0 : 1)],\n",
       " [True, (0 : 1)],\n",
       " [True, (0 : 1)],\n",
       " [True, (0 : 1)],\n",
       " [True, (0 : 1)],\n",
       " [True, (0 : 1)],\n",
       " [True, (0 : 1)],\n",
       " [True, (0 : 1)],\n",
       " [True, (0 : 1)],\n",
       " [True, (0 : 1)],\n",
       " [True, (0 : 1)],\n",
       " [True, (0 : 1)],\n",
       " [True, (0 : 1)],\n",
       " [True, (0 : 1)],\n",
       " [True, (0 : 1)],\n",
       " [True, (0 : 1)],\n",
       " [True, (0 : 1)],\n",
       " [True, (0 : 1)],\n",
       " [True, (0 : 1)],\n",
       " [True, (0 : 1)],\n",
       " [True, (0 : 1)],\n",
       " [True, (0 : 1)],\n",
       " [True, (0 : 1)],\n",
       " [True, (0 : 1)],\n",
       " [True, (0 : 1)],\n",
       " [True, (0 : 1)],\n",
       " [True, (0 : 1)],\n",
       " [True, (0 : 1)],\n",
       " [True, (0 : 1)],\n",
       " [True, (0 : 1)]]"
      ]
     },
     "execution_count": 14,
     "metadata": {},
     "output_type": "execute_result"
    }
   ],
   "source": [
    "[multiplicities(D,PS(0,1),PS(1,0)) for D in divs2]"
   ]
  },
  {
   "cell_type": "code",
   "execution_count": 20,
   "id": "8d4d064c-80f3-4561-a641-3aa428afd092",
   "metadata": {},
   "outputs": [
    {
     "name": "stderr",
     "output_type": "stream",
     "text": [
      "capi_return is NULL\n",
      "Call-back cb_calcfc_in__cobyla__user__routines failed.\n"
     ]
    },
    {
     "data": {
      "text/plain": [
       "[True,\n",
       " True,\n",
       " True,\n",
       " True,\n",
       " True,\n",
       " True,\n",
       " True,\n",
       " True,\n",
       " True,\n",
       " True,\n",
       " True,\n",
       " True,\n",
       " True,\n",
       " True,\n",
       " True,\n",
       " True,\n",
       " True,\n",
       " True,\n",
       " True,\n",
       " True,\n",
       " True,\n",
       " True,\n",
       " True,\n",
       " True,\n",
       " True,\n",
       " True,\n",
       " True,\n",
       " True,\n",
       " True,\n",
       " True,\n",
       " True,\n",
       " True,\n",
       " True,\n",
       " True,\n",
       " True,\n",
       " True,\n",
       " True,\n",
       " True,\n",
       " True,\n",
       " True,\n",
       " True,\n",
       " True,\n",
       " True,\n",
       " True,\n",
       " True,\n",
       " True,\n",
       " True,\n",
       " True,\n",
       " True,\n",
       " True,\n",
       " True,\n",
       " True,\n",
       " True,\n",
       " True,\n",
       " True,\n",
       " True,\n",
       " True,\n",
       " True,\n",
       " True,\n",
       " True,\n",
       " True,\n",
       " True,\n",
       " True,\n",
       " True,\n",
       " True,\n",
       " True,\n",
       " True,\n",
       " True,\n",
       " True,\n",
       " True,\n",
       " True,\n",
       " True,\n",
       " 0,\n",
       " True,\n",
       " True,\n",
       " True]"
      ]
     },
     "execution_count": 20,
     "metadata": {},
     "output_type": "execute_result"
    }
   ],
   "source": [
    "[mld_normalized_volume(D) for D in divs2]"
   ]
  },
  {
   "cell_type": "code",
   "execution_count": 18,
   "id": "785e8ba7-a45e-44d1-8972-52c48f4e0551",
   "metadata": {},
   "outputs": [
    {
     "data": {
      "text/plain": [
       "False"
      ]
     },
     "execution_count": 18,
     "metadata": {},
     "output_type": "execute_result"
    }
   ],
   "source": [
    "556*(501/509) > 557"
   ]
  },
  {
   "cell_type": "code",
   "execution_count": null,
   "id": "0481483d-4a41-4c0c-a6c1-b3bfa102555e",
   "metadata": {},
   "outputs": [],
   "source": []
  }
 ],
 "metadata": {
  "kernelspec": {
   "display_name": "SageMath 10.2",
   "language": "sage",
   "name": "sagemath"
  },
  "language_info": {
   "codemirror_mode": {
    "name": "ipython",
    "version": 3
   },
   "file_extension": ".py",
   "mimetype": "text/x-python",
   "name": "python",
   "nbconvert_exporter": "python",
   "pygments_lexer": "ipython3",
   "version": "3.11.8"
  }
 },
 "nbformat": 4,
 "nbformat_minor": 5
}
