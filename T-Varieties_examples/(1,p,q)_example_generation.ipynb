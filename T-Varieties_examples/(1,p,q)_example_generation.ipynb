{
 "cells": [
  {
   "cell_type": "code",
   "execution_count": 1,
   "id": "e8782cb5-c43d-470a-8390-275635505a44",
   "metadata": {},
   "outputs": [],
   "source": [
    "import sys\n",
    "sys.path.insert(0, '/home/leandro/math/sage/sage_tvars')\n",
    "from tvars import *\n",
    "import random\n",
    "PS=ProjectiveSpace(1,QQ)\n",
    "BR = QQ;"
   ]
  },
  {
   "cell_type": "code",
   "execution_count": 2,
   "id": "8afc717d-9760-4de0-88a0-117206084aa9",
   "metadata": {},
   "outputs": [],
   "source": [
    "def p_divisor_gen(p, bound):\n",
    "    # generate a p-divisor of type (1,p,q) and dimension 3 \n",
    "    #bound = 5\n",
    "    n=2\n",
    "    q = p+1;\n",
    "    v0= vector([random.choice(range(-bound, bound)), random.choice(range(-bound, bound))])\n",
    "    v_inf= vector([random.choice(range(-bound, bound)), random.choice(range(-bound, bound))])\n",
    "    while v0[0] % p == 0 or v0[1] % p == 0:\n",
    "        v0= vector([random.choice(range(-bound, bound)), random.choice(range(-bound, bound))])\n",
    "    v0 = (1/p)*v0\n",
    "    while (v_inf[0] % q == 0) or (v_inf[1] % q == 0):\n",
    "         v_inf= vector([random.choice(range(-bound, bound)), random.choice(range(-bound, bound))])\n",
    "    v_inf = (1/q)*v_inf\n",
    "    v1= vector([random.choice(range(-bound, bound)), random.choice(range(-bound, bound))])\n",
    "    v2 = vector([0,0])\n",
    "    #v2= vector([random.choice(range(-bound, bound)), random.choice(range(-bound, bound))])\n",
    "    sigma = Cone([v0 + v1 + v_inf, v0 + v2 + v_inf]).rays()\n",
    "    # the p-divisor\n",
    "    dict = {PS(0,1) : Polyhedron(vertices=[v0],rays=sigma, base_ring=BR),\n",
    "           PS(1,0) : Polyhedron(vertices=[v_inf],rays=sigma, base_ring=BR),\n",
    "           PS(1,1) : Polyhedron(vertices =[v1,v2],rays=sigma, base_ring=BR)\n",
    "           }\n",
    "    D = PolyhedralDivisor(dict);\n",
    "    if not D.is_proper():\n",
    "        #print(\"not proper\")\n",
    "        raise NotImplementedError(f\"The variety is not Q-Gorenstein.\")\n",
    "    if not D.is_Q_Gorenstein():\n",
    "        #print(\"Not Q-G\")\n",
    "        raise NotImplementedError(f\"The variety is not Q-Gorenstein.\")\n",
    "    return D"
   ]
  },
  {
   "cell_type": "code",
   "execution_count": 3,
   "id": "0a81a21c-58cb-4b25-ae2a-5f1d9a1115ea",
   "metadata": {},
   "outputs": [],
   "source": [
    "def p_divisor_gen3(p, bound):\n",
    "    # generate a p-divisor of type (1,p,q) and dimension 4\n",
    "    #bound = 5\n",
    "    n=3\n",
    "    q = p+1;\n",
    "    v0= vector([random.choice(range(-bound, bound)), random.choice(range(-bound, bound)), random.choice(range(-bound, bound))])\n",
    "    v_inf= vector([random.choice(range(-bound, bound)), random.choice(range(-bound, bound)), random.choice(range(-bound, bound))])\n",
    "    while v0[0] % p == 0 or v0[1] % p == 0 or v0[2] % p == 0:\n",
    "        v0= vector([random.choice(range(-bound, bound)), random.choice(range(-bound, bound)), random.choice(range(-bound, bound))])\n",
    "    v0 = (1/p)*v0\n",
    "    while (v_inf[0] % q == 0) or (v_inf[1] % q == 0) or (v_inf[2] % q == 0):\n",
    "         v_inf= vector([random.choice(range(-bound, bound)), random.choice(range(-bound, bound)), random.choice(range(-bound, bound))])\n",
    "    v_inf = (1/q)*v_inf\n",
    "    v1= vector([random.choice(range(-bound, bound)), random.choice(range(-bound, bound)), random.choice(range(-bound, bound))])\n",
    "    v2 = vector([0,0,0])\n",
    "    v3= vector([random.choice(range(-bound, bound)), random.choice(range(-bound, bound)), random.choice(range(-bound, bound))])\n",
    "    v4 = vector([0,0,0])\n",
    "    sigma = Cone([v0 + v1 + v3 + v_inf, v0 + v1 + v4 + v_inf, v0 + v2 + v3 + v_inf, v0 + v2 + v4 + v_inf]).rays()\n",
    "    # the p-divisor\n",
    "    dict = {PS(0,1) : Polyhedron(vertices=[v0],rays=sigma, base_ring=BR),\n",
    "           PS(1,0) : Polyhedron(vertices=[v_inf],rays=sigma, base_ring=BR),\n",
    "           PS(1,1) : Polyhedron(vertices =[v1,v2],rays=sigma, base_ring=BR),\n",
    "           PS(1,2) : Polyhedron(vertices =[v3,v4],rays=sigma, base_ring=BR)\n",
    "           }\n",
    "    D = PolyhedralDivisor(dict);\n",
    "    if not D.is_proper():\n",
    "        print(\"not proper\")\n",
    "        raise NotImplementedError(f\"The variety is not Q-Gorenstein.\")\n",
    "    if not D.is_Q_Gorenstein():\n",
    "        print(\"Not Q-G\")\n",
    "        raise NotImplementedError(f\"The variety is not Q-Gorenstein.\")\n",
    "    return D"
   ]
  },
  {
   "cell_type": "code",
   "execution_count": 15,
   "id": "54d8f096-54cd-4ca4-b32f-458eb79e2482",
   "metadata": {},
   "outputs": [],
   "source": [
    "%%script false --no-raise-error\n",
    "n=2\n",
    "v0= vector([(1/p), 0])\n",
    "v_inf= vector([(1/q)*(-1), 0])\n",
    "v1= vector([1,0])\n",
    "v2 = vector([1,0])\n",
    "sigma = Cone([[1,1],[1,0]]).rays()\n",
    "dict = {PS(0,1) : Polyhedron(vertices=[v0],rays=sigma, base_ring=BR),\n",
    "       PS(1,0) : Polyhedron(vertices=[v_inf],rays=sigma, base_ring=BR),\n",
    "       PS(1,1) : Polyhedron(vertices =[v1],rays=sigma, base_ring=BR),\n",
    "       PS(2,1) : Polyhedron(vertices =[v2],rays=sigma, base_ring=BR)\n",
    "       }\n",
    "D3 = PolyhedralDivisor(dict);\n",
    "if not D3.is_proper():\n",
    "    raise NotImplementedError(f\"The variety is not Q-Gorenstein.\")\n",
    "if not D3.is_Q_Gorenstein():\n",
    "    raise NotImplementedError(f\"The variety is not Q-Gorenstein.\")\n",
    "D3"
   ]
  },
  {
   "cell_type": "code",
   "execution_count": 18,
   "id": "58bf1294-f889-4f5b-baa8-e220be21c97c",
   "metadata": {},
   "outputs": [],
   "source": [
    "def divisors(n, k):\n",
    "    #dim(X) = n+1\n",
    "    divs = []\n",
    "    for i in range(k):\n",
    "        p = 3\n",
    "        #p = random.choice(range(15,30))\n",
    "        q = p+1\n",
    "        #q = random.choice(range(p+1, 2*p))\n",
    "        try:\n",
    "            if n == 3:\n",
    "                D = p_divisor_gen3(p,25)\n",
    "            else:\n",
    "                D = p_divisor_gen(p, 25)\n",
    "        except IndexError as ie:\n",
    "            print(\"index trouble\")\n",
    "            continue\n",
    "        # the variety should always be Q-Gorenstein but apparently sometimes isn't \n",
    "        except NotImplementedError as e:\n",
    "            print(\"Not Q-G.\")\n",
    "            continue\n",
    "        if D.multiplicity_of_slice(PS(0,1)) != p:\n",
    "            continue\n",
    "        if D.multiplicity_of_slice(PS(1,0)) != q:\n",
    "            continue\n",
    "        divs.append(D)\n",
    "    return divs"
   ]
  },
  {
   "cell_type": "code",
   "execution_count": 19,
   "id": "f40598a7-da0e-4cb6-a1d3-aca46553d1b5",
   "metadata": {},
   "outputs": [],
   "source": [
    "def multiplicities(D, y1,y2):\n",
    "    n = D.tail.dim() + 1\n",
    "    C1 = D.degeneration(y1)\n",
    "    w = vector(QQ, sum(C1.rays()[0:n]))\n",
    "    w_n = (-1/w[n-1])*w\n",
    "    mu_w = lcm(w_i.denominator() for w_i in w_n if w_i != 0)\n",
    "    l1 = D.vert_mld(y2)\n",
    "    for key, value in l1.items():\n",
    "        if mu_w in value:\n",
    "            return [True, y1]\n",
    "    C2 = D.degeneration(y2)\n",
    "    x = vector(QQ, sum(C2.rays()[0:n]))\n",
    "    x_n = (-1/x[n-1])*x\n",
    "    mu_x = lcm(x_i.denominator() for x_i in x_n if x_i != 0)\n",
    "    l2 = D.vert_mld(y1)\n",
    "    for key, value in l2.items():\n",
    "        if mu_x in value:\n",
    "            return [True,y2]\n",
    "    return False"
   ]
  },
  {
   "cell_type": "code",
   "execution_count": 20,
   "id": "70abc69d-ec0d-4d6d-955c-3efb1f64106e",
   "metadata": {},
   "outputs": [],
   "source": [
    "def ray_sum(D, y1, y2, ray_list= None):\n",
    "    # TODO: look for rays that make sense to sum up\n",
    "    n = D.tail.dim() + 1\n",
    "    C1 = D.degeneration(y2)\n",
    "    if ray_list == None:\n",
    "        ray_list = [int(i) for i in range(n)]\n",
    "        #print(ray_list)\n",
    "    w = vector(QQ, sum(C1.rays()[i] for i in ray_list))\n",
    "    if w[n-1] >= 0:\n",
    "        return w\n",
    "    else:\n",
    "        w_n = (-1/w[n-1])*w\n",
    "        #w_n = w_n*w[0:n-1]\n",
    "        mu_w = lcm(w_i.denominator() for w_i in w_n if w_i != 0)\n",
    "        return [w_n, D.coefficient(y1).relative_interior_contains(w_n)]"
   ]
  },
  {
   "cell_type": "code",
   "execution_count": 21,
   "id": "e051e269-3f2c-4eda-bae5-5f408b7e712a",
   "metadata": {},
   "outputs": [],
   "source": [
    "def log_disc_of_ray_sum(D, y1, y2, ray_list):\n",
    "    n = D.tail.dim() + 1\n",
    "    C1 = D.degeneration(y2)\n",
    "    #w = vector(QQ, sum(C1.rays()[0:n-1]) + vector(C1.rays()[n]))\n",
    "    #w = vector(QQ, sum(C1.rays()[0:n]))\n",
    "    w = vector(QQ, sum(C1.rays()[i] for i in ray_list))\n",
    "    w_n = (-1/w[n-1])*w[0:n-1]\n",
    "    mu_w = lcm(w_i.denominator() for w_i in w_n if w_i != 0)\n",
    "    if D.coefficient(y1).relative_interior_contains(w_n):\n",
    "        return D.vert_mld_of_vertex(y1, w_n)\n",
    "    else:\n",
    "        return -10\n",
    "    #return D.coefficient(y1).relative_interior_contains(w_n)\n",
    "    #if D.coefficient(y1).relative_interior_contains(w_n - vector(D.coefficient(PS(1,1)).vertices()[0])- vector(D.coefficient(PS(2,1)).vertices()[0])):\n",
    "    #if D.coefficient(y1).relative_interior_contains(w_n):\n",
    "        #return D.vert_mld_of_vertex(y1,w_n)\n",
    "    #else:\n",
    "        #return False"
   ]
  },
  {
   "cell_type": "code",
   "execution_count": 22,
   "id": "422bf292-b817-48d3-ab08-fb1a2b360e12",
   "metadata": {},
   "outputs": [],
   "source": [
    "def mld_normalized_volume(D):\n",
    "    n = dim(D.tail) + 1\n",
    "    mld = D.mld(PS(1,2))\n",
    "    try:\n",
    "        # don't quite know why this goes wrong sometimes but we catch it to avoid trouble\n",
    "        nvol = D.nvol_of_val(D.minimize_nvol())\n",
    "    except ValueError as ve:\n",
    "        return 0\n",
    "    return mld* n^(n-1) >= nvol"
   ]
  },
  {
   "cell_type": "code",
   "execution_count": 23,
   "id": "19ef7ac4-b773-49d6-bbd0-4303a5cce960",
   "metadata": {},
   "outputs": [
    {
     "data": {
      "text/plain": [
       "34"
      ]
     },
     "execution_count": 23,
     "metadata": {},
     "output_type": "execute_result"
    }
   ],
   "source": [
    "divs2 = divisors(3,35)\n",
    "len(divs2)"
   ]
  },
  {
   "cell_type": "code",
   "execution_count": 27,
   "id": "0bd78bce-e8b0-4584-82fd-50c244a31d9f",
   "metadata": {},
   "outputs": [
    {
     "name": "stdout",
     "output_type": "stream",
     "text": [
      "['vector not contained in relative interior']\n",
      "['vector not contained in relative interior']\n",
      "['vector not contained in relative interior']\n",
      "['vector not contained in relative interior']\n",
      "['vector not contained in relative interior']\n",
      "['vector not contained in relative interior']\n",
      "['vector not contained in relative interior']\n",
      "['vector not contained in relative interior']\n",
      "['vector not contained in relative interior']\n",
      "['vector not contained in relative interior']\n",
      "['vector not contained in relative interior']\n",
      "['vector not contained in relative interior']\n",
      "['vector not contained in relative interior']\n",
      "['vector not contained in relative interior']\n",
      "['vector not contained in relative interior']\n",
      "['vector not contained in relative interior']\n",
      "['vector not contained in relative interior']\n",
      "['vector not contained in relative interior']\n",
      "['vector not contained in relative interior']\n",
      "['vector not contained in relative interior']\n",
      "['vector not contained in relative interior']\n",
      "['vector not contained in relative interior']\n",
      "['vector not contained in relative interior']\n",
      "['vector not contained in relative interior']\n",
      "['vector not contained in relative interior']\n",
      "['vector not contained in relative interior']\n",
      "['vector not contained in relative interior']\n",
      "['vector not contained in relative interior']\n",
      "['vector not contained in relative interior']\n",
      "['vector not contained in relative interior']\n",
      "['vector not contained in relative interior']\n",
      "['vector not contained in relative interior']\n",
      "['vector not contained in relative interior']\n",
      "['vector not contained in relative interior']\n"
     ]
    }
   ],
   "source": [
    "for D in divs2:\n",
    "    print(D.vert_mld_of_vertex(PS(0,1),[ray_sum(D, PS(1,0),PS(0,1))[0]]))"
   ]
  },
  {
   "cell_type": "code",
   "execution_count": 153,
   "id": "db9a877e-35c4-4b43-8663-17af13140635",
   "metadata": {},
   "outputs": [
    {
     "data": {
      "text/plain": [
       "[]"
      ]
     },
     "execution_count": 153,
     "metadata": {},
     "output_type": "execute_result"
    }
   ],
   "source": [
    "l = [int(i) for i in range(3)]\n",
    "res0 = [D.coefficient(PS(0,1)).relative_interior_contains(ray_sum(D, PS(0,1),PS(1,0),l)).bit_count() for D in divs2]\n",
    "[i for i in res if i == 0]"
   ]
  },
  {
   "cell_type": "code",
   "execution_count": 154,
   "id": "94f190d7-3349-4489-a197-65accbdfde2e",
   "metadata": {},
   "outputs": [
    {
     "data": {
      "text/plain": [
       "[0]"
      ]
     },
     "execution_count": 154,
     "metadata": {},
     "output_type": "execute_result"
    }
   ],
   "source": [
    "l = [int(i) for i in range(3)]\n",
    "res_inf = [D.coefficient(PS(0,1)).relative_interior_contains(ray_sum(D,PS(1,0), PS(0,1),l)).bit_count() for D in divs2]\n",
    "#[i for i in res_inf if i == 0]\n",
    "res_inf"
   ]
  },
  {
   "cell_type": "code",
   "execution_count": 148,
   "id": "5527eaaf-7081-4c71-bb45-e835e157a28d",
   "metadata": {},
   "outputs": [
    {
     "data": {
      "text/plain": [
       "[(A vertex at (3/16, -3/4),),\n",
       " (A vertex at (-16/17, -12/17),),\n",
       " (A vertex at (-15, 7), A vertex at (0, 0)),\n",
       " N(-4285, 1508),\n",
       " N( -205, -396)\n",
       " in 2-d lattice N]"
      ]
     },
     "execution_count": 148,
     "metadata": {},
     "output_type": "execute_result"
    }
   ],
   "source": [
    "[divs2[0].coefficient(p).vertices() for p in divs2[0].supp()] + [divs2[0].tail.rays()]"
   ]
  },
  {
   "cell_type": "code",
   "execution_count": null,
   "id": "8de38401-8f4d-4f00-b075-deb10c6e49d8",
   "metadata": {},
   "outputs": [],
   "source": []
  },
  {
   "cell_type": "code",
   "execution_count": null,
   "id": "290bea61-ac34-4b39-9ea0-ae93ce27a1d5",
   "metadata": {},
   "outputs": [],
   "source": []
  },
  {
   "cell_type": "code",
   "execution_count": 104,
   "id": "e49028ee-22bb-4e88-9151-660ceac676ab",
   "metadata": {},
   "outputs": [
    {
     "data": {
      "text/plain": [
       "5"
      ]
     },
     "execution_count": 104,
     "metadata": {},
     "output_type": "execute_result"
    }
   ],
   "source": []
  },
  {
   "cell_type": "code",
   "execution_count": 19,
   "id": "b8d16d0a-ef2b-442c-afa7-10c94434ff81",
   "metadata": {},
   "outputs": [
    {
     "data": {
      "text/plain": [
       "0"
      ]
     },
     "execution_count": 19,
     "metadata": {},
     "output_type": "execute_result"
    }
   ],
   "source": [
    "divs = divisors(3,5)\n",
    "len(divs)"
   ]
  },
  {
   "cell_type": "code",
   "execution_count": 105,
   "id": "82625daf-5715-4846-a0b7-46b595e5329d",
   "metadata": {},
   "outputs": [
    {
     "data": {
      "text/plain": [
       "[1, 1, 1, 1, 1]"
      ]
     },
     "execution_count": 105,
     "metadata": {},
     "output_type": "execute_result"
    }
   ],
   "source": [
    "# generate a bunch of 4-dimensional examples and test things, e.g. whether there is a hope of \n",
    "# ending up with an element of int(Delta_0) by summing up some rays\n",
    "\n",
    "l0 = [int(d) for d in range(1,5)] #skip 0\n",
    "l1 = [int(d) for d in range(1)] + [int(d) for d in range(2,5)] #skip 1\n",
    "l2 = [int(d) for d in range(2)] + [int(d) for d in range(3,5)] #skip 2\n",
    "l3 = [int(d) for d in range(3)] + [int(d) for d in range(4,5)] #skip 3\n",
    "l4 = [int(d) for d in range(4)] #skip 4\n",
    "\n",
    "R = []\n",
    "R.append([D.coefficient(PS(0,1)).relative_interior_contains(ray_sum(D, PS(0,1),PS(1,0), l0)).bit_count() for D in divs[:]])\n",
    "R.append([D.coefficient(PS(0,1)).relative_interior_contains(ray_sum(D, PS(0,1),PS(1,0), l1)).bit_count() for D in divs[:]])\n",
    "R.append([D.coefficient(PS(0,1)).relative_interior_contains(ray_sum(D, PS(0,1),PS(1,0), l2)).bit_count() for D in divs[:]])\n",
    "R.append([D.coefficient(PS(0,1)).relative_interior_contains(ray_sum(D, PS(0,1),PS(1,0), l3)).bit_count() for D in divs[:]])\n",
    "R.append([D.coefficient(PS(0,1)).relative_interior_contains(ray_sum(D, PS(0,1),PS(1,0), l4)).bit_count() for D in divs[:]])\n",
    "\n",
    "# we see that for some of these p_divisors, there is in these exampes always configuration \n",
    "# of the form \"sum of 4 rays\" that ends up inside int(Delta_0)\n",
    "[max(R[0][i],R[1][i], R[2][i],R[3][i], R[4][i]) for i in range(len(R[0]))]"
   ]
  },
  {
   "cell_type": "code",
   "execution_count": 113,
   "id": "11f26c84-781b-401d-a529-fed99271b4db",
   "metadata": {},
   "outputs": [
    {
     "data": {
      "text/plain": [
       "[[0, 0, 1, 1, 0],\n",
       " [0, 1, 0, 0, 0],\n",
       " [1, 0, 0, 0, 0],\n",
       " [0, 0, 0, 0, 0],\n",
       " [0, 0, 0, 0, 1]]"
      ]
     },
     "execution_count": 113,
     "metadata": {},
     "output_type": "execute_result"
    }
   ],
   "source": [
    "[R[i] for i in range((len(R)))]"
   ]
  },
  {
   "cell_type": "code",
   "execution_count": 116,
   "id": "55095c62-08f0-4a23-8ee7-898ea77d4d9d",
   "metadata": {},
   "outputs": [
    {
     "data": {
      "text/plain": [
       "4"
      ]
     },
     "execution_count": 116,
     "metadata": {},
     "output_type": "execute_result"
    }
   ],
   "source": [
    "log_disc_of_ray_sum(divs[0], PS(0,1), PS(1,0), l2)"
   ]
  },
  {
   "cell_type": "code",
   "execution_count": 117,
   "id": "43d54450-9a2f-417a-9c9f-adf77a5744d7",
   "metadata": {},
   "outputs": [
    {
     "data": {
      "text/plain": [
       "4"
      ]
     },
     "execution_count": 117,
     "metadata": {},
     "output_type": "execute_result"
    }
   ],
   "source": [
    "log_disc_of_ray_sum(divs[1], PS(0,1), PS(1,0), l1)"
   ]
  },
  {
   "cell_type": "code",
   "execution_count": 118,
   "id": "de64b5f1-277b-4638-b79f-dba66f7a6c0c",
   "metadata": {},
   "outputs": [
    {
     "data": {
      "text/plain": [
       "4"
      ]
     },
     "execution_count": 118,
     "metadata": {},
     "output_type": "execute_result"
    }
   ],
   "source": [
    "log_disc_of_ray_sum(divs[2], PS(0,1), PS(1,0), l0)"
   ]
  },
  {
   "cell_type": "code",
   "execution_count": 119,
   "id": "8164775e-d95a-46ad-90ac-651f9f66f022",
   "metadata": {},
   "outputs": [
    {
     "data": {
      "text/plain": [
       "4"
      ]
     },
     "execution_count": 119,
     "metadata": {},
     "output_type": "execute_result"
    }
   ],
   "source": [
    "log_disc_of_ray_sum(divs[3], PS(0,1), PS(1,0), l0)"
   ]
  },
  {
   "cell_type": "code",
   "execution_count": 120,
   "id": "521938a3-5f2c-4b75-9ccd-00b50c3710b9",
   "metadata": {},
   "outputs": [
    {
     "data": {
      "text/plain": [
       "4"
      ]
     },
     "execution_count": 120,
     "metadata": {},
     "output_type": "execute_result"
    }
   ],
   "source": [
    "log_disc_of_ray_sum(divs[4], PS(0,1), PS(1,0), l4)"
   ]
  },
  {
   "cell_type": "code",
   "execution_count": 106,
   "id": "f6d4b03e-c259-4fa8-859e-d9c5c25bc472",
   "metadata": {},
   "outputs": [
    {
     "data": {
      "text/plain": [
       "[N( 68,  50, -71, -3),\n",
       " N(-19, -25, -38, -3),\n",
       " N( 50,  32, -86, -3),\n",
       " N( -1,  -7, -23, -3),\n",
       " N(  1,   5,  18,  4)\n",
       " in 4-d lattice N,\n",
       " N(-9,  -3, -21,  4),\n",
       " N(95, -79,  20, -3),\n",
       " N( 8,  -1,   8, -3),\n",
       " N(26, -31, -31, -3),\n",
       " N(77, -49,  59, -3)\n",
       " in 4-d lattice N,\n",
       " N( 95,  61, -94, -3),\n",
       " N(-25,  15,  17,  4),\n",
       " N(-13, -23,  -7, -3),\n",
       " N( 38,  34, -67, -3),\n",
       " N( 44,   4, -34, -3)\n",
       " in 4-d lattice N,\n",
       " N( 79, 109, -82, -3),\n",
       " N(-17,  19,  -7, -3),\n",
       " N(-13, -18,  11,  4),\n",
       " N( 25,  46, -73, -3),\n",
       " N( 37,  82, -16, -3)\n",
       " in 4-d lattice N,\n",
       " N( 62, 62,  4, -3),\n",
       " N(-16, 23, 82, -3),\n",
       " N(-15, 19, -6,  4),\n",
       " N( 17,  2, 13, -3),\n",
       " N( 29, 83, 73, -3)\n",
       " in 4-d lattice N]"
      ]
     },
     "execution_count": 106,
     "metadata": {},
     "output_type": "execute_result"
    }
   ],
   "source": [
    "[D.degeneration(PS(1,0)).rays() for D in divs]"
   ]
  },
  {
   "cell_type": "code",
   "execution_count": 40,
   "id": "f030c18a-35f8-462a-843b-9ac82b8d4116",
   "metadata": {},
   "outputs": [
    {
     "data": {
      "text/plain": [
       "(A vertex at (-8, -21, -8), A vertex at (0, 0, 0))"
      ]
     },
     "execution_count": 40,
     "metadata": {},
     "output_type": "execute_result"
    }
   ],
   "source": [
    "divs[0].coefficient(PS(1,1)).vertices()"
   ]
  },
  {
   "cell_type": "code",
   "execution_count": null,
   "id": "e51f85cf-f4d3-4174-88dc-606244727d48",
   "metadata": {},
   "outputs": [],
   "source": [
    "R0 = []\n",
    "R0.append([D.coefficient(PS(0,1)).relative_interior_contains(ray_sum(D, PS(0,1),PS(1,0), l0)).bit_count() for D in divs[:]])\n",
    "R0.append([D.coefficient(PS(0,1)).relative_interior_contains(ray_sum(D, PS(0,1),PS(1,0), l0) - vector(D.coefficient(PS(1,2)).vertices()[1])).bit_count() for D in divs[:]])\n",
    "R0.append([D.coefficient(PS(0,1)).relative_interior_contains(ray_sum(D, PS(0,1),PS(1,0), l0) - vector(D.coefficient(PS(1,1)).vertices()[0])).bit_count() for D in divs[:]])\n",
    "R0.append([D.coefficient(PS(0,1)).relative_interior_contains(ray_sum(D, PS(0,1),PS(1,0), l0) - vector(D.coefficient(PS(1,2)).vertices()[1]) - vector(D.coefficient(PS(1,1)).vertices()[0])).bit_count() for D in divs[:]])\n",
    "R1 = []\n",
    "R1.append([D.coefficient(PS(0,1)).relative_interior_contains(ray_sum(D, PS(0,1),PS(1,0), l1)).bit_count() for D in divs[:]])\n",
    "R1.append([D.coefficient(PS(0,1)).relative_interior_contains(ray_sum(D, PS(0,1),PS(1,0), l1) - vector(D.coefficient(PS(1,2)).vertices()[1])).bit_count() for D in divs[:]])\n",
    "R1.append([D.coefficient(PS(0,1)).relative_interior_contains(ray_sum(D, PS(0,1),PS(1,0), l1) - vector(D.coefficient(PS(1,1)).vertices()[0])).bit_count() for D in divs[:]])\n",
    "R1.append([D.coefficient(PS(0,1)).relative_interior_contains(ray_sum(D, PS(0,1),PS(1,0), l1) - vector(D.coefficient(PS(1,2)).vertices()[1]) - vector(D.coefficient(PS(1,1)).vertices()[0])).bit_count() for D in divs[:]])\n",
    "R2 = []\n",
    "R2.append([D.coefficient(PS(0,1)).relative_interior_contains(ray_sum(D, PS(0,1),PS(1,0), l2)).bit_count() for D in divs[:]])\n",
    "R2.append([D.coefficient(PS(0,1)).relative_interior_contains(ray_sum(D, PS(0,1),PS(1,0), l2) - vector(D.coefficient(PS(1,2)).vertices()[1])).bit_count() for D in divs[:]])\n",
    "R2.append([D.coefficient(PS(0,1)).relative_interior_contains(ray_sum(D, PS(0,1),PS(1,0), l2) - vector(D.coefficient(PS(1,1)).vertices()[0])).bit_count() for D in divs[:]])\n",
    "R2.append([D.coefficient(PS(0,1)).relative_interior_contains(ray_sum(D, PS(0,1),PS(1,0), l2) - vector(D.coefficient(PS(1,2)).vertices()[1]) - vector(D.coefficient(PS(1,1)).vertices()[0])).bit_count() for D in divs[:]])\n",
    "R3 = []\n",
    "R3.append([D.coefficient(PS(0,1)).relative_interior_contains(ray_sum(D, PS(0,1),PS(1,0), l3)).bit_count() for D in divs[:]])\n",
    "R3.append([D.coefficient(PS(0,1)).relative_interior_contains(ray_sum(D, PS(0,1),PS(1,0), l3) - vector(D.coefficient(PS(1,2)).vertices()[1])).bit_count() for D in divs[:]])\n",
    "R3.append([D.coefficient(PS(0,1)).relative_interior_contains(ray_sum(D, PS(0,1),PS(1,0), l3) - vector(D.coefficient(PS(1,1)).vertices()[0])).bit_count() for D in divs[:]])\n",
    "R3.append([D.coefficient(PS(0,1)).relative_interior_contains(ray_sum(D, PS(0,1),PS(1,0), l3) - vector(D.coefficient(PS(1,2)).vertices()[1]) - vector(D.coefficient(PS(1,1)).vertices()[0])).bit_count() for D in divs[:]])\n",
    "R4 = []\n",
    "R4.append([D.coefficient(PS(0,1)).relative_interior_contains(ray_sum(D, PS(0,1),PS(1,0), l4)).bit_count() for D in divs[:]])\n",
    "R4.append([D.coefficient(PS(0,1)).relative_interior_contains(ray_sum(D, PS(0,1),PS(1,0), l4) - vector(D.coefficient(PS(1,2)).vertices()[1])).bit_count() for D in divs[:]])\n",
    "R4.append([D.coefficient(PS(0,1)).relative_interior_contains(ray_sum(D, PS(0,1),PS(1,0), l4) - vector(D.coefficient(PS(1,1)).vertices()[0])).bit_count() for D in divs[:]])\n",
    "R4.append([D.coefficient(PS(0,1)).relative_interior_contains(ray_sum(D, PS(0,1),PS(1,0), l4) - vector(D.coefficient(PS(1,2)).vertices()[1]) - vector(D.coefficient(PS(1,1)).vertices()[0])).bit_count() for D in divs[:]])"
   ]
  },
  {
   "cell_type": "code",
   "execution_count": 14,
   "id": "2d7f9bf1-0b5e-4cd5-a3f7-9ca208043ccb",
   "metadata": {},
   "outputs": [
    {
     "data": {
      "text/plain": [
       "[[True, (0 : 1)],\n",
       " [True, (0 : 1)],\n",
       " [True, (0 : 1)],\n",
       " [True, (0 : 1)],\n",
       " [True, (0 : 1)],\n",
       " [True, (0 : 1)],\n",
       " [True, (0 : 1)],\n",
       " [True, (0 : 1)],\n",
       " [True, (0 : 1)],\n",
       " [True, (0 : 1)],\n",
       " [True, (0 : 1)],\n",
       " [True, (0 : 1)],\n",
       " [True, (0 : 1)],\n",
       " [True, (0 : 1)],\n",
       " [True, (0 : 1)],\n",
       " [True, (0 : 1)],\n",
       " [True, (0 : 1)],\n",
       " [True, (0 : 1)],\n",
       " [True, (0 : 1)],\n",
       " [True, (0 : 1)],\n",
       " [True, (0 : 1)],\n",
       " [True, (0 : 1)],\n",
       " [True, (0 : 1)],\n",
       " [True, (0 : 1)],\n",
       " [True, (0 : 1)],\n",
       " [True, (0 : 1)],\n",
       " [True, (0 : 1)],\n",
       " [True, (0 : 1)],\n",
       " [True, (0 : 1)],\n",
       " [True, (0 : 1)],\n",
       " [True, (0 : 1)],\n",
       " [True, (0 : 1)],\n",
       " [True, (0 : 1)],\n",
       " [True, (0 : 1)],\n",
       " [True, (0 : 1)],\n",
       " [True, (0 : 1)],\n",
       " [True, (0 : 1)],\n",
       " [True, (0 : 1)],\n",
       " [True, (0 : 1)],\n",
       " [True, (0 : 1)],\n",
       " [True, (0 : 1)],\n",
       " [True, (0 : 1)],\n",
       " [True, (0 : 1)],\n",
       " [True, (0 : 1)],\n",
       " [True, (0 : 1)],\n",
       " [True, (0 : 1)],\n",
       " [True, (0 : 1)],\n",
       " [True, (0 : 1)],\n",
       " [True, (0 : 1)],\n",
       " [True, (0 : 1)],\n",
       " [True, (0 : 1)],\n",
       " [True, (0 : 1)],\n",
       " [True, (0 : 1)],\n",
       " [True, (0 : 1)],\n",
       " [True, (0 : 1)],\n",
       " [True, (0 : 1)],\n",
       " [True, (0 : 1)],\n",
       " [True, (0 : 1)],\n",
       " [True, (0 : 1)],\n",
       " [True, (0 : 1)],\n",
       " [True, (0 : 1)],\n",
       " [True, (0 : 1)],\n",
       " [True, (0 : 1)],\n",
       " [True, (0 : 1)],\n",
       " [True, (0 : 1)],\n",
       " [True, (0 : 1)],\n",
       " [True, (0 : 1)],\n",
       " [True, (0 : 1)],\n",
       " [True, (0 : 1)],\n",
       " [True, (0 : 1)],\n",
       " [True, (0 : 1)],\n",
       " [True, (0 : 1)],\n",
       " [True, (0 : 1)],\n",
       " [True, (0 : 1)],\n",
       " [True, (0 : 1)],\n",
       " [True, (0 : 1)]]"
      ]
     },
     "execution_count": 14,
     "metadata": {},
     "output_type": "execute_result"
    }
   ],
   "source": [
    "[multiplicities(D,PS(0,1),PS(1,0)) for D in divs2]"
   ]
  },
  {
   "cell_type": "code",
   "execution_count": 20,
   "id": "8d4d064c-80f3-4561-a641-3aa428afd092",
   "metadata": {},
   "outputs": [
    {
     "name": "stderr",
     "output_type": "stream",
     "text": [
      "capi_return is NULL\n",
      "Call-back cb_calcfc_in__cobyla__user__routines failed.\n"
     ]
    },
    {
     "data": {
      "text/plain": [
       "[True,\n",
       " True,\n",
       " True,\n",
       " True,\n",
       " True,\n",
       " True,\n",
       " True,\n",
       " True,\n",
       " True,\n",
       " True,\n",
       " True,\n",
       " True,\n",
       " True,\n",
       " True,\n",
       " True,\n",
       " True,\n",
       " True,\n",
       " True,\n",
       " True,\n",
       " True,\n",
       " True,\n",
       " True,\n",
       " True,\n",
       " True,\n",
       " True,\n",
       " True,\n",
       " True,\n",
       " True,\n",
       " True,\n",
       " True,\n",
       " True,\n",
       " True,\n",
       " True,\n",
       " True,\n",
       " True,\n",
       " True,\n",
       " True,\n",
       " True,\n",
       " True,\n",
       " True,\n",
       " True,\n",
       " True,\n",
       " True,\n",
       " True,\n",
       " True,\n",
       " True,\n",
       " True,\n",
       " True,\n",
       " True,\n",
       " True,\n",
       " True,\n",
       " True,\n",
       " True,\n",
       " True,\n",
       " True,\n",
       " True,\n",
       " True,\n",
       " True,\n",
       " True,\n",
       " True,\n",
       " True,\n",
       " True,\n",
       " True,\n",
       " True,\n",
       " True,\n",
       " True,\n",
       " True,\n",
       " True,\n",
       " True,\n",
       " True,\n",
       " True,\n",
       " True,\n",
       " 0,\n",
       " True,\n",
       " True,\n",
       " True]"
      ]
     },
     "execution_count": 20,
     "metadata": {},
     "output_type": "execute_result"
    }
   ],
   "source": [
    "[mld_normalized_volume(D) for D in divs2]"
   ]
  },
  {
   "cell_type": "code",
   "execution_count": 18,
   "id": "785e8ba7-a45e-44d1-8972-52c48f4e0551",
   "metadata": {},
   "outputs": [
    {
     "data": {
      "text/plain": [
       "False"
      ]
     },
     "execution_count": 18,
     "metadata": {},
     "output_type": "execute_result"
    }
   ],
   "source": [
    "556*(501/509) > 557"
   ]
  },
  {
   "cell_type": "code",
   "execution_count": null,
   "id": "0481483d-4a41-4c0c-a6c1-b3bfa102555e",
   "metadata": {},
   "outputs": [],
   "source": []
  }
 ],
 "metadata": {
  "kernelspec": {
   "display_name": "SageMath 10.2",
   "language": "sage",
   "name": "sagemath"
  },
  "language_info": {
   "codemirror_mode": {
    "name": "ipython",
    "version": 3
   },
   "file_extension": ".py",
   "mimetype": "text/x-python",
   "name": "python",
   "nbconvert_exporter": "python",
   "pygments_lexer": "ipython3",
   "version": "3.11.8"
  }
 },
 "nbformat": 4,
 "nbformat_minor": 5
}
